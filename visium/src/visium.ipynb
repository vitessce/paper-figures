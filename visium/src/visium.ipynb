{
 "cells": [
  {
   "cell_type": "code",
   "execution_count": null,
   "id": "b962feca-39b8-46ff-aa26-fa04fb576f0a",
   "metadata": {
    "tags": []
   },
   "outputs": [],
   "source": [
    "# Cell type annotation with celltypist\n",
    "from anndata import read_zarr\n",
    "import celltypist\n",
    "from celltypist import models\n",
    "import scanpy as sc\n",
    "from os.path import join\n",
    "import numpy as np\n",
    "from vitessce.data_utils import (\n",
    "    VAR_CHUNK_SIZE,\n",
    ")"
   ]
  },
  {
   "cell_type": "code",
   "execution_count": null,
   "id": "dd4529cf-9370-4b9b-bb51-b3ce76b128b8",
   "metadata": {
    "tags": []
   },
   "outputs": [],
   "source": [
    "!pwd"
   ]
  },
  {
   "cell_type": "code",
   "execution_count": null,
   "id": "d1371056-f0bb-4c9a-b968-198511a4d3b7",
   "metadata": {},
   "outputs": [],
   "source": [
    "BASE_DIR = join(\"..\", \"..\", \"hubmap-publication-page\", \"data\")\n",
    "VIGNETTE_DIR = join(\"..\", \"..\", \"hubmap-publication-page\", \"vignettes\", \"vignette_02\")"
   ]
  },
  {
   "cell_type": "code",
   "execution_count": null,
   "id": "e31dc646-ef2a-48f1-997d-6188ff94f97b",
   "metadata": {
    "tags": []
   },
   "outputs": [],
   "source": [
    "PROCESSED_DIR = join(\"..\", \"data\", \"processed\")"
   ]
  },
  {
   "cell_type": "code",
   "execution_count": null,
   "id": "1ef05b20-7368-437f-9f7a-ab1a1a00baa4",
   "metadata": {},
   "outputs": [],
   "source": [
    "!cp -r {PROCESSED_DIR}/human_lymph_node_10x_visium.h5ad.zarr {BASE_DIR}/human_lymph_node_10x_visium.h5ad.zarr\n",
    "!cp -r {PROCESSED_DIR}/human_lymph_node_10x_visium.ome.zarr {BASE_DIR}/human_lymph_node_10x_visium.ome.zarr"
   ]
  },
  {
   "cell_type": "code",
   "execution_count": null,
   "id": "fda632fb-0b7d-49d7-a618-0059a3271a1b",
   "metadata": {
    "tags": []
   },
   "outputs": [],
   "source": [
    "adata = read_zarr(join(BASE_DIR, \"human_lymph_node_10x_visium.h5ad.zarr\"))\n",
    "adata"
   ]
  },
  {
   "cell_type": "code",
   "execution_count": null,
   "id": "d0a4155e-72d4-4e73-9cef-6c4c5bc9c5b8",
   "metadata": {},
   "outputs": [],
   "source": [
    "# Scale/log-normalize as required by CellTypist"
   ]
  },
  {
   "cell_type": "code",
   "execution_count": null,
   "id": "3a0ffa79-6fa7-4715-99af-90e70be3b78a",
   "metadata": {
    "tags": []
   },
   "outputs": [],
   "source": [
    "adata.X = np.expm1(adata.X)\n",
    "\n",
    "sc.pp.normalize_total(adata, inplace=True, target_sum=1e4)\n",
    "sc.pp.log1p(adata)"
   ]
  },
  {
   "cell_type": "code",
   "execution_count": null,
   "id": "617cfe86-4a27-4cff-857e-0a49dfce415d",
   "metadata": {
    "tags": []
   },
   "outputs": [],
   "source": [
    "np.expm1(adata.X).sum(axis = 1)"
   ]
  },
  {
   "cell_type": "code",
   "execution_count": null,
   "id": "6a5e43eb-35fd-44c0-a015-27314e62c222",
   "metadata": {
    "tags": []
   },
   "outputs": [],
   "source": [
    "#Download a list of models, for example, `Immune_All_Low.pkl` and `Immune_All_High.pkl`.\n",
    "models.download_models(model = ['Immune_All_Low.pkl', 'Immune_All_High.pkl'])"
   ]
  },
  {
   "cell_type": "code",
   "execution_count": null,
   "id": "0c1cb8ad-c1a5-4a6a-8846-ec6c5735553c",
   "metadata": {
    "tags": []
   },
   "outputs": [],
   "source": [
    "low_predictions = celltypist.annotate(adata, model = 'Immune_All_Low.pkl', majority_voting = True)\n",
    "adata = low_predictions.to_adata(prefix=\"low_\")\n",
    "high_predictions = celltypist.annotate(adata, model = 'Immune_All_High.pkl', majority_voting = True)\n",
    "adata = high_predictions.to_adata(prefix=\"high_\")"
   ]
  },
  {
   "cell_type": "code",
   "execution_count": null,
   "id": "1e551877-22ce-43db-9d13-42dda1175b57",
   "metadata": {
    "tags": []
   },
   "outputs": [],
   "source": [
    "predicted_adata = adata"
   ]
  },
  {
   "cell_type": "code",
   "execution_count": null,
   "id": "ce42a5f6-f793-4ffc-9ea4-e1c6143caab0",
   "metadata": {
    "tags": []
   },
   "outputs": [],
   "source": [
    "predicted_adata"
   ]
  },
  {
   "cell_type": "code",
   "execution_count": null,
   "id": "a065bc5d-aa73-4e5c-9e6a-fffbbbb3c140",
   "metadata": {
    "tags": []
   },
   "outputs": [],
   "source": [
    "predicted_adata.write_zarr(join(BASE_DIR, \"human_lymph_node_10x_visium_with_cell_types.h5ad.zarr\"), chunks=(adata.shape[0], VAR_CHUNK_SIZE))"
   ]
  },
  {
   "cell_type": "code",
   "execution_count": null,
   "id": "212e6251-3826-4735-8b67-ef4b7c29cc7d",
   "metadata": {
    "tags": []
   },
   "outputs": [],
   "source": [
    "from os.path import join\n",
    "from vitessce import (\n",
    "    VitessceConfig,\n",
    "    ViewType as vt,\n",
    "    CoordinationType as ct,\n",
    "    FileType as ft,\n",
    "    AnnDataWrapper,\n",
    "    OmeZarrWrapper,\n",
    "    hconcat,\n",
    "    vconcat,\n",
    "    BASE_URL_PLACEHOLDER,\n",
    ")\n",
    "import json"
   ]
  },
  {
   "cell_type": "code",
   "execution_count": null,
   "id": "75d88c30-86e0-4096-a589-165e8ff7eba4",
   "metadata": {
    "tags": []
   },
   "outputs": [],
   "source": [
    "processed_dir = join(\"..\", \"..\", \"..\", \"vitessce-python\", \"demos\", \"human-lymph-node-10x-visium\", \"data\", \"processed\")"
   ]
  },
  {
   "cell_type": "code",
   "execution_count": null,
   "id": "6bb161d4-f07e-4a09-83c4-961546762b94",
   "metadata": {
    "tags": []
   },
   "outputs": [],
   "source": [
    "BASE_DIR = join(\"..\", \"data\", \"processed\")"
   ]
  },
  {
   "cell_type": "code",
   "execution_count": null,
   "id": "457f84cf-8d07-4fa2-9f86-e440bcbb70f7",
   "metadata": {
    "tags": []
   },
   "outputs": [],
   "source": [
    "vc = VitessceConfig(schema_version=\"1.0.15\", name='Visium data', description='', base_dir=BASE_DIR)"
   ]
  },
  {
   "cell_type": "code",
   "execution_count": null,
   "id": "b56496d7-19d2-4dfe-948c-eb6eb44249f9",
   "metadata": {
    "tags": []
   },
   "outputs": [],
   "source": [
    "img_zarr = join(\"human_lymph_node_10x_visium.ome.zarr\")\n",
    "adata_zarr = join(\"human_lymph_node_10x_visium_with_cell_types.h5ad.zarr\")"
   ]
  },
  {
   "cell_type": "code",
   "execution_count": null,
   "id": "91bad11d-c8fc-4b50-9596-dc35b77c3423",
   "metadata": {
    "tags": []
   },
   "outputs": [],
   "source": [
    "dataset = vc.add_dataset(name='Human lymph node').add_object(AnnDataWrapper(\n",
    "    adata_path=adata_zarr,\n",
    "    obs_locations_path=\"obsm/spatial\",\n",
    "    obs_segmentations_path=\"obsm/segmentations\",\n",
    "    obs_embedding_paths=[\"obsm/X_umap\", \"obsm/X_pca\"],\n",
    "    obs_embedding_names=[\"UMAP\", \"PCA\"],\n",
    "    obs_set_paths=[\"obs/clusters\", [\"obs/high_majority_voting\", \"obs/low_majority_voting\"]],\n",
    "    obs_set_names=[\"Leiden Cluster\", \"Predicted Cell Type\"],\n",
    "    obs_feature_matrix_path=\"X\",\n",
    "    initial_feature_filter_path=\"var/highly_variable\",\n",
    "    # To be explicit that the features represent genes and gene expression, we specify that here.\n",
    "    coordination_values={\n",
    "        \"obsType\": \"spot\"\n",
    "    }\n",
    ")).add_object(OmeZarrWrapper(\n",
    "    # We next run add_object with adata_path=adt_zarr to add the cell-by-ADT matrix and associated metadata.\n",
    "    img_path=img_zarr,\n",
    "))"
   ]
  },
  {
   "cell_type": "code",
   "execution_count": null,
   "id": "152417f9-dda1-4a5c-8494-6cc0db601929",
   "metadata": {
    "tags": []
   },
   "outputs": [],
   "source": [
    "spatial_by_cellset = vc.add_view(vt.SPATIAL, dataset=dataset, x=0, y=0, w=4, h=6)\n",
    "spatial_by_expression_a = vc.add_view(vt.SPATIAL, dataset=dataset, x=4, y=0, w=4, h=6)\n",
    "spatial_by_expression_b = vc.add_view(vt.SPATIAL, dataset=dataset, x=8, y=0, w=4, h=6)\n",
    "#heatmap = vc.add_view(vt.HEATMAP, dataset=dataset).set_props(transpose=True)\n",
    "lc = vc.add_view(vt.LAYER_CONTROLLER, dataset=dataset, x=0, y=6, w=4, h=6).set_props(disableChannelsIfRgbDetected=True)\n",
    "cell_sets = vc.add_view(vt.OBS_SETS, dataset=dataset, x=4, y=6, w=4, h=6)\n",
    "feature_list = vc.add_view(vt.FEATURE_LIST, dataset=dataset, x=8, y=6, w=4, h=6)\n",
    "\n",
    "all_views = [\n",
    "    spatial_by_cellset,\n",
    "    spatial_by_expression_a,\n",
    "    spatial_by_expression_b,\n",
    "    heatmap,\n",
    "    lc,\n",
    "    cell_sets,\n",
    "    feature_list,\n",
    "]\n",
    "\n",
    "segmentation_layer = {\n",
    "    \"radius\": 65, \"stroked\": True, \"visible\": True, \"opacity\": 1\n",
    "}\n",
    "image_layer = [\n",
    "    {\n",
    "      \"type\": \"raster\",\n",
    "      \"index\": 0,\n",
    "      \"colormap\": None,\n",
    "      \"transparentColor\": None,\n",
    "      \"opacity\": 1,\n",
    "      \"domainType\": \"Min/Max\",\n",
    "      \"channels\": [\n",
    "        {\n",
    "          \"selection\": { \"c\": 0 },\n",
    "          \"color\": [\n",
    "            255,\n",
    "            0,\n",
    "            0\n",
    "          ],\n",
    "          \"visible\": True,\n",
    "          \"slider\": [\n",
    "            0,\n",
    "            255\n",
    "          ]\n",
    "        },\n",
    "        {\n",
    "          \"selection\": { \"c\": 1 },\n",
    "          \"color\": [\n",
    "            0,\n",
    "            255,\n",
    "            0\n",
    "          ],\n",
    "          \"visible\": True,\n",
    "          \"slider\": [\n",
    "            0,\n",
    "            255\n",
    "          ]\n",
    "        },\n",
    "        {\n",
    "          \"selection\": { \"c\": 2 },\n",
    "          \"color\": [\n",
    "            0,\n",
    "            0,\n",
    "            255\n",
    "          ],\n",
    "          \"visible\": True,\n",
    "          \"slider\": [\n",
    "            0,\n",
    "            255\n",
    "          ]\n",
    "        }\n",
    "      ]\n",
    "    }\n",
    "]\n",
    "\n",
    "vc.link_views(all_views, [ct.OBS_TYPE], [\"spot\"])\n",
    "vc.link_views([spatial_by_cellset, spatial_by_expression_a, spatial_by_expression_b, lc], [ct.SPATIAL_SEGMENTATION_LAYER, ct.SPATIAL_IMAGE_LAYER, ct.SPATIAL_ZOOM, ct.SPATIAL_TARGET_X, ct.SPATIAL_TARGET_Y], [segmentation_layer, image_layer, -2.598, 1008.88, 1004.69])\n",
    "vc.link_views([spatial_by_expression_a], [ct.OBS_COLOR_ENCODING, ct.FEATURE_SELECTION], [\"geneSelection\", [\"CR2\"]])\n",
    "vc.link_views([spatial_by_expression_b, feature_list], [ct.OBS_COLOR_ENCODING, ct.FEATURE_SELECTION], [\"geneSelection\", [\"FCER2\"]])\n",
    "vc.link_views([spatial_by_expression_a, spatial_by_expression_b], [ct.FEATURE_VALUE_COLORMAP_RANGE], [[0.5, 0.75]])\n",
    "\n",
    "vc.link_views([spatial_by_cellset, cell_sets], [ct.OBS_COLOR_ENCODING, ct.OBS_SET_SELECTION], [\"cellSetSelection\", [[\"Predicted Cell Type\", \"B cells\", \"Germinal center B cells\"]]])\n",
    "\n",
    "\n",
    "#vc.layout((spatial_by_cellset | spatial_by_expression_a) / (hconcat(lc, cell_sets, feature_list) | spatial_by_expression_b));"
   ]
  },
  {
   "cell_type": "code",
   "execution_count": null,
   "id": "0e4fb173-bb77-4789-894f-2025becc24db",
   "metadata": {
    "tags": []
   },
   "outputs": [],
   "source": [
    "vc.web_app()"
   ]
  },
  {
   "cell_type": "code",
   "execution_count": null,
   "id": "f3ba9688-e116-4a6a-8fe3-cdaf80a77d51",
   "metadata": {},
   "outputs": [],
   "source": [
    "os.makedirs(VIGNETTE_DIR, exist_ok=True)"
   ]
  },
  {
   "cell_type": "code",
   "execution_count": null,
   "id": "850040a5-e78f-44e3-bb56-3b1ff21db890",
   "metadata": {},
   "outputs": [],
   "source": [
    "config_dict = vc.to_dict(base_url=BASE_URL_PLACEHOLDER)\n",
    "\n",
    "# Use `open` to create a new empty file at ./exported_data/vitessce.json\n",
    "with open(join(VIGNETTE_DIR, \"visium.json\"), \"w\") as f:\n",
    "    json.dump(config_dict, f)\n"
   ]
  },
  {
   "cell_type": "code",
   "execution_count": null,
   "id": "d90fcb13-871d-4d6d-9583-3cd98d7690be",
   "metadata": {},
   "outputs": [],
   "source": [
    "vignette_md = \"\"\"---\n",
    "name: Use Case 2\n",
    "figures:\n",
    "    - name: \"Visualization\"\n",
    "      file: visium.json\n",
    "---\n",
    "\n",
    "## Spatial transcriptomics with H&E image from the human lymph node\n",
    "\n",
    "This dataset is provided by 10x Genomics as a demo of the Visium technology and thus is not intended to answer a particular biological question. Nonetheless, it can be used to validate that the expected lymph node cell types are present. According to the v1 HuBMAP ASCT+B table for lymph node (Börner et al., Nature Cell Biology 2021), CCL19 is expressed by the T Cell Zone Reticular Cell Type in the Interfollicular Cortex and Paracortical Sinus. Using CellPhoneDB (Efremova et al., Nature Protocols 2020), we can query for known receptors of this ligand, which include ACKR4, CCRL2, and CCR7. Using the spatial view in Vitessce, we can observe that CCL19 and CCR7 exhibit coexpression patterns in clusters 2 and 8 (defined by the Leiden unsupervised clustering method).\n",
    "\n",
    "\"\"\"\n",
    "\n",
    "with open(join(VIGNETTE_DIR, \"description.md\"), \"w\") as f:\n",
    "    f.write(vignette_md)\n"
   ]
  }
 ],
 "metadata": {
  "kernelspec": {
   "display_name": "Python 3 (ipykernel)",
   "language": "python",
   "name": "python3"
  },
  "language_info": {
   "codemirror_mode": {
    "name": "ipython",
    "version": 3
   },
   "file_extension": ".py",
   "mimetype": "text/x-python",
   "name": "python",
   "nbconvert_exporter": "python",
   "pygments_lexer": "ipython3",
   "version": "3.9.0"
  }
 },
 "nbformat": 4,
 "nbformat_minor": 5
}
