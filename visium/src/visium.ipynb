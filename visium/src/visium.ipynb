{
 "cells": [
  {
   "cell_type": "code",
   "execution_count": 1,
   "id": "b962feca-39b8-46ff-aa26-fa04fb576f0a",
   "metadata": {
    "tags": []
   },
   "outputs": [],
   "source": [
    "# Cell type annotation with celltypist\n",
    "from anndata import read_zarr\n",
    "import celltypist\n",
    "from celltypist import models\n",
    "import scanpy as sc\n",
    "from os.path import join\n",
    "import numpy as np\n",
    "from vitessce.data_utils import (\n",
    "    VAR_CHUNK_SIZE,\n",
    ")"
   ]
  },
  {
   "cell_type": "code",
   "execution_count": 2,
   "id": "dd4529cf-9370-4b9b-bb51-b3ce76b128b8",
   "metadata": {
    "tags": []
   },
   "outputs": [
    {
     "name": "stdout",
     "output_type": "stream",
     "text": [
      "/Users/mkeller/research/dbmi/vitessce/paper-figures/visium/src\n"
     ]
    }
   ],
   "source": [
    "!pwd"
   ]
  },
  {
   "cell_type": "code",
   "execution_count": 18,
   "id": "d1371056-f0bb-4c9a-b968-198511a4d3b7",
   "metadata": {},
   "outputs": [],
   "source": [
    "BASE_DIR = join(\"..\", \"..\", \"hubmap-publication-page\", \"data\")\n",
    "VIGNETTE_DIR = join(\"..\", \"..\", \"hubmap-publication-page\", \"vignettes\", \"vignette_02\")"
   ]
  },
  {
   "cell_type": "code",
   "execution_count": 4,
   "id": "e31dc646-ef2a-48f1-997d-6188ff94f97b",
   "metadata": {
    "tags": []
   },
   "outputs": [],
   "source": [
    "PROCESSED_DIR = join(\"..\", \"data\", \"processed\")"
   ]
  },
  {
   "cell_type": "code",
   "execution_count": 5,
   "id": "1ef05b20-7368-437f-9f7a-ab1a1a00baa4",
   "metadata": {},
   "outputs": [],
   "source": [
    "!cp -r {PROCESSED_DIR}/human_lymph_node_10x_visium.h5ad.zarr {BASE_DIR}/human_lymph_node_10x_visium.h5ad.zarr\n",
    "!cp -r {PROCESSED_DIR}/human_lymph_node_10x_visium.ome.zarr {BASE_DIR}/human_lymph_node_10x_visium.ome.zarr"
   ]
  },
  {
   "cell_type": "code",
   "execution_count": 6,
   "id": "fda632fb-0b7d-49d7-a618-0059a3271a1b",
   "metadata": {
    "tags": []
   },
   "outputs": [
    {
     "data": {
      "text/plain": [
       "AnnData object with n_obs × n_vars = 3861 × 19685\n",
       "    obs: 'clusters'\n",
       "    var: 'highly_variable'\n",
       "    obsm: 'X_hvg', 'X_pca', 'X_umap', 'segmentations', 'spatial'\n",
       "    varm: 'PCs'"
      ]
     },
     "execution_count": 6,
     "metadata": {},
     "output_type": "execute_result"
    }
   ],
   "source": [
    "adata = read_zarr(join(BASE_DIR, \"human_lymph_node_10x_visium.h5ad.zarr\"))\n",
    "adata"
   ]
  },
  {
   "cell_type": "code",
   "execution_count": 7,
   "id": "d0a4155e-72d4-4e73-9cef-6c4c5bc9c5b8",
   "metadata": {},
   "outputs": [],
   "source": [
    "# Scale/log-normalize as required by CellTypist"
   ]
  },
  {
   "cell_type": "code",
   "execution_count": 8,
   "id": "3a0ffa79-6fa7-4715-99af-90e70be3b78a",
   "metadata": {
    "tags": []
   },
   "outputs": [],
   "source": [
    "adata.X = np.expm1(adata.X)\n",
    "\n",
    "sc.pp.normalize_total(adata, inplace=True, target_sum=1e4)\n",
    "sc.pp.log1p(adata)"
   ]
  },
  {
   "cell_type": "code",
   "execution_count": 9,
   "id": "617cfe86-4a27-4cff-857e-0a49dfce415d",
   "metadata": {
    "tags": []
   },
   "outputs": [
    {
     "data": {
      "text/plain": [
       "array([ 9999.999,  9999.999,  9999.999, ..., 10000.   , 10000.001,\n",
       "       10000.   ], dtype=float32)"
      ]
     },
     "execution_count": 9,
     "metadata": {},
     "output_type": "execute_result"
    }
   ],
   "source": [
    "np.expm1(adata.X).sum(axis = 1)"
   ]
  },
  {
   "cell_type": "code",
   "execution_count": 10,
   "id": "6a5e43eb-35fd-44c0-a015-27314e62c222",
   "metadata": {
    "tags": []
   },
   "outputs": [
    {
     "name": "stderr",
     "output_type": "stream",
     "text": [
      "📜 Retrieving model list from server https://celltypist.cog.sanger.ac.uk/models/models.json\n",
      "📚 Total models in list: 19\n",
      "📂 Storing models in /Users/mkeller/.celltypist/data/models\n",
      "💾 Total models to download: 2\n",
      "💾 Downloading model [1/2]: Immune_All_Low.pkl\n",
      "💾 Downloading model [2/2]: Immune_All_High.pkl\n"
     ]
    }
   ],
   "source": [
    "#Download a list of models, for example, `Immune_All_Low.pkl` and `Immune_All_High.pkl`.\n",
    "models.download_models(model = ['Immune_All_Low.pkl', 'Immune_All_High.pkl'])"
   ]
  },
  {
   "cell_type": "code",
   "execution_count": 11,
   "id": "0c1cb8ad-c1a5-4a6a-8846-ec6c5735553c",
   "metadata": {
    "tags": []
   },
   "outputs": [
    {
     "name": "stderr",
     "output_type": "stream",
     "text": [
      "🔬 Input data has 3861 cells and 19685 genes\n",
      "🔗 Matching reference genes in the model\n",
      "🧬 5680 features used for prediction\n",
      "⚖️ Scaling input data\n",
      "🖋️ Predicting labels\n",
      "✅ Prediction done!\n",
      "👀 Can not detect a neighborhood graph, construct one before the over-clustering\n",
      "/Users/mkeller/software/miniconda3/envs/vitessce-figures-env/lib/python3.10/site-packages/umap/distances.py:1063: NumbaDeprecationWarning: \u001b[1mThe 'nopython' keyword argument was not supplied to the 'numba.jit' decorator. The implicit default value for this argument is currently False, but it will be changed to True in Numba 0.59.0. See https://numba.readthedocs.io/en/stable/reference/deprecation.html#deprecation-of-object-mode-fall-back-behaviour-when-using-jit for details.\u001b[0m\n",
      "  @numba.jit()\n",
      "/Users/mkeller/software/miniconda3/envs/vitessce-figures-env/lib/python3.10/site-packages/umap/distances.py:1071: NumbaDeprecationWarning: \u001b[1mThe 'nopython' keyword argument was not supplied to the 'numba.jit' decorator. The implicit default value for this argument is currently False, but it will be changed to True in Numba 0.59.0. See https://numba.readthedocs.io/en/stable/reference/deprecation.html#deprecation-of-object-mode-fall-back-behaviour-when-using-jit for details.\u001b[0m\n",
      "  @numba.jit()\n",
      "/Users/mkeller/software/miniconda3/envs/vitessce-figures-env/lib/python3.10/site-packages/umap/distances.py:1086: NumbaDeprecationWarning: \u001b[1mThe 'nopython' keyword argument was not supplied to the 'numba.jit' decorator. The implicit default value for this argument is currently False, but it will be changed to True in Numba 0.59.0. See https://numba.readthedocs.io/en/stable/reference/deprecation.html#deprecation-of-object-mode-fall-back-behaviour-when-using-jit for details.\u001b[0m\n",
      "  @numba.jit()\n",
      "/Users/mkeller/software/miniconda3/envs/vitessce-figures-env/lib/python3.10/site-packages/umap/umap_.py:660: NumbaDeprecationWarning: \u001b[1mThe 'nopython' keyword argument was not supplied to the 'numba.jit' decorator. The implicit default value for this argument is currently False, but it will be changed to True in Numba 0.59.0. See https://numba.readthedocs.io/en/stable/reference/deprecation.html#deprecation-of-object-mode-fall-back-behaviour-when-using-jit for details.\u001b[0m\n",
      "  @numba.jit()\n",
      "⛓️ Over-clustering input data with resolution set to 5\n",
      "🗳️ Majority voting the predictions\n",
      "✅ Majority voting done!\n",
      "🔬 Input data has 3861 cells and 19685 genes\n",
      "🔗 Matching reference genes in the model\n",
      "🧬 5680 features used for prediction\n",
      "⚖️ Scaling input data\n",
      "🖋️ Predicting labels\n",
      "✅ Prediction done!\n",
      "👀 Detected a neighborhood graph in the input object, will run over-clustering on the basis of it\n",
      "⛓️ Over-clustering input data with resolution set to 5\n",
      "🗳️ Majority voting the predictions\n",
      "✅ Majority voting done!\n"
     ]
    }
   ],
   "source": [
    "low_predictions = celltypist.annotate(adata, model = 'Immune_All_Low.pkl', majority_voting = True)\n",
    "adata = low_predictions.to_adata(prefix=\"low_\")\n",
    "high_predictions = celltypist.annotate(adata, model = 'Immune_All_High.pkl', majority_voting = True)\n",
    "adata = high_predictions.to_adata(prefix=\"high_\")"
   ]
  },
  {
   "cell_type": "code",
   "execution_count": 12,
   "id": "1e551877-22ce-43db-9d13-42dda1175b57",
   "metadata": {
    "tags": []
   },
   "outputs": [],
   "source": [
    "predicted_adata = adata"
   ]
  },
  {
   "cell_type": "code",
   "execution_count": 13,
   "id": "ce42a5f6-f793-4ffc-9ea4-e1c6143caab0",
   "metadata": {
    "tags": []
   },
   "outputs": [
    {
     "data": {
      "text/plain": [
       "AnnData object with n_obs × n_vars = 3861 × 19685\n",
       "    obs: 'clusters', 'low_predicted_labels', 'low_over_clustering', 'low_majority_voting', 'low_conf_score', 'high_predicted_labels', 'high_over_clustering', 'high_majority_voting', 'high_conf_score'\n",
       "    var: 'highly_variable'\n",
       "    uns: 'log1p', 'neighbors', 'leiden'\n",
       "    obsm: 'X_hvg', 'X_pca', 'X_umap', 'segmentations', 'spatial'\n",
       "    varm: 'PCs'\n",
       "    obsp: 'connectivities', 'distances'"
      ]
     },
     "execution_count": 13,
     "metadata": {},
     "output_type": "execute_result"
    }
   ],
   "source": [
    "predicted_adata"
   ]
  },
  {
   "cell_type": "code",
   "execution_count": 14,
   "id": "a065bc5d-aa73-4e5c-9e6a-fffbbbb3c140",
   "metadata": {
    "tags": []
   },
   "outputs": [],
   "source": [
    "predicted_adata.write_zarr(join(BASE_DIR, \"human_lymph_node_10x_visium_with_cell_types.h5ad.zarr\"), chunks=(adata.shape[0], VAR_CHUNK_SIZE))"
   ]
  },
  {
   "cell_type": "code",
   "execution_count": 19,
   "id": "212e6251-3826-4735-8b67-ef4b7c29cc7d",
   "metadata": {
    "tags": []
   },
   "outputs": [],
   "source": [
    "from os.path import join\n",
    "from vitessce import (\n",
    "    VitessceConfig,\n",
    "    ViewType as vt,\n",
    "    CoordinationType as ct,\n",
    "    FileType as ft,\n",
    "    AnnDataWrapper,\n",
    "    OmeZarrWrapper,\n",
    "    hconcat,\n",
    "    vconcat,\n",
    "    BASE_URL_PLACEHOLDER,\n",
    ")\n",
    "import json"
   ]
  },
  {
   "cell_type": "code",
   "execution_count": 34,
   "id": "457f84cf-8d07-4fa2-9f86-e440bcbb70f7",
   "metadata": {
    "tags": []
   },
   "outputs": [],
   "source": [
    "vc = VitessceConfig(schema_version=\"1.0.15\", name='Visium data', description='', base_dir=BASE_DIR)"
   ]
  },
  {
   "cell_type": "code",
   "execution_count": 35,
   "id": "b56496d7-19d2-4dfe-948c-eb6eb44249f9",
   "metadata": {
    "tags": []
   },
   "outputs": [],
   "source": [
    "img_zarr = join(\"human_lymph_node_10x_visium.ome.zarr\")\n",
    "adata_zarr = join(\"human_lymph_node_10x_visium_with_cell_types.h5ad.zarr\")"
   ]
  },
  {
   "cell_type": "code",
   "execution_count": 36,
   "id": "91bad11d-c8fc-4b50-9596-dc35b77c3423",
   "metadata": {
    "tags": []
   },
   "outputs": [],
   "source": [
    "dataset = vc.add_dataset(name='Human lymph node').add_object(AnnDataWrapper(\n",
    "    adata_path=adata_zarr,\n",
    "    obs_locations_path=\"obsm/spatial\",\n",
    "    obs_segmentations_path=\"obsm/segmentations\",\n",
    "    obs_embedding_paths=[\"obsm/X_umap\", \"obsm/X_pca\"],\n",
    "    obs_embedding_names=[\"UMAP\", \"PCA\"],\n",
    "    obs_set_paths=[\"obs/clusters\", [\"obs/high_majority_voting\", \"obs/low_majority_voting\"]],\n",
    "    obs_set_names=[\"Leiden Cluster\", \"Predicted Cell Type\"],\n",
    "    obs_feature_matrix_path=\"X\",\n",
    "    initial_feature_filter_path=\"var/highly_variable\",\n",
    "    # To be explicit that the features represent genes and gene expression, we specify that here.\n",
    "    coordination_values={\n",
    "        \"obsType\": \"spot\"\n",
    "    }\n",
    ")).add_object(OmeZarrWrapper(\n",
    "    # We next run add_object with adata_path=adt_zarr to add the cell-by-ADT matrix and associated metadata.\n",
    "    img_path=img_zarr,\n",
    "))"
   ]
  },
  {
   "cell_type": "code",
   "execution_count": 37,
   "id": "152417f9-dda1-4a5c-8494-6cc0db601929",
   "metadata": {
    "tags": []
   },
   "outputs": [],
   "source": [
    "spatial_by_cellset = vc.add_view(vt.SPATIAL, dataset=dataset, x=0, y=0, w=4, h=6)\n",
    "spatial_by_expression_a = vc.add_view(vt.SPATIAL, dataset=dataset, x=4, y=0, w=4, h=6)\n",
    "spatial_by_expression_b = vc.add_view(vt.SPATIAL, dataset=dataset, x=8, y=0, w=4, h=6)\n",
    "lc = vc.add_view(vt.LAYER_CONTROLLER, dataset=dataset, x=0, y=6, w=4, h=6).set_props(disableChannelsIfRgbDetected=True)\n",
    "cell_sets = vc.add_view(vt.OBS_SETS, dataset=dataset, x=4, y=6, w=4, h=6)\n",
    "feature_list = vc.add_view(vt.FEATURE_LIST, dataset=dataset, x=8, y=6, w=4, h=6)\n",
    "\n",
    "all_views = [\n",
    "    spatial_by_cellset,\n",
    "    spatial_by_expression_a,\n",
    "    spatial_by_expression_b,\n",
    "    lc,\n",
    "    cell_sets,\n",
    "    feature_list,\n",
    "]\n",
    "\n",
    "segmentation_layer = {\n",
    "    \"radius\": 65, \"stroked\": True, \"visible\": True, \"opacity\": 1\n",
    "}\n",
    "image_layer = [\n",
    "    {\n",
    "      \"type\": \"raster\",\n",
    "      \"index\": 0,\n",
    "      \"colormap\": None,\n",
    "      \"transparentColor\": None,\n",
    "      \"opacity\": 1,\n",
    "      \"domainType\": \"Min/Max\",\n",
    "      \"channels\": [\n",
    "        {\n",
    "          \"selection\": { \"c\": 0 },\n",
    "          \"color\": [\n",
    "            255,\n",
    "            0,\n",
    "            0\n",
    "          ],\n",
    "          \"visible\": True,\n",
    "          \"slider\": [\n",
    "            0,\n",
    "            255\n",
    "          ]\n",
    "        },\n",
    "        {\n",
    "          \"selection\": { \"c\": 1 },\n",
    "          \"color\": [\n",
    "            0,\n",
    "            255,\n",
    "            0\n",
    "          ],\n",
    "          \"visible\": True,\n",
    "          \"slider\": [\n",
    "            0,\n",
    "            255\n",
    "          ]\n",
    "        },\n",
    "        {\n",
    "          \"selection\": { \"c\": 2 },\n",
    "          \"color\": [\n",
    "            0,\n",
    "            0,\n",
    "            255\n",
    "          ],\n",
    "          \"visible\": True,\n",
    "          \"slider\": [\n",
    "            0,\n",
    "            255\n",
    "          ]\n",
    "        }\n",
    "      ]\n",
    "    }\n",
    "]\n",
    "\n",
    "vc.link_views(all_views, [ct.OBS_TYPE], [\"spot\"])\n",
    "vc.link_views([spatial_by_cellset, spatial_by_expression_a, spatial_by_expression_b, lc], [ct.SPATIAL_SEGMENTATION_LAYER, ct.SPATIAL_IMAGE_LAYER, ct.SPATIAL_ZOOM, ct.SPATIAL_TARGET_X, ct.SPATIAL_TARGET_Y], [segmentation_layer, image_layer, -2.598, 1008.88, 1004.69])\n",
    "vc.link_views([spatial_by_expression_a], [ct.OBS_COLOR_ENCODING, ct.FEATURE_SELECTION], [\"geneSelection\", [\"CR2\"]])\n",
    "vc.link_views([spatial_by_expression_b, feature_list], [ct.OBS_COLOR_ENCODING, ct.FEATURE_SELECTION], [\"geneSelection\", [\"FCER2\"]])\n",
    "vc.link_views([spatial_by_expression_a, spatial_by_expression_b], [ct.FEATURE_VALUE_COLORMAP_RANGE], [[0.5, 0.75]])\n",
    "\n",
    "vc.link_views([spatial_by_cellset, cell_sets], [ct.OBS_COLOR_ENCODING, ct.OBS_SET_SELECTION], [\"cellSetSelection\", [[\"Predicted Cell Type\", \"B cells\", \"Germinal center B cells\"]]])\n",
    "\n",
    "\n",
    "vc.layout(hconcat(spatial_by_cellset, spatial_by_expression_a, spatial_by_expression_b) / hconcat(lc, cell_sets, feature_list));"
   ]
  },
  {
   "cell_type": "code",
   "execution_count": 38,
   "id": "0e4fb173-bb77-4789-894f-2025becc24db",
   "metadata": {
    "tags": []
   },
   "outputs": [
    {
     "data": {
      "text/plain": [
       "'http://vitessce.io/#?theme=light&url=data:,%7B%22version%22%3A+%221.0.15%22%2C+%22name%22%3A+%22Visium+data%22%2C+%22description%22%3A+%22%22%2C+%22datasets%22%3A+%5B%7B%22uid%22%3A+%22A%22%2C+%22name%22%3A+%22Human+lymph+node%22%2C+%22files%22%3A+%5B%7B%22fileType%22%3A+%22anndata.zarr%22%2C+%22url%22%3A+%22http%3A%2F%2Flocalhost%3A8006%2Fhuman_lymph_node_10x_visium_with_cell_types.h5ad.zarr%22%2C+%22options%22%3A+%7B%22obsLocations%22%3A+%7B%22path%22%3A+%22obsm%2Fspatial%22%7D%2C+%22obsSegmentations%22%3A+%7B%22path%22%3A+%22obsm%2Fsegmentations%22%7D%2C+%22obsEmbedding%22%3A+%5B%7B%22path%22%3A+%22obsm%2FX_umap%22%2C+%22dims%22%3A+%5B0%2C+1%5D%2C+%22embeddingType%22%3A+%22UMAP%22%7D%2C+%7B%22path%22%3A+%22obsm%2FX_pca%22%2C+%22dims%22%3A+%5B0%2C+1%5D%2C+%22embeddingType%22%3A+%22PCA%22%7D%5D%2C+%22obsSets%22%3A+%5B%7B%22name%22%3A+%22Leiden+Cluster%22%2C+%22path%22%3A+%22obs%2Fclusters%22%7D%2C+%7B%22name%22%3A+%22Predicted+Cell+Type%22%2C+%22path%22%3A+%5B%22obs%2Fhigh_majority_voting%22%2C+%22obs%2Flow_majority_voting%22%5D%7D%5D%2C+%22obsFeatureMatrix%22%3A+%7B%22path%22%3A+%22X%22%2C+%22initialFeatureFilterPath%22%3A+%22var%2Fhighly_variable%22%7D%7D%2C+%22coordinationValues%22%3A+%7B%22obsType%22%3A+%22spot%22%7D%7D%2C+%7B%22fileType%22%3A+%22image.ome-zarr%22%2C+%22url%22%3A+%22http%3A%2F%2Flocalhost%3A8006%2Fhuman_lymph_node_10x_visium.ome.zarr%22%7D%5D%7D%5D%2C+%22coordinationSpace%22%3A+%7B%22dataset%22%3A+%7B%22A%22%3A+%22A%22%7D%2C+%22obsType%22%3A+%7B%22A%22%3A+%22spot%22%7D%2C+%22spatialSegmentationLayer%22%3A+%7B%22A%22%3A+%7B%22radius%22%3A+65%2C+%22stroked%22%3A+true%2C+%22visible%22%3A+true%2C+%22opacity%22%3A+1%7D%7D%2C+%22spatialImageLayer%22%3A+%7B%22A%22%3A+%5B%7B%22type%22%3A+%22raster%22%2C+%22index%22%3A+0%2C+%22colormap%22%3A+null%2C+%22transparentColor%22%3A+null%2C+%22opacity%22%3A+1%2C+%22domainType%22%3A+%22Min%2FMax%22%2C+%22channels%22%3A+%5B%7B%22selection%22%3A+%7B%22c%22%3A+0%7D%2C+%22color%22%3A+%5B255%2C+0%2C+0%5D%2C+%22visible%22%3A+true%2C+%22slider%22%3A+%5B0%2C+255%5D%7D%2C+%7B%22selection%22%3A+%7B%22c%22%3A+1%7D%2C+%22color%22%3A+%5B0%2C+255%2C+0%5D%2C+%22visible%22%3A+true%2C+%22slider%22%3A+%5B0%2C+255%5D%7D%2C+%7B%22selection%22%3A+%7B%22c%22%3A+2%7D%2C+%22color%22%3A+%5B0%2C+0%2C+255%5D%2C+%22visible%22%3A+true%2C+%22slider%22%3A+%5B0%2C+255%5D%7D%5D%7D%5D%7D%2C+%22spatialZoom%22%3A+%7B%22A%22%3A+-2.598%7D%2C+%22spatialTargetX%22%3A+%7B%22A%22%3A+1008.88%7D%2C+%22spatialTargetY%22%3A+%7B%22A%22%3A+1004.69%7D%2C+%22obsColorEncoding%22%3A+%7B%22A%22%3A+%22geneSelection%22%2C+%22B%22%3A+%22geneSelection%22%2C+%22C%22%3A+%22cellSetSelection%22%7D%2C+%22featureSelection%22%3A+%7B%22A%22%3A+%5B%22CR2%22%5D%2C+%22B%22%3A+%5B%22FCER2%22%5D%7D%2C+%22featureValueColormapRange%22%3A+%7B%22A%22%3A+%5B0.5%2C+0.75%5D%7D%2C+%22obsSetSelection%22%3A+%7B%22A%22%3A+%5B%5B%22Predicted+Cell+Type%22%2C+%22B+cells%22%2C+%22Germinal+center+B+cells%22%5D%5D%7D%7D%2C+%22layout%22%3A+%5B%7B%22component%22%3A+%22spatial%22%2C+%22coordinationScopes%22%3A+%7B%22dataset%22%3A+%22A%22%2C+%22obsType%22%3A+%22A%22%2C+%22spatialSegmentationLayer%22%3A+%22A%22%2C+%22spatialImageLayer%22%3A+%22A%22%2C+%22spatialZoom%22%3A+%22A%22%2C+%22spatialTargetX%22%3A+%22A%22%2C+%22spatialTargetY%22%3A+%22A%22%2C+%22obsColorEncoding%22%3A+%22C%22%2C+%22obsSetSelection%22%3A+%22A%22%7D%2C+%22x%22%3A+0.0%2C+%22y%22%3A+0.0%2C+%22w%22%3A+4.0%2C+%22h%22%3A+6.0%7D%2C+%7B%22component%22%3A+%22spatial%22%2C+%22coordinationScopes%22%3A+%7B%22dataset%22%3A+%22A%22%2C+%22obsType%22%3A+%22A%22%2C+%22spatialSegmentationLayer%22%3A+%22A%22%2C+%22spatialImageLayer%22%3A+%22A%22%2C+%22spatialZoom%22%3A+%22A%22%2C+%22spatialTargetX%22%3A+%22A%22%2C+%22spatialTargetY%22%3A+%22A%22%2C+%22obsColorEncoding%22%3A+%22A%22%2C+%22featureSelection%22%3A+%22A%22%2C+%22featureValueColormapRange%22%3A+%22A%22%7D%2C+%22x%22%3A+4.0%2C+%22y%22%3A+0.0%2C+%22w%22%3A+4.0%2C+%22h%22%3A+6.0%7D%2C+%7B%22component%22%3A+%22spatial%22%2C+%22coordinationScopes%22%3A+%7B%22dataset%22%3A+%22A%22%2C+%22obsType%22%3A+%22A%22%2C+%22spatialSegmentationLayer%22%3A+%22A%22%2C+%22spatialImageLayer%22%3A+%22A%22%2C+%22spatialZoom%22%3A+%22A%22%2C+%22spatialTargetX%22%3A+%22A%22%2C+%22spatialTargetY%22%3A+%22A%22%2C+%22obsColorEncoding%22%3A+%22B%22%2C+%22featureSelection%22%3A+%22B%22%2C+%22featureValueColormapRange%22%3A+%22A%22%7D%2C+%22x%22%3A+8.0%2C+%22y%22%3A+0.0%2C+%22w%22%3A+4.0%2C+%22h%22%3A+6.0%7D%2C+%7B%22component%22%3A+%22layerController%22%2C+%22coordinationScopes%22%3A+%7B%22dataset%22%3A+%22A%22%2C+%22obsType%22%3A+%22A%22%2C+%22spatialSegmentationLayer%22%3A+%22A%22%2C+%22spatialImageLayer%22%3A+%22A%22%2C+%22spatialZoom%22%3A+%22A%22%2C+%22spatialTargetX%22%3A+%22A%22%2C+%22spatialTargetY%22%3A+%22A%22%7D%2C+%22x%22%3A+0.0%2C+%22y%22%3A+6.0%2C+%22w%22%3A+4.0%2C+%22h%22%3A+6.0%2C+%22props%22%3A+%7B%22disableChannelsIfRgbDetected%22%3A+true%7D%7D%2C+%7B%22component%22%3A+%22obsSets%22%2C+%22coordinationScopes%22%3A+%7B%22dataset%22%3A+%22A%22%2C+%22obsType%22%3A+%22A%22%2C+%22obsColorEncoding%22%3A+%22C%22%2C+%22obsSetSelection%22%3A+%22A%22%7D%2C+%22x%22%3A+4.0%2C+%22y%22%3A+6.0%2C+%22w%22%3A+4.0%2C+%22h%22%3A+6.0%7D%2C+%7B%22component%22%3A+%22featureList%22%2C+%22coordinationScopes%22%3A+%7B%22dataset%22%3A+%22A%22%2C+%22obsType%22%3A+%22A%22%2C+%22obsColorEncoding%22%3A+%22B%22%2C+%22featureSelection%22%3A+%22B%22%7D%2C+%22x%22%3A+8.0%2C+%22y%22%3A+6.0%2C+%22w%22%3A+4.0%2C+%22h%22%3A+6.0%7D%5D%2C+%22initStrategy%22%3A+%22auto%22%7D'"
      ]
     },
     "execution_count": 38,
     "metadata": {},
     "output_type": "execute_result"
    }
   ],
   "source": [
    "vc.web_app()"
   ]
  },
  {
   "cell_type": "code",
   "execution_count": null,
   "id": "f3ba9688-e116-4a6a-8fe3-cdaf80a77d51",
   "metadata": {},
   "outputs": [],
   "source": [
    "os.makedirs(VIGNETTE_DIR, exist_ok=True)"
   ]
  },
  {
   "cell_type": "code",
   "execution_count": null,
   "id": "850040a5-e78f-44e3-bb56-3b1ff21db890",
   "metadata": {},
   "outputs": [],
   "source": [
    "config_dict = vc.to_dict(base_url=BASE_URL_PLACEHOLDER)\n",
    "\n",
    "# Use `open` to create a new empty file at ./exported_data/vitessce.json\n",
    "with open(join(VIGNETTE_DIR, \"visium.json\"), \"w\") as f:\n",
    "    json.dump(config_dict, f)\n"
   ]
  },
  {
   "cell_type": "code",
   "execution_count": null,
   "id": "d90fcb13-871d-4d6d-9583-3cd98d7690be",
   "metadata": {},
   "outputs": [],
   "source": [
    "vignette_md = \"\"\"---\n",
    "name: Use Case 2\n",
    "figures:\n",
    "    - name: \"Visualization\"\n",
    "      file: visium.json\n",
    "---\n",
    "\n",
    "## Spatial transcriptomics with H&E image from the human lymph node\n",
    "\n",
    "This dataset is provided by 10x Genomics as a demo of the Visium technology and thus is not intended to answer a particular biological question. Nonetheless, it can be used to validate that the expected lymph node cell types are present. According to the v1 HuBMAP ASCT+B table for lymph node (Börner et al., Nature Cell Biology 2021), CCL19 is expressed by the T Cell Zone Reticular Cell Type in the Interfollicular Cortex and Paracortical Sinus. Using CellPhoneDB (Efremova et al., Nature Protocols 2020), we can query for known receptors of this ligand, which include ACKR4, CCRL2, and CCR7. Using the spatial view in Vitessce, we can observe that CCL19 and CCR7 exhibit coexpression patterns in clusters 2 and 8 (defined by the Leiden unsupervised clustering method).\n",
    "\n",
    "\"\"\"\n",
    "\n",
    "with open(join(VIGNETTE_DIR, \"description.md\"), \"w\") as f:\n",
    "    f.write(vignette_md)\n"
   ]
  }
 ],
 "metadata": {
  "kernelspec": {
   "display_name": "Python 3 (ipykernel)",
   "language": "python",
   "name": "python3"
  },
  "language_info": {
   "codemirror_mode": {
    "name": "ipython",
    "version": 3
   },
   "file_extension": ".py",
   "mimetype": "text/x-python",
   "name": "python",
   "nbconvert_exporter": "python",
   "pygments_lexer": "ipython3",
   "version": "3.10.0"
  }
 },
 "nbformat": 4,
 "nbformat_minor": 5
}
