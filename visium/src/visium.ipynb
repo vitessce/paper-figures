{
 "cells": [
  {
   "cell_type": "code",
   "execution_count": 38,
   "id": "dd4529cf-9370-4b9b-bb51-b3ce76b128b8",
   "metadata": {
    "tags": []
   },
   "outputs": [
    {
     "name": "stdout",
     "output_type": "stream",
     "text": [
      "/Users/mkeller/research/dbmi/vitessce/paper-figures/visium/src\n"
     ]
    }
   ],
   "source": [
    "!pwd"
   ]
  },
  {
   "cell_type": "code",
   "execution_count": 48,
   "id": "212e6251-3826-4735-8b67-ef4b7c29cc7d",
   "metadata": {
    "tags": []
   },
   "outputs": [],
   "source": [
    "from os.path import join\n",
    "from vitessce import (\n",
    "    VitessceConfig,\n",
    "    ViewType as vt,\n",
    "    CoordinationType as ct,\n",
    "    FileType as ft,\n",
    "    AnnDataWrapper,\n",
    "    OmeZarrWrapper,\n",
    "    hconcat,\n",
    "    vconcat,\n",
    ")"
   ]
  },
  {
   "cell_type": "code",
   "execution_count": 49,
   "id": "75d88c30-86e0-4096-a589-165e8ff7eba4",
   "metadata": {
    "tags": []
   },
   "outputs": [],
   "source": [
    "processed_dir = join(\"..\", \"..\", \"..\", \"vitessce-python\", \"demos\", \"human-lymph-node-10x-visium\", \"data\", \"processed\")"
   ]
  },
  {
   "cell_type": "code",
   "execution_count": 50,
   "id": "457f84cf-8d07-4fa2-9f86-e440bcbb70f7",
   "metadata": {
    "tags": []
   },
   "outputs": [],
   "source": [
    "vc = VitessceConfig(schema_version=\"1.0.15\", name='Visium data', description='')"
   ]
  },
  {
   "cell_type": "code",
   "execution_count": 51,
   "id": "b56496d7-19d2-4dfe-948c-eb6eb44249f9",
   "metadata": {
    "tags": []
   },
   "outputs": [],
   "source": [
    "img_zarr = join(processed_dir, \"human_lymph_node_10x_visium.ome.zarr\")\n",
    "adata_zarr = join(processed_dir, \"human_lymph_node_10x_visium.h5ad.zarr\")"
   ]
  },
  {
   "cell_type": "code",
   "execution_count": 52,
   "id": "91bad11d-c8fc-4b50-9596-dc35b77c3423",
   "metadata": {
    "tags": []
   },
   "outputs": [],
   "source": [
    "dataset = vc.add_dataset(name='Human lymph node').add_object(AnnDataWrapper(\n",
    "    adata_path=adata_zarr,\n",
    "    obs_locations_path=\"obsm/spatial\",\n",
    "    obs_segmentations_path=\"obsm/segmentations\",\n",
    "    obs_embedding_paths=[\"obsm/X_umap\", \"obsm/X_pca\"],\n",
    "    obs_embedding_names=[\"UMAP\", \"PCA\"],\n",
    "    obs_set_paths=[\"obs/clusters\"],\n",
    "    obs_set_names=[\"Leiden Cluster\"],\n",
    "    obs_feature_matrix_path=\"X\",\n",
    "    initial_feature_filter_path=\"var/highly_variable\",\n",
    "    # To be explicit that the features represent genes and gene expression, we specify that here.\n",
    "    coordination_values={\n",
    "        \"obsType\": \"spot\"\n",
    "    }\n",
    ")).add_object(OmeZarrWrapper(\n",
    "    # We next run add_object with adata_path=adt_zarr to add the cell-by-ADT matrix and associated metadata.\n",
    "    img_path=img_zarr,\n",
    "))"
   ]
  },
  {
   "cell_type": "code",
   "execution_count": 53,
   "id": "152417f9-dda1-4a5c-8494-6cc0db601929",
   "metadata": {
    "tags": []
   },
   "outputs": [],
   "source": [
    "spatial_by_cellset = vc.add_view(vt.SPATIAL, dataset=dataset)\n",
    "spatial_by_expression = vc.add_view(vt.SPATIAL, dataset=dataset)\n",
    "heatmap = vc.add_view(vt.HEATMAP, dataset=dataset).set_props(transpose=True)\n",
    "lc = vc.add_view(vt.LAYER_CONTROLLER, dataset=dataset).set_props(disableChannelsIfRgbDetected=True)\n",
    "cell_sets = vc.add_view(vt.OBS_SETS, dataset=dataset)\n",
    "feature_list = vc.add_view(vt.FEATURE_LIST, dataset=dataset)\n",
    "\n",
    "all_views = [\n",
    "    spatial_by_cellset,\n",
    "    spatial_by_expression,\n",
    "    heatmap,\n",
    "    lc,\n",
    "    cell_sets,\n",
    "    feature_list,\n",
    "]\n",
    "\n",
    "segmentation_layer = {\n",
    "    \"radius\": 65, \"stroked\": True, \"visible\": True, \"opacity\": 1\n",
    "}\n",
    "image_layer = [\n",
    "    {\n",
    "      \"type\": \"raster\",\n",
    "      \"index\": 0,\n",
    "      \"colormap\": None,\n",
    "      \"transparentColor\": None,\n",
    "      \"opacity\": 1,\n",
    "      \"domainType\": \"Min/Max\",\n",
    "      \"channels\": [\n",
    "        {\n",
    "          \"selection\": { \"c\": 0 },\n",
    "          \"color\": [\n",
    "            255,\n",
    "            0,\n",
    "            0\n",
    "          ],\n",
    "          \"visible\": True,\n",
    "          \"slider\": [\n",
    "            0,\n",
    "            255\n",
    "          ]\n",
    "        },\n",
    "        {\n",
    "          \"selection\": { \"c\": 1 },\n",
    "          \"color\": [\n",
    "            0,\n",
    "            255,\n",
    "            0\n",
    "          ],\n",
    "          \"visible\": True,\n",
    "          \"slider\": [\n",
    "            0,\n",
    "            255\n",
    "          ]\n",
    "        },\n",
    "        {\n",
    "          \"selection\": { \"c\": 2 },\n",
    "          \"color\": [\n",
    "            0,\n",
    "            0,\n",
    "            255\n",
    "          ],\n",
    "          \"visible\": True,\n",
    "          \"slider\": [\n",
    "            0,\n",
    "            255\n",
    "          ]\n",
    "        }\n",
    "      ]\n",
    "    }\n",
    "]\n",
    "\n",
    "vc.link_views(all_views, [ct.OBS_TYPE], [\"spot\"])\n",
    "vc.link_views([spatial_by_cellset, spatial_by_expression, lc], [ct.SPATIAL_SEGMENTATION_LAYER, ct.SPATIAL_IMAGE_LAYER, ct.SPATIAL_ZOOM, ct.SPATIAL_TARGET_X, ct.SPATIAL_TARGET_Y], [segmentation_layer, image_layer, -2.598, 1008.88, 1004.69])\n",
    "vc.link_views([spatial_by_expression, feature_list], [ct.OBS_COLOR_ENCODING, ct.FEATURE_SELECTION], [\"geneSelection\", [\"CR2\"]])\n",
    "vc.link_views([spatial_by_cellset, cell_sets], [ct.OBS_COLOR_ENCODING], [\"cellSetSelection\"])\n",
    "\n",
    "\n",
    "vc.layout((spatial_by_cellset | spatial_by_expression) / (hconcat(lc, cell_sets, feature_list) | heatmap));"
   ]
  },
  {
   "cell_type": "code",
   "execution_count": 54,
   "id": "0e4fb173-bb77-4789-894f-2025becc24db",
   "metadata": {
    "tags": []
   },
   "outputs": [
    {
     "data": {
      "text/plain": [
       "'http://vitessce.io/#?theme=light&url=data:,%7B%22version%22%3A+%221.0.15%22%2C+%22name%22%3A+%22Visium+data%22%2C+%22description%22%3A+%22%22%2C+%22datasets%22%3A+%5B%7B%22uid%22%3A+%22A%22%2C+%22name%22%3A+%22Human+lymph+node%22%2C+%22files%22%3A+%5B%7B%22fileType%22%3A+%22anndata.zarr%22%2C+%22url%22%3A+%22http%3A%2F%2Flocalhost%3A8009%2FA%2F0%2F866d513d-2dc7-4e16-b268-6bafdbe1aa62%22%2C+%22options%22%3A+%7B%22obsLocations%22%3A+%7B%22path%22%3A+%22obsm%2Fspatial%22%7D%2C+%22obsSegmentations%22%3A+%7B%22path%22%3A+%22obsm%2Fsegmentations%22%7D%2C+%22obsEmbedding%22%3A+%5B%7B%22path%22%3A+%22obsm%2FX_umap%22%2C+%22dims%22%3A+%5B0%2C+1%5D%2C+%22embeddingType%22%3A+%22UMAP%22%7D%2C+%7B%22path%22%3A+%22obsm%2FX_pca%22%2C+%22dims%22%3A+%5B0%2C+1%5D%2C+%22embeddingType%22%3A+%22PCA%22%7D%5D%2C+%22obsSets%22%3A+%5B%7B%22name%22%3A+%22Leiden+Cluster%22%2C+%22path%22%3A+%22obs%2Fclusters%22%7D%5D%2C+%22obsFeatureMatrix%22%3A+%7B%22path%22%3A+%22X%22%2C+%22initialFeatureFilterPath%22%3A+%22var%2Fhighly_variable%22%7D%7D%2C+%22coordinationValues%22%3A+%7B%22obsType%22%3A+%22spot%22%7D%7D%2C+%7B%22fileType%22%3A+%22image.ome-zarr%22%2C+%22url%22%3A+%22http%3A%2F%2Flocalhost%3A8009%2FA%2F1%2F0cb363c5-5125-4af4-af2d-5a0a5a208da3%22%7D%5D%7D%5D%2C+%22coordinationSpace%22%3A+%7B%22dataset%22%3A+%7B%22A%22%3A+%22A%22%7D%2C+%22obsType%22%3A+%7B%22A%22%3A+%22spot%22%7D%2C+%22spatialSegmentationLayer%22%3A+%7B%22A%22%3A+%7B%22radius%22%3A+65%2C+%22stroked%22%3A+true%2C+%22visible%22%3A+true%2C+%22opacity%22%3A+1%7D%7D%2C+%22spatialImageLayer%22%3A+%7B%22A%22%3A+%5B%7B%22type%22%3A+%22raster%22%2C+%22index%22%3A+0%2C+%22colormap%22%3A+null%2C+%22transparentColor%22%3A+null%2C+%22opacity%22%3A+1%2C+%22domainType%22%3A+%22Min%2FMax%22%2C+%22channels%22%3A+%5B%7B%22selection%22%3A+%7B%22c%22%3A+0%7D%2C+%22color%22%3A+%5B255%2C+0%2C+0%5D%2C+%22visible%22%3A+true%2C+%22slider%22%3A+%5B0%2C+255%5D%7D%2C+%7B%22selection%22%3A+%7B%22c%22%3A+1%7D%2C+%22color%22%3A+%5B0%2C+255%2C+0%5D%2C+%22visible%22%3A+true%2C+%22slider%22%3A+%5B0%2C+255%5D%7D%2C+%7B%22selection%22%3A+%7B%22c%22%3A+2%7D%2C+%22color%22%3A+%5B0%2C+0%2C+255%5D%2C+%22visible%22%3A+true%2C+%22slider%22%3A+%5B0%2C+255%5D%7D%5D%7D%5D%7D%2C+%22spatialZoom%22%3A+%7B%22A%22%3A+-2.598%7D%2C+%22spatialTargetX%22%3A+%7B%22A%22%3A+1008.88%7D%2C+%22spatialTargetY%22%3A+%7B%22A%22%3A+1004.69%7D%2C+%22obsColorEncoding%22%3A+%7B%22A%22%3A+%22geneSelection%22%2C+%22B%22%3A+%22cellSetSelection%22%7D%2C+%22featureSelection%22%3A+%7B%22A%22%3A+%5B%22CR2%22%5D%7D%7D%2C+%22layout%22%3A+%5B%7B%22component%22%3A+%22spatial%22%2C+%22coordinationScopes%22%3A+%7B%22dataset%22%3A+%22A%22%2C+%22obsType%22%3A+%22A%22%2C+%22spatialSegmentationLayer%22%3A+%22A%22%2C+%22spatialImageLayer%22%3A+%22A%22%2C+%22spatialZoom%22%3A+%22A%22%2C+%22spatialTargetX%22%3A+%22A%22%2C+%22spatialTargetY%22%3A+%22A%22%2C+%22obsColorEncoding%22%3A+%22B%22%7D%2C+%22x%22%3A+0.0%2C+%22y%22%3A+0.0%2C+%22w%22%3A+6.0%2C+%22h%22%3A+6.0%7D%2C+%7B%22component%22%3A+%22spatial%22%2C+%22coordinationScopes%22%3A+%7B%22dataset%22%3A+%22A%22%2C+%22obsType%22%3A+%22A%22%2C+%22spatialSegmentationLayer%22%3A+%22A%22%2C+%22spatialImageLayer%22%3A+%22A%22%2C+%22spatialZoom%22%3A+%22A%22%2C+%22spatialTargetX%22%3A+%22A%22%2C+%22spatialTargetY%22%3A+%22A%22%2C+%22obsColorEncoding%22%3A+%22A%22%2C+%22featureSelection%22%3A+%22A%22%7D%2C+%22x%22%3A+6.0%2C+%22y%22%3A+0.0%2C+%22w%22%3A+6.0%2C+%22h%22%3A+6.0%7D%2C+%7B%22component%22%3A+%22heatmap%22%2C+%22coordinationScopes%22%3A+%7B%22dataset%22%3A+%22A%22%2C+%22obsType%22%3A+%22A%22%7D%2C+%22x%22%3A+6.0%2C+%22y%22%3A+6.0%2C+%22w%22%3A+6.0%2C+%22h%22%3A+6.0%2C+%22props%22%3A+%7B%22transpose%22%3A+true%7D%7D%2C+%7B%22component%22%3A+%22layerController%22%2C+%22coordinationScopes%22%3A+%7B%22dataset%22%3A+%22A%22%2C+%22obsType%22%3A+%22A%22%2C+%22spatialSegmentationLayer%22%3A+%22A%22%2C+%22spatialImageLayer%22%3A+%22A%22%2C+%22spatialZoom%22%3A+%22A%22%2C+%22spatialTargetX%22%3A+%22A%22%2C+%22spatialTargetY%22%3A+%22A%22%7D%2C+%22x%22%3A+0.0%2C+%22y%22%3A+6.0%2C+%22w%22%3A+2.0%2C+%22h%22%3A+6.0%2C+%22props%22%3A+%7B%22disableChannelsIfRgbDetected%22%3A+true%7D%7D%2C+%7B%22component%22%3A+%22obsSets%22%2C+%22coordinationScopes%22%3A+%7B%22dataset%22%3A+%22A%22%2C+%22obsType%22%3A+%22A%22%2C+%22obsColorEncoding%22%3A+%22B%22%7D%2C+%22x%22%3A+2.0%2C+%22y%22%3A+6.0%2C+%22w%22%3A+2.0%2C+%22h%22%3A+6.0%7D%2C+%7B%22component%22%3A+%22featureList%22%2C+%22coordinationScopes%22%3A+%7B%22dataset%22%3A+%22A%22%2C+%22obsType%22%3A+%22A%22%2C+%22obsColorEncoding%22%3A+%22A%22%2C+%22featureSelection%22%3A+%22A%22%7D%2C+%22x%22%3A+4.0%2C+%22y%22%3A+6.0%2C+%22w%22%3A+2.0%2C+%22h%22%3A+6.0%7D%5D%2C+%22initStrategy%22%3A+%22auto%22%7D'"
      ]
     },
     "execution_count": 54,
     "metadata": {},
     "output_type": "execute_result"
    }
   ],
   "source": [
    "vc.web_app()"
   ]
  },
  {
   "cell_type": "code",
   "execution_count": null,
   "id": "850040a5-e78f-44e3-bb56-3b1ff21db890",
   "metadata": {},
   "outputs": [],
   "source": []
  }
 ],
 "metadata": {
  "kernelspec": {
   "display_name": "Python 3 (ipykernel)",
   "language": "python",
   "name": "python3"
  },
  "language_info": {
   "codemirror_mode": {
    "name": "ipython",
    "version": 3
   },
   "file_extension": ".py",
   "mimetype": "text/x-python",
   "name": "python",
   "nbconvert_exporter": "python",
   "pygments_lexer": "ipython3",
   "version": "3.9.0"
  }
 },
 "nbformat": 4,
 "nbformat_minor": 5
}
