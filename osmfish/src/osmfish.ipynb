{
 "cells": [
  {
   "cell_type": "code",
   "execution_count": 1,
   "id": "1b8231d8-c50b-46c8-8a2f-af1c3d43d3d0",
   "metadata": {
    "tags": []
   },
   "outputs": [
    {
     "name": "stdout",
     "output_type": "stream",
     "text": [
      "/Users/mkeller/research/dbmi/vitessce/paper-figures/osmfish/src\n"
     ]
    }
   ],
   "source": [
    "!pwd"
   ]
  },
  {
   "cell_type": "code",
   "execution_count": 2,
   "id": "e10b3424-1bbe-4026-9634-c87167dcc324",
   "metadata": {
    "tags": []
   },
   "outputs": [],
   "source": [
    "from vitessce import (\n",
    "    VitessceConfig,\n",
    "    ViewType as vt,\n",
    "    CoordinationType as ct,\n",
    "    DataType as dt,\n",
    "    FileType as ft,\n",
    "    AnnDataWrapper,\n",
    "    OmeZarrWrapper,\n",
    "    BASE_URL_PLACEHOLDER\n",
    ")\n",
    "from os.path import join\n",
    "import json"
   ]
  },
  {
   "cell_type": "code",
   "execution_count": 3,
   "id": "42caff60-5c0b-4515-9d13-a3659c50c8b7",
   "metadata": {
    "tags": []
   },
   "outputs": [],
   "source": [
    "cells_zarr = \"codeluppi_2018_nature_methods.cells.h5ad.zarr\"\n",
    "molecules_zarr = \"codeluppi_2018_nature_methods.molecules.h5ad.zarr\"\n",
    "image_zarr = \"codeluppi_2018_nature_methods.image.ome.zarr\""
   ]
  },
  {
   "cell_type": "code",
   "execution_count": 5,
   "id": "ce935094-21d4-42c1-b55a-bddadbfce287",
   "metadata": {
    "tags": []
   },
   "outputs": [],
   "source": [
    "BASE_DIR = join(\"..\", \"data\", \"processed\")"
   ]
  },
  {
   "cell_type": "code",
   "execution_count": 31,
   "id": "f3156842-26c5-4688-a49e-f2064be82a12",
   "metadata": {
    "tags": []
   },
   "outputs": [
    {
     "data": {
      "text/plain": [
       "<vitessce.config.VitessceConfig at 0x7fa5df918790>"
      ]
     },
     "execution_count": 31,
     "metadata": {},
     "output_type": "execute_result"
    }
   ],
   "source": [
    "vc = VitessceConfig(schema_version=\"1.0.15\", name=\"Codeluppi et al.\", description=\"osmFISH\", base_dir=BASE_DIR)\n",
    "dataset = vc.add_dataset(name=\"osmFISH\").add_object(AnnDataWrapper(\n",
    "    adata_path=cells_zarr,\n",
    "    obs_feature_matrix_path=\"layers/X_uint8\",\n",
    "    obs_segmentations_path=\"obsm/X_segmentations\",\n",
    "    obs_locations_path=\"obsm/X_spatial\",\n",
    "    obs_embedding_paths=[\"obsm/X_pca\", \"obsm/X_tsne\"],\n",
    "    obs_embedding_names=[\"PCA\", \"t-SNE\"],\n",
    "    obs_set_paths=[[\"obs/Cluster\", \"obs/Subcluster\"]],\n",
    "    obs_set_names=[\"Cell Type\"],\n",
    ")).add_object(\n",
    "    OmeZarrWrapper(img_path=image_zarr),\n",
    ")\n",
    "\"\"\".add_object(AnnDataWrapper(\n",
    "    adata_path=molecules_zarr,\n",
    "    obs_locations_path=\"obsm/X_spatial\",\n",
    "    obs_labels_path=[\"obs/Gene\"],\n",
    "    coordination_values={\n",
    "        \"obsType\": \"molecule\"\n",
    "    }\n",
    "))\n",
    "\"\"\"\n",
    "\n",
    "#status = vc.add_view(vt.STATUS, dataset=dataset, x=0, y=5, w=2, h=1)\n",
    "#description = vc.add_view(vt.DESCRIPTION, dataset=dataset, x=0, y=0, w=2, h=1)\n",
    "#heatmap = vc.add_view(vt.HEATMAP, dataset=dataset, x=2, y=4, w=5, h=2).set_props(transpose=True)\n",
    "\n",
    "lc = vc.add_view(vt.LAYER_CONTROLLER, dataset=dataset, x=0, y=0, w=3, h=4)\n",
    "feature_list = vc.add_view(vt.FEATURE_LIST, dataset=dataset, x=0, y=4, w=3, h=4)\n",
    "obs_sets = vc.add_view(vt.OBS_SETS, dataset=dataset, x=0, y=8, w=3, h=4)\n",
    "\n",
    "\n",
    "spatial_cell_sets = vc.add_view(vt.SPATIAL, dataset=dataset, x=3, y=0, w=3, h=6)\n",
    "spatial_lamp5 = vc.add_view(vt.SPATIAL, dataset=dataset, x=6, y=0, w=3, h=6)\n",
    "spatial_rorb = vc.add_view(vt.SPATIAL, dataset=dataset, x=9, y=0, w=3, h=6)\n",
    "\n",
    "\n",
    "tsne = vc.add_view(vt.SCATTERPLOT, dataset=dataset, mapping=\"t-SNE\", x=3, y=6, w=3, h=6)\n",
    "\n",
    "violin_plot_lamp5 = vc.add_view(vt.OBS_SET_FEATURE_VALUE_DISTRIBUTION, dataset=dataset, x=6, y=6, w=3, h=6)\n",
    "violin_plot_rorb = vc.add_view(vt.OBS_SET_FEATURE_VALUE_DISTRIBUTION, dataset=dataset, x=9, y=6, w=3, h=6)\n",
    "\n",
    "all_views = [\n",
    "    lc,\n",
    "    feature_list,\n",
    "    obs_sets,\n",
    "    \n",
    "    spatial_cell_sets,\n",
    "    spatial_lamp5,\n",
    "    spatial_rorb,\n",
    "    \n",
    "    tsne,\n",
    "    violin_plot_lamp5,\n",
    "    violin_plot_rorb,\n",
    "]\n",
    "\n",
    "image_layer = [{\n",
    "    \"type\": \"raster\",\n",
    "    \"index\": 0,\n",
    "    \"visible\": True,\n",
    "    \"colormap\": None,\n",
    "    \"opacity\": 1,\n",
    "  \"domainType\": \"Min/Max\",\n",
    "  \"transparentColor\": None,\n",
    "  \"renderingMode\": \"Additive\",\n",
    "  \"use3d\": False,\n",
    "  \"channels\": [\n",
    "    {\n",
    "      \"selection\": {\n",
    "        \"c\": 1\n",
    "      },\n",
    "      \"color\": [\n",
    "        255,\n",
    "        255,\n",
    "        255\n",
    "      ],\n",
    "      \"visible\": True,\n",
    "      \"slider\": [\n",
    "        1,\n",
    "        1473\n",
    "      ]\n",
    "    },\n",
    "    {\n",
    "      \"selection\": {\n",
    "        \"c\": 0\n",
    "      },\n",
    "      \"color\": [\n",
    "        255,\n",
    "        255,\n",
    "        255\n",
    "      ],\n",
    "      \"visible\": True,\n",
    "      \"slider\": [\n",
    "        1,\n",
    "        447\n",
    "      ]\n",
    "    }\n",
    "  ]\n",
    "}]\n",
    "segmentation_layer = {\n",
    "    \"opacity\": 1,\n",
    "    \"radius\": 0,\n",
    "    \"visible\": True,\n",
    "    \"stroked\": False,\n",
    "}\n",
    "point_layer = {\n",
    "    \"opacity\": 1,\n",
    "    \"radius\": 20,\n",
    "    \"visible\": True,\n",
    "}\n",
    "\n",
    "spatial_views = [\n",
    "    lc,\n",
    "    \n",
    "    spatial_cell_sets,\n",
    "    spatial_lamp5,\n",
    "    spatial_rorb,\n",
    "]\n",
    "\n",
    "vc.link_views(spatial_views, [ct.SPATIAL_ZOOM, ct.SPATIAL_TARGET_X, ct.SPATIAL_TARGET_Y, ct.SPATIAL_IMAGE_LAYER, ct.SPATIAL_SEGMENTATION_LAYER], [-5.5, 16000, 20000, image_layer, segmentation_layer])\n",
    "vc.link_views([tsne], [ct.EMBEDDING_ZOOM], [0.75])\n",
    "\n",
    "cell_set_selection = [\n",
    "    [\"Cell Type\", \"Excitatory neurons\", \"Pyramidal L2-3\"],\n",
    "    [\"Cell Type\", \"Excitatory neurons\", \"Pyramidal L2-3 L5\"],\n",
    "    [\"Cell Type\", \"Excitatory neurons\", \"Pyramidal L3-4\"],\n",
    "    [\"Cell Type\", \"Excitatory neurons\", \"pyramidal L4\"],\n",
    "]\n",
    "vc.link_views([tsne, obs_sets, spatial_cell_sets, violin_plot_lamp5, violin_plot_rorb], [ct.OBS_SET_SELECTION], [cell_set_selection])\n",
    "vc.link_views([spatial_cell_sets, tsne], [ct.OBS_COLOR_ENCODING], [\"cellSetSelection\"])\n",
    "\n",
    "vc.link_views([violin_plot_lamp5, spatial_lamp5], [ct.FEATURE_SELECTION], [[\"Lamp5\"]])\n",
    "vc.link_views([violin_plot_rorb, spatial_rorb, feature_list], [ct.FEATURE_SELECTION], [[\"Rorb\"]])\n"
   ]
  },
  {
   "cell_type": "code",
   "execution_count": 32,
   "id": "2322c414-4e7b-4215-9239-7a385bc254cb",
   "metadata": {
    "tags": []
   },
   "outputs": [],
   "source": [
    "#vw = vc.widget(height=800)\n",
    "#vw"
   ]
  },
  {
   "cell_type": "code",
   "execution_count": 33,
   "id": "9b9d76ad-47c6-4213-a5dd-40b806e66540",
   "metadata": {
    "tags": []
   },
   "outputs": [
    {
     "data": {
      "text/plain": [
       "'http://vitessce.io/#?theme=light&url=data:,%7B%22version%22%3A+%221.0.15%22%2C+%22name%22%3A+%22Codeluppi+et+al.%22%2C+%22description%22%3A+%22osmFISH%22%2C+%22datasets%22%3A+%5B%7B%22uid%22%3A+%22A%22%2C+%22name%22%3A+%22osmFISH%22%2C+%22files%22%3A+%5B%7B%22fileType%22%3A+%22anndata.zarr%22%2C+%22url%22%3A+%22http%3A%2F%2Flocalhost%3A8008%2Fcodeluppi_2018_nature_methods.cells.h5ad.zarr%22%2C+%22options%22%3A+%7B%22obsLocations%22%3A+%7B%22path%22%3A+%22obsm%2FX_spatial%22%7D%2C+%22obsSegmentations%22%3A+%7B%22path%22%3A+%22obsm%2FX_segmentations%22%7D%2C+%22obsEmbedding%22%3A+%5B%7B%22path%22%3A+%22obsm%2FX_pca%22%2C+%22dims%22%3A+%5B0%2C+1%5D%2C+%22embeddingType%22%3A+%22PCA%22%7D%2C+%7B%22path%22%3A+%22obsm%2FX_tsne%22%2C+%22dims%22%3A+%5B0%2C+1%5D%2C+%22embeddingType%22%3A+%22t-SNE%22%7D%5D%2C+%22obsSets%22%3A+%5B%7B%22name%22%3A+%22Cell+Type%22%2C+%22path%22%3A+%5B%22obs%2FCluster%22%2C+%22obs%2FSubcluster%22%5D%7D%5D%2C+%22obsFeatureMatrix%22%3A+%7B%22path%22%3A+%22layers%2FX_uint8%22%7D%7D%7D%2C+%7B%22fileType%22%3A+%22image.ome-zarr%22%2C+%22url%22%3A+%22http%3A%2F%2Flocalhost%3A8008%2Fcodeluppi_2018_nature_methods.image.ome.zarr%22%7D%5D%7D%5D%2C+%22coordinationSpace%22%3A+%7B%22dataset%22%3A+%7B%22A%22%3A+%22A%22%7D%2C+%22embeddingType%22%3A+%7B%22A%22%3A+%22t-SNE%22%7D%2C+%22spatialZoom%22%3A+%7B%22A%22%3A+-5.5%7D%2C+%22spatialTargetX%22%3A+%7B%22A%22%3A+16000%7D%2C+%22spatialTargetY%22%3A+%7B%22A%22%3A+20000%7D%2C+%22spatialImageLayer%22%3A+%7B%22A%22%3A+%5B%7B%22type%22%3A+%22raster%22%2C+%22index%22%3A+0%2C+%22visible%22%3A+true%2C+%22colormap%22%3A+null%2C+%22opacity%22%3A+1%2C+%22domainType%22%3A+%22Min%2FMax%22%2C+%22transparentColor%22%3A+null%2C+%22renderingMode%22%3A+%22Additive%22%2C+%22use3d%22%3A+false%2C+%22channels%22%3A+%5B%7B%22selection%22%3A+%7B%22c%22%3A+1%7D%2C+%22color%22%3A+%5B255%2C+255%2C+255%5D%2C+%22visible%22%3A+true%2C+%22slider%22%3A+%5B1%2C+1473%5D%7D%2C+%7B%22selection%22%3A+%7B%22c%22%3A+0%7D%2C+%22color%22%3A+%5B255%2C+255%2C+255%5D%2C+%22visible%22%3A+true%2C+%22slider%22%3A+%5B1%2C+447%5D%7D%5D%7D%5D%7D%2C+%22spatialSegmentationLayer%22%3A+%7B%22A%22%3A+%7B%22opacity%22%3A+1%2C+%22radius%22%3A+0%2C+%22visible%22%3A+true%2C+%22stroked%22%3A+false%7D%7D%2C+%22embeddingZoom%22%3A+%7B%22A%22%3A+0.75%7D%2C+%22obsSetSelection%22%3A+%7B%22A%22%3A+%5B%5B%22Cell+Type%22%2C+%22Excitatory+neurons%22%2C+%22Pyramidal+L2-3%22%5D%2C+%5B%22Cell+Type%22%2C+%22Excitatory+neurons%22%2C+%22Pyramidal+L2-3+L5%22%5D%2C+%5B%22Cell+Type%22%2C+%22Excitatory+neurons%22%2C+%22Pyramidal+L3-4%22%5D%2C+%5B%22Cell+Type%22%2C+%22Excitatory+neurons%22%2C+%22pyramidal+L4%22%5D%5D%7D%2C+%22obsColorEncoding%22%3A+%7B%22A%22%3A+%22cellSetSelection%22%7D%2C+%22featureSelection%22%3A+%7B%22A%22%3A+%5B%22Lamp5%22%5D%2C+%22B%22%3A+%5B%22Rorb%22%5D%7D%7D%2C+%22layout%22%3A+%5B%7B%22component%22%3A+%22layerController%22%2C+%22coordinationScopes%22%3A+%7B%22dataset%22%3A+%22A%22%2C+%22spatialZoom%22%3A+%22A%22%2C+%22spatialTargetX%22%3A+%22A%22%2C+%22spatialTargetY%22%3A+%22A%22%2C+%22spatialImageLayer%22%3A+%22A%22%2C+%22spatialSegmentationLayer%22%3A+%22A%22%7D%2C+%22x%22%3A+0%2C+%22y%22%3A+0%2C+%22w%22%3A+3%2C+%22h%22%3A+4%7D%2C+%7B%22component%22%3A+%22featureList%22%2C+%22coordinationScopes%22%3A+%7B%22dataset%22%3A+%22A%22%2C+%22featureSelection%22%3A+%22B%22%7D%2C+%22x%22%3A+0%2C+%22y%22%3A+4%2C+%22w%22%3A+3%2C+%22h%22%3A+4%7D%2C+%7B%22component%22%3A+%22obsSets%22%2C+%22coordinationScopes%22%3A+%7B%22dataset%22%3A+%22A%22%2C+%22obsSetSelection%22%3A+%22A%22%7D%2C+%22x%22%3A+0%2C+%22y%22%3A+8%2C+%22w%22%3A+3%2C+%22h%22%3A+4%7D%2C+%7B%22component%22%3A+%22spatial%22%2C+%22coordinationScopes%22%3A+%7B%22dataset%22%3A+%22A%22%2C+%22spatialZoom%22%3A+%22A%22%2C+%22spatialTargetX%22%3A+%22A%22%2C+%22spatialTargetY%22%3A+%22A%22%2C+%22spatialImageLayer%22%3A+%22A%22%2C+%22spatialSegmentationLayer%22%3A+%22A%22%2C+%22obsSetSelection%22%3A+%22A%22%2C+%22obsColorEncoding%22%3A+%22A%22%7D%2C+%22x%22%3A+3%2C+%22y%22%3A+0%2C+%22w%22%3A+3%2C+%22h%22%3A+6%7D%2C+%7B%22component%22%3A+%22spatial%22%2C+%22coordinationScopes%22%3A+%7B%22dataset%22%3A+%22A%22%2C+%22spatialZoom%22%3A+%22A%22%2C+%22spatialTargetX%22%3A+%22A%22%2C+%22spatialTargetY%22%3A+%22A%22%2C+%22spatialImageLayer%22%3A+%22A%22%2C+%22spatialSegmentationLayer%22%3A+%22A%22%2C+%22featureSelection%22%3A+%22A%22%7D%2C+%22x%22%3A+6%2C+%22y%22%3A+0%2C+%22w%22%3A+3%2C+%22h%22%3A+6%7D%2C+%7B%22component%22%3A+%22spatial%22%2C+%22coordinationScopes%22%3A+%7B%22dataset%22%3A+%22A%22%2C+%22spatialZoom%22%3A+%22A%22%2C+%22spatialTargetX%22%3A+%22A%22%2C+%22spatialTargetY%22%3A+%22A%22%2C+%22spatialImageLayer%22%3A+%22A%22%2C+%22spatialSegmentationLayer%22%3A+%22A%22%2C+%22featureSelection%22%3A+%22B%22%7D%2C+%22x%22%3A+9%2C+%22y%22%3A+0%2C+%22w%22%3A+3%2C+%22h%22%3A+6%7D%2C+%7B%22component%22%3A+%22scatterplot%22%2C+%22coordinationScopes%22%3A+%7B%22dataset%22%3A+%22A%22%2C+%22embeddingType%22%3A+%22A%22%2C+%22embeddingZoom%22%3A+%22A%22%2C+%22obsSetSelection%22%3A+%22A%22%2C+%22obsColorEncoding%22%3A+%22A%22%7D%2C+%22x%22%3A+3%2C+%22y%22%3A+6%2C+%22w%22%3A+3%2C+%22h%22%3A+6%7D%2C+%7B%22component%22%3A+%22obsSetFeatureValueDistribution%22%2C+%22coordinationScopes%22%3A+%7B%22dataset%22%3A+%22A%22%2C+%22obsSetSelection%22%3A+%22A%22%2C+%22featureSelection%22%3A+%22A%22%7D%2C+%22x%22%3A+6%2C+%22y%22%3A+6%2C+%22w%22%3A+3%2C+%22h%22%3A+6%7D%2C+%7B%22component%22%3A+%22obsSetFeatureValueDistribution%22%2C+%22coordinationScopes%22%3A+%7B%22dataset%22%3A+%22A%22%2C+%22obsSetSelection%22%3A+%22A%22%2C+%22featureSelection%22%3A+%22B%22%7D%2C+%22x%22%3A+9%2C+%22y%22%3A+6%2C+%22w%22%3A+3%2C+%22h%22%3A+6%7D%5D%2C+%22initStrategy%22%3A+%22auto%22%7D'"
      ]
     },
     "execution_count": 33,
     "metadata": {},
     "output_type": "execute_result"
    }
   ],
   "source": [
    "vc.web_app()"
   ]
  },
  {
   "cell_type": "code",
   "execution_count": 9,
   "id": "38999f9b-a3ce-41ac-8648-22c68c210872",
   "metadata": {},
   "outputs": [],
   "source": [
    "config_dict = vc.to_dict(base_url=BASE_URL_PLACEHOLDER)\n",
    "\n",
    "# Use `open` to create a new empty file at ./exported_data/vitessce.json\n",
    "with open(join(BASE_DIR, \"osmfish.json\"), \"w\") as f:\n",
    "    json.dump(config_dict, f)\n"
   ]
  },
  {
   "cell_type": "code",
   "execution_count": null,
   "id": "727b53e0-0753-4cb7-802a-c42e79a7ce0f",
   "metadata": {},
   "outputs": [],
   "source": []
  }
 ],
 "metadata": {
  "kernelspec": {
   "display_name": "Python 3 (ipykernel)",
   "language": "python",
   "name": "python3"
  },
  "language_info": {
   "codemirror_mode": {
    "name": "ipython",
    "version": 3
   },
   "file_extension": ".py",
   "mimetype": "text/x-python",
   "name": "python",
   "nbconvert_exporter": "python",
   "pygments_lexer": "ipython3",
   "version": "3.9.0"
  }
 },
 "nbformat": 4,
 "nbformat_minor": 5
}
