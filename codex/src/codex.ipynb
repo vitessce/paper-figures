{
 "cells": [
  {
   "cell_type": "code",
   "execution_count": 38,
   "id": "4319314d-4b52-41c9-bfb4-c228b41db9ca",
   "metadata": {
    "tags": []
   },
   "outputs": [],
   "source": [
    "from vitessce import (\n",
    "    VitessceConfig,\n",
    "    ViewType as vt,\n",
    "    CoordinationType as ct,\n",
    "    FileType as ft,\n",
    "    AnnDataWrapper,\n",
    "    MultiImageWrapper,\n",
    "    OmeTiffWrapper,\n",
    "    hconcat,\n",
    "    BASE_URL_PLACEHOLDER\n",
    ")\n",
    "import json\n",
    "from os.path import join\n",
    "import os"
   ]
  },
  {
   "cell_type": "code",
   "execution_count": 39,
   "id": "2f6e4c6b-e1cf-474d-ba6e-457048a88f91",
   "metadata": {
    "tags": []
   },
   "outputs": [
    {
     "name": "stdout",
     "output_type": "stream",
     "text": [
      "/Users/mkeller/research/dbmi/vitessce/paper-figures/codex/src\n"
     ]
    }
   ],
   "source": [
    "!pwd"
   ]
  },
  {
   "cell_type": "code",
   "execution_count": 40,
   "id": "33b1dc1c-edfb-4363-b432-0a241859eeda",
   "metadata": {
    "tags": []
   },
   "outputs": [],
   "source": [
    "PATH_TO_EXPORT_DIRECTORY = join(\"..\", \"..\", \"hubmap-publication-page\", \"data\", \"codex\")\n",
    "VIGNETTE_DIR = join(\"..\", \"..\", \"hubmap-publication-page\", \"vignettes\", \"vignette_04\")"
   ]
  },
  {
   "cell_type": "code",
   "execution_count": 41,
   "id": "4676498c-f49b-4d53-a201-f4b4c08f1c84",
   "metadata": {
    "tags": []
   },
   "outputs": [],
   "source": [
    "BASE_DIR = join(\"..\", \"data\", \"raw\")"
   ]
  },
  {
   "cell_type": "code",
   "execution_count": 42,
   "id": "96b85fdc-1c9b-42d7-8177-e8ba25d15fdc",
   "metadata": {
    "tags": []
   },
   "outputs": [],
   "source": [
    "vc = VitessceConfig(schema_version=\"1.0.15\", name='CODEX', description='')"
   ]
  },
  {
   "cell_type": "code",
   "execution_count": 43,
   "id": "8c2010de-e324-48fb-9c6d-933c076632b2",
   "metadata": {
    "tags": []
   },
   "outputs": [],
   "source": [
    "dataset = vc.add_dataset(name='CODEX').add_object(AnnDataWrapper(\n",
    "    adata_path=join(BASE_DIR, \"reg001_expr-anndata.zarr\"),\n",
    "    obs_embedding_paths=[\"obsm/tsne\"],\n",
    "    obs_embedding_names=[\"t-SNE\"],\n",
    "    obs_locations_path=\"obsm/xy\",\n",
    "    obs_set_paths=[\"obs/Cell K-Means [Mean] Expression\"],\n",
    "    obs_set_names=[\"Cell K-Means [Mean] Expression\"],\n",
    "    obs_feature_matrix_path=\"X\",\n",
    "    coordination_values={\n",
    "        \"obsType\": \"cell\",\n",
    "        \"featureType\": \"antigen\",\n",
    "        \"featureValueType\": \"expression\"\n",
    "    }\n",
    ")).add_object(MultiImageWrapper([\n",
    "    OmeTiffWrapper(\n",
    "        img_path=join(BASE_DIR, \"ome_tiff\", \"mask\", \"reg001_mask.ome.tif\"),\n",
    "        offsets_path=join(BASE_DIR, \"ome_tiff_offsets\", \"mask\", \"reg001_mask.offsets.json\"),\n",
    "        name=\"Segmentations\",\n",
    "        is_bitmask=True\n",
    "    ),\n",
    "    OmeTiffWrapper(\n",
    "        img_path=join(BASE_DIR, \"ome_tiff\", \"expr\", \"reg001_expr.ome.tif\"),\n",
    "        offsets_path=join(BASE_DIR, \"ome_tiff_offsets\", \"expr\", \"reg001_mask.offsets.json\"),\n",
    "        name=\"Image\"\n",
    "    )\n",
    "]))"
   ]
  },
  {
   "cell_type": "code",
   "execution_count": 44,
   "id": "78450cae-5a0b-40c9-b38c-d67ec205c3c8",
   "metadata": {
    "tags": []
   },
   "outputs": [],
   "source": [
    "layer_controller = vc.add_view(vt.LAYER_CONTROLLER, dataset=dataset)\n",
    "spatial = vc.add_view(vt.SPATIAL, dataset=dataset)\n",
    "scatterplot = vc.add_view(vt.SCATTERPLOT, dataset=dataset, mapping=\"t-SNE\")\n",
    "marker_list = vc.add_view(vt.FEATURE_LIST, dataset=dataset)\n",
    "description = vc.add_view(vt.DESCRIPTION, dataset=dataset)\n",
    "heatmap = vc.add_view(vt.HEATMAP, dataset=dataset).set_props(transpose=True)\n",
    "cell_set_manager = vc.add_view(vt.OBS_SETS, dataset=dataset)"
   ]
  },
  {
   "cell_type": "code",
   "execution_count": 45,
   "id": "bd6b3557-e413-4ec2-9add-021974474b98",
   "metadata": {
    "tags": []
   },
   "outputs": [],
   "source": [
    "vc.layout(\n",
    "    hconcat(layer_controller, spatial, scatterplot, marker_list)\n",
    "    / hconcat(description, heatmap, cell_set_manager)\n",
    ");"
   ]
  },
  {
   "cell_type": "code",
   "execution_count": 46,
   "id": "5bf10952-3730-4375-b67f-e931154632ae",
   "metadata": {
    "tags": []
   },
   "outputs": [
    {
     "data": {
      "text/plain": [
       "<vitessce.config.VitessceConfig at 0x2b2368f40>"
      ]
     },
     "execution_count": 46,
     "metadata": {},
     "output_type": "execute_result"
    }
   ],
   "source": [
    "all_views = [\n",
    "    layer_controller, spatial, scatterplot, marker_list,\n",
    "    description, heatmap, cell_set_manager,\n",
    "]\n",
    "vc.link_views(\n",
    "    all_views,\n",
    "    [ct.FEATURE_TYPE, ct.FEATURE_SELECTION, ct.FEATURE_VALUE_COLORMAP_RANGE],\n",
    "    [\"antigen\", [\"CD20\"], [0, 0.25]]\n",
    ")\n",
    "\n",
    "vc.link_views([scatterplot], [ct.EMBEDDING_ZOOM], [26.572])\n",
    "vc.link_views([spatial, layer_controller], [ct.SPATIAL_TARGET_X, ct.SPATIAL_TARGET_Y, ct.SPATIAL_ZOOM], [2779.069, 2438.511, -3.7195])"
   ]
  },
  {
   "cell_type": "code",
   "execution_count": 47,
   "id": "b2f4a4e7-5771-4071-b939-edd60d1ec8ee",
   "metadata": {
    "tags": []
   },
   "outputs": [],
   "source": [
    "#vw = vc.widget()\n",
    "#vw"
   ]
  },
  {
   "cell_type": "code",
   "execution_count": 48,
   "id": "f411cd13-3dc4-44b3-9986-f23dc1206a91",
   "metadata": {
    "scrolled": true
   },
   "outputs": [
    {
     "data": {
      "text/plain": [
       "'http://vitessce.io/#?theme=light&url=data:,%7B%22version%22%3A+%221.0.15%22%2C+%22name%22%3A+%22CODEX%22%2C+%22description%22%3A+%22%22%2C+%22datasets%22%3A+%5B%7B%22uid%22%3A+%22A%22%2C+%22name%22%3A+%22CODEX%22%2C+%22files%22%3A+%5B%7B%22fileType%22%3A+%22anndata.zarr%22%2C+%22url%22%3A+%22http%3A%2F%2Flocalhost%3A8009%2FA%2F0%2Fe01dff69-9211-4497-9cdf-deed26746098%22%2C+%22options%22%3A+%7B%22obsLocations%22%3A+%7B%22path%22%3A+%22obsm%2Fxy%22%7D%2C+%22obsEmbedding%22%3A+%5B%7B%22path%22%3A+%22obsm%2Ftsne%22%2C+%22dims%22%3A+%5B0%2C+1%5D%2C+%22embeddingType%22%3A+%22t-SNE%22%7D%5D%2C+%22obsSets%22%3A+%5B%7B%22name%22%3A+%22Cell+K-Means+%5BMean%5D+Expression%22%2C+%22path%22%3A+%22obs%2FCell+K-Means+%5BMean%5D+Expression%22%7D%5D%2C+%22obsFeatureMatrix%22%3A+%7B%22path%22%3A+%22X%22%7D%7D%2C+%22coordinationValues%22%3A+%7B%22obsType%22%3A+%22cell%22%2C+%22featureType%22%3A+%22antigen%22%2C+%22featureValueType%22%3A+%22expression%22%7D%7D%2C+%7B%22fileType%22%3A+%22raster.json%22%2C+%22options%22%3A+%7B%22schemaVersion%22%3A+%220.0.2%22%2C+%22usePhysicalSizeScaling%22%3A+false%2C+%22images%22%3A+%5B%7B%22name%22%3A+%22Segmentations%22%2C+%22type%22%3A+%22ome-tiff%22%2C+%22url%22%3A+%22http%3A%2F%2Flocalhost%3A8009%2FA%2F1%2Fe388b357-ee84-4d23-a72b-5e52b8ae9520%22%2C+%22metadata%22%3A+%7B%22omeTiffOffsetsUrl%22%3A+%22http%3A%2F%2Flocalhost%3A8009%2FA%2F1%2F253925d8-ad7c-4247-971e-97516e9b166f%22%2C+%22isBitmask%22%3A+true%7D%7D%2C+%7B%22name%22%3A+%22Image%22%2C+%22type%22%3A+%22ome-tiff%22%2C+%22url%22%3A+%22http%3A%2F%2Flocalhost%3A8009%2FA%2F1%2F1592bcd9-9cc3-47f4-aa18-9e0c7e57d2b3%22%2C+%22metadata%22%3A+%7B%22omeTiffOffsetsUrl%22%3A+%22http%3A%2F%2Flocalhost%3A8009%2FA%2F1%2Fb7fe0f26-2c1c-41ff-a848-f6b18d90cef5%22%2C+%22isBitmask%22%3A+false%7D%7D%5D%2C+%22renderLayers%22%3A+%5B%22Segmentations%22%2C+%22Image%22%5D%7D%7D%5D%7D%5D%2C+%22coordinationSpace%22%3A+%7B%22dataset%22%3A+%7B%22A%22%3A+%22A%22%7D%2C+%22embeddingType%22%3A+%7B%22A%22%3A+%22t-SNE%22%7D%2C+%22featureType%22%3A+%7B%22A%22%3A+%22antigen%22%7D%2C+%22featureSelection%22%3A+%7B%22A%22%3A+%5B%22CD20%22%5D%7D%2C+%22featureValueColormapRange%22%3A+%7B%22A%22%3A+%5B0%2C+0.25%5D%7D%2C+%22embeddingZoom%22%3A+%7B%22A%22%3A+26.572%7D%2C+%22spatialTargetX%22%3A+%7B%22A%22%3A+2779.069%7D%2C+%22spatialTargetY%22%3A+%7B%22A%22%3A+2438.511%7D%2C+%22spatialZoom%22%3A+%7B%22A%22%3A+-3.7195%7D%7D%2C+%22layout%22%3A+%5B%7B%22component%22%3A+%22layerController%22%2C+%22coordinationScopes%22%3A+%7B%22dataset%22%3A+%22A%22%2C+%22featureType%22%3A+%22A%22%2C+%22featureSelection%22%3A+%22A%22%2C+%22featureValueColormapRange%22%3A+%22A%22%2C+%22spatialTargetX%22%3A+%22A%22%2C+%22spatialTargetY%22%3A+%22A%22%2C+%22spatialZoom%22%3A+%22A%22%7D%2C+%22x%22%3A+0.0%2C+%22y%22%3A+0.0%2C+%22w%22%3A+3.0%2C+%22h%22%3A+6.0%7D%2C+%7B%22component%22%3A+%22spatial%22%2C+%22coordinationScopes%22%3A+%7B%22dataset%22%3A+%22A%22%2C+%22featureType%22%3A+%22A%22%2C+%22featureSelection%22%3A+%22A%22%2C+%22featureValueColormapRange%22%3A+%22A%22%2C+%22spatialTargetX%22%3A+%22A%22%2C+%22spatialTargetY%22%3A+%22A%22%2C+%22spatialZoom%22%3A+%22A%22%7D%2C+%22x%22%3A+3.0%2C+%22y%22%3A+0.0%2C+%22w%22%3A+3.0%2C+%22h%22%3A+6.0%7D%2C+%7B%22component%22%3A+%22scatterplot%22%2C+%22coordinationScopes%22%3A+%7B%22dataset%22%3A+%22A%22%2C+%22embeddingType%22%3A+%22A%22%2C+%22featureType%22%3A+%22A%22%2C+%22featureSelection%22%3A+%22A%22%2C+%22featureValueColormapRange%22%3A+%22A%22%2C+%22embeddingZoom%22%3A+%22A%22%7D%2C+%22x%22%3A+6.0%2C+%22y%22%3A+0.0%2C+%22w%22%3A+3.0%2C+%22h%22%3A+6.0%7D%2C+%7B%22component%22%3A+%22featureList%22%2C+%22coordinationScopes%22%3A+%7B%22dataset%22%3A+%22A%22%2C+%22featureType%22%3A+%22A%22%2C+%22featureSelection%22%3A+%22A%22%2C+%22featureValueColormapRange%22%3A+%22A%22%7D%2C+%22x%22%3A+9.0%2C+%22y%22%3A+0.0%2C+%22w%22%3A+3.0%2C+%22h%22%3A+6.0%7D%2C+%7B%22component%22%3A+%22description%22%2C+%22coordinationScopes%22%3A+%7B%22dataset%22%3A+%22A%22%2C+%22featureType%22%3A+%22A%22%2C+%22featureSelection%22%3A+%22A%22%2C+%22featureValueColormapRange%22%3A+%22A%22%7D%2C+%22x%22%3A+0.0%2C+%22y%22%3A+6.0%2C+%22w%22%3A+4.0%2C+%22h%22%3A+6.0%7D%2C+%7B%22component%22%3A+%22heatmap%22%2C+%22coordinationScopes%22%3A+%7B%22dataset%22%3A+%22A%22%2C+%22featureType%22%3A+%22A%22%2C+%22featureSelection%22%3A+%22A%22%2C+%22featureValueColormapRange%22%3A+%22A%22%7D%2C+%22x%22%3A+4.0%2C+%22y%22%3A+6.0%2C+%22w%22%3A+4.0%2C+%22h%22%3A+6.0%2C+%22props%22%3A+%7B%22transpose%22%3A+true%7D%7D%2C+%7B%22component%22%3A+%22obsSets%22%2C+%22coordinationScopes%22%3A+%7B%22dataset%22%3A+%22A%22%2C+%22featureType%22%3A+%22A%22%2C+%22featureSelection%22%3A+%22A%22%2C+%22featureValueColormapRange%22%3A+%22A%22%7D%2C+%22x%22%3A+8.0%2C+%22y%22%3A+6.0%2C+%22w%22%3A+4.0%2C+%22h%22%3A+6.0%7D%5D%2C+%22initStrategy%22%3A+%22auto%22%7D'"
      ]
     },
     "execution_count": 48,
     "metadata": {},
     "output_type": "execute_result"
    }
   ],
   "source": [
    "vc.web_app()"
   ]
  },
  {
   "cell_type": "code",
   "execution_count": null,
   "id": "a62bb1b2-d7ad-4d92-a830-969fc171f7e5",
   "metadata": {
    "tags": []
   },
   "outputs": [],
   "source": [
    "os.makedirs(VIGNETTE_DIR, exist_ok=True)"
   ]
  },
  {
   "cell_type": "code",
   "execution_count": null,
   "id": "75d8d8c9-530d-46f2-8cb2-b516689a1011",
   "metadata": {},
   "outputs": [],
   "source": [
    "os.makedirs(PATH_TO_EXPORT_DIRECTORY, exist_ok=True)\n",
    "config_dict = vc.export(to=\"files\", base_url=f\"{BASE_URL_PLACEHOLDER}/codex\", out_dir=PATH_TO_EXPORT_DIRECTORY)\n",
    "\n",
    "# Use `open` to create a new empty file at ./exported_data/vitessce.json\n",
    "with open(join(VIGNETTE_DIR, \"codex.json\"), \"w\") as f:\n",
    "    json.dump(config_dict, f)"
   ]
  },
  {
   "cell_type": "code",
   "execution_count": null,
   "id": "84a27050-c357-41b1-8354-e4f967328f48",
   "metadata": {},
   "outputs": [],
   "source": [
    "vignette_md = \"\"\"---\n",
    "name: Use Case 4\n",
    "figures:\n",
    "    - name: \"Visualization\"\n",
    "      file: codex.json\n",
    "---\n",
    "\n",
    "\n",
    "## Multiplexed cyclic fluorescence images of oligo-barcoded antibodies in single cells from the human spleen\n",
    "\n",
    "CO-Detection by indEXing (CODEX) is a spatial assay which uses oligonucleotide probes conjugated to antibodies specific to a set of antigens of interest. Through multiple rounds of hybridization, up to 50 different antigens may be imaged. We present an example of using Vitessce to explore a human spleen tissue sample in which 29 antigens were targeted. The dataset contains the 29-channel microscopy images, cell segmentations, cell-by-antigen quantification, and unsupervised clustering results. To interact with this dataset, we configure Vitessce with a spatial plot, heatmap, and controllers to select image channels, antigens, and cell clusters of interest. With multiple representations of the same data, we can choose to begin exploration by focusing on one of several entity types.\n",
    "\n",
    "Because this dataset lacks cell type annotations, we are interested in the protein markers which define each cluster. We approach the visual analysis by selecting a cluster in the cell set controller, then searching for cluster-specific patterns in the spatial view. With clustering assignments encoded as cell segmentation mask colors, it appears that cells assigned to cluster 6 within the “Cell K-Means Mean-All-SubRegions Expression” localize to a small set of compact regions in the spatial view, suggestive of cellular neighborhoods in the spleen. When we identify cluster 6 in the heatmap view, it is clear that the marker with the highest relative expression in this cluster corresponds to the B cell marker CD20. We can confirm that CD20 is enriched in this spatial region by hiding the cell segmentation masks in the spatial plot, uncovering the underlying image data. Using the spatial layer controller, we can select the CD20 channel and verify that the fluorescence signal indeed appears in the expected regions. The heatmap and image views can help us to find other markers correlated with the CD20 spatial expression pattern.\n",
    "\n",
    "\"\"\"\n",
    "\n",
    "with open(join(VIGNETTE_DIR, \"description.md\"), \"w\") as f:\n",
    "    f.write(vignette_md)"
   ]
  }
 ],
 "metadata": {
  "kernelspec": {
   "display_name": "Python 3 (ipykernel)",
   "language": "python",
   "name": "python3"
  },
  "language_info": {
   "codemirror_mode": {
    "name": "ipython",
    "version": 3
   },
   "file_extension": ".py",
   "mimetype": "text/x-python",
   "name": "python",
   "nbconvert_exporter": "python",
   "pygments_lexer": "ipython3",
   "version": "3.10.0"
  }
 },
 "nbformat": 4,
 "nbformat_minor": 5
}
