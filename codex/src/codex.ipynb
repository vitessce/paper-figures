{
 "cells": [
  {
   "cell_type": "code",
   "execution_count": 1,
   "id": "2f6e4c6b-e1cf-474d-ba6e-457048a88f91",
   "metadata": {
    "tags": []
   },
   "outputs": [
    {
     "name": "stdout",
     "output_type": "stream",
     "text": [
      "/Users/mkeller/research/dbmi/vitessce/paper-figures/codex/src\n"
     ]
    }
   ],
   "source": [
    "!pwd"
   ]
  },
  {
   "cell_type": "code",
   "execution_count": 4,
   "id": "16c9bb5f-6138-40a9-a3e3-d573b82c5f89",
   "metadata": {
    "tags": []
   },
   "outputs": [],
   "source": [
    "from anndata import read_zarr\n",
    "from os.path import join"
   ]
  },
  {
   "cell_type": "code",
   "execution_count": 6,
   "id": "8d26fa08-ed4c-49f0-8676-6e3b0e341155",
   "metadata": {
    "tags": []
   },
   "outputs": [
    {
     "data": {
      "text/plain": [
       "AnnData object with n_obs × n_vars = 143673 × 29\n",
       "    obs: 'Cell K-Means [Mean] Expression', 'Cell K-Means [Covariance] Expression', 'Cell K-Means [Total] Expression', 'Cell K-Means [Mean-All-SubRegions] Expression', 'Cell K-Means [Shape-Vectors]', 'Cell K-Means [Texture]', 'Cell K-Means [tSNE_All_Features]', 'Cell K-Means [Shape-Vectors Normalized]', 'Nuclei K-Means [Mean] Expression', 'Nuclei K-Means [Covariance] Expression', 'Nuclei K-Means [Total] Expression', 'Nuclei K-Means [Mean-All-SubRegions] Expression', 'Nuclei K-Means [Shape-Vectors]', 'Nuclei K-Means [Texture]', 'Nuclei K-Means [tSNE_All_Features]', 'Nuclei K-Means [Shape-Vectors Normalized]', 'Cell Boundaries K-Means [Mean] Expression', 'Cell Boundaries K-Means [Covariance] Expression', 'Cell Boundaries K-Means [Total] Expression', 'Cell Boundaries K-Means [Mean-All-SubRegions] Expression', 'Cell Boundaries K-Means [Shape-Vectors]', 'Cell Boundaries K-Means [Texture]', 'Cell Boundaries K-Means [tSNE_All_Features]', 'Cell Boundaries K-Means [Shape-Vectors Normalized]', 'Nucleus Boundaries K-Means [Mean] Expression', 'Nucleus Boundaries K-Means [Covariance] Expression', 'Nucleus Boundaries K-Means [Total] Expression', 'Nucleus Boundaries K-Means [Mean-All-SubRegions] Expression', 'Nucleus Boundaries K-Means [Shape-Vectors]', 'Nucleus Boundaries K-Means [Texture]', 'Nucleus Boundaries K-Means [tSNE_All_Features]', 'Nucleus Boundaries K-Means [Shape-Vectors Normalized]'\n",
       "    obsm: 'tsne', 'xy'\n",
       "    layers: 'cell_boundaries_x_antigen_mean', 'cell_boundaries_x_antigen_total', 'cell_x_antigen_mean', 'cell_x_antigen_total', 'nuclei_x_antigen_mean', 'nuclei_x_antigen_total', 'nucleus_boundaries_x_antigen_mean', 'nucleus_boundaries_x_antigen_total'"
      ]
     },
     "execution_count": 6,
     "metadata": {},
     "output_type": "execute_result"
    }
   ],
   "source": [
    "adata = read_zarr(join(\"..\", \"data\", \"raw\", \"reg001_expr-anndata.zarr\"))\n",
    "adata"
   ]
  },
  {
   "cell_type": "code",
   "execution_count": 10,
   "id": "cd080f62-8f54-4b7e-8be8-ef0a45f58c82",
   "metadata": {
    "tags": []
   },
   "outputs": [],
   "source": [
    "# TODO: compute new dimensionality reductions to replace bad HuBMAP ones"
   ]
  },
  {
   "cell_type": "code",
   "execution_count": 26,
   "id": "4319314d-4b52-41c9-bfb4-c228b41db9ca",
   "metadata": {
    "tags": []
   },
   "outputs": [],
   "source": [
    "from vitessce import (\n",
    "    VitessceConfig,\n",
    "    ViewType as vt,\n",
    "    CoordinationType as ct,\n",
    "    FileType as ft,\n",
    "    AnnDataWrapper,\n",
    "    MultiImageWrapper,\n",
    "    OmeTiffWrapper,\n",
    "    hconcat\n",
    ")"
   ]
  },
  {
   "cell_type": "code",
   "execution_count": 34,
   "id": "96b85fdc-1c9b-42d7-8177-e8ba25d15fdc",
   "metadata": {
    "tags": []
   },
   "outputs": [],
   "source": [
    "vc = VitessceConfig(schema_version=\"1.0.15\", name='CODEX', description='')"
   ]
  },
  {
   "cell_type": "code",
   "execution_count": 35,
   "id": "8c2010de-e324-48fb-9c6d-933c076632b2",
   "metadata": {
    "tags": []
   },
   "outputs": [],
   "source": [
    "dataset = vc.add_dataset(name='CODEX').add_object(AnnDataWrapper(\n",
    "    adata_path=join(\"..\", \"data\", \"raw\", \"reg001_expr-anndata.zarr\"),\n",
    "    obs_embedding_paths=[\"obsm/tsne\"],\n",
    "    obs_embedding_names=[\"t-SNE\"],\n",
    "    obs_locations_path=\"obsm/xy\",\n",
    "    obs_set_paths=[\"obs/Cell K-Means [Mean] Expression\"],\n",
    "    obs_set_names=[\"Cell K-Means [Mean] Expression\"],\n",
    "    obs_feature_matrix_path=\"X\",\n",
    "    coordination_values={\n",
    "        \"obsType\": \"cell\",\n",
    "        \"featureType\": \"antigen\",\n",
    "        \"featureValueType\": \"expression\"\n",
    "    }\n",
    ")).add_object(MultiImageWrapper([\n",
    "    OmeTiffWrapper(\n",
    "        img_path=join(\"..\", \"data\", \"raw\", \"ome_tiff\", \"mask\", \"reg001_mask.ome.tif\"),\n",
    "        name=\"Segmentations\",\n",
    "        is_bitmask=True\n",
    "    ),\n",
    "    OmeTiffWrapper(\n",
    "        img_path=join(\"..\", \"data\", \"raw\", \"ome_tiff\", \"expr\", \"reg001_expr.ome.tif\"),\n",
    "        name=\"Image\"\n",
    "    )\n",
    "]))"
   ]
  },
  {
   "cell_type": "code",
   "execution_count": 36,
   "id": "78450cae-5a0b-40c9-b38c-d67ec205c3c8",
   "metadata": {
    "tags": []
   },
   "outputs": [],
   "source": [
    "layer_controller = vc.add_view(vt.LAYER_CONTROLLER, dataset=dataset)\n",
    "spatial = vc.add_view(vt.SPATIAL, dataset=dataset)\n",
    "scatterplot = vc.add_view(vt.SCATTERPLOT, dataset=dataset, mapping=\"t-SNE\")\n",
    "marker_list = vc.add_view(vt.FEATURE_LIST, dataset=dataset)\n",
    "description = vc.add_view(vt.DESCRIPTION, dataset=dataset)\n",
    "heatmap = vc.add_view(vt.HEATMAP, dataset=dataset).set_props(transpose=True)\n",
    "cell_set_manager = vc.add_view(vt.OBS_SETS, dataset=dataset)\n"
   ]
  },
  {
   "cell_type": "code",
   "execution_count": 37,
   "id": "bd6b3557-e413-4ec2-9add-021974474b98",
   "metadata": {
    "tags": []
   },
   "outputs": [],
   "source": [
    "vc.layout(\n",
    "    hconcat(layer_controller, spatial, scatterplot, marker_list)\n",
    "    / hconcat(description, heatmap, cell_set_manager)\n",
    ");"
   ]
  },
  {
   "cell_type": "code",
   "execution_count": 38,
   "id": "5bf10952-3730-4375-b67f-e931154632ae",
   "metadata": {
    "tags": []
   },
   "outputs": [
    {
     "data": {
      "text/plain": [
       "<vitessce.config.VitessceConfig at 0x7fc2ef6ffc10>"
      ]
     },
     "execution_count": 38,
     "metadata": {},
     "output_type": "execute_result"
    }
   ],
   "source": [
    "all_views = [\n",
    "    layer_controller, spatial, scatterplot, marker_list,\n",
    "    description, heatmap, cell_set_manager,\n",
    "]\n",
    "vc.link_views(\n",
    "    all_views,\n",
    "    [ct.FEATURE_TYPE],\n",
    "    [\"antigen\"]\n",
    ")"
   ]
  },
  {
   "cell_type": "code",
   "execution_count": 39,
   "id": "b2f4a4e7-5771-4071-b939-edd60d1ec8ee",
   "metadata": {
    "tags": []
   },
   "outputs": [
    {
     "data": {
      "application/vnd.jupyter.widget-view+json": {
       "model_id": "19873ead59254382a64960db3f67acd8",
       "version_major": 2,
       "version_minor": 0
      },
      "text/plain": [
       "VitessceWidget(config={'version': '1.0.15', 'name': 'CODEX', 'description': '', 'datasets': [{'uid': 'A', 'nam…"
      ]
     },
     "execution_count": 39,
     "metadata": {},
     "output_type": "execute_result"
    }
   ],
   "source": [
    "vw = vc.widget()\n",
    "vw\n"
   ]
  },
  {
   "cell_type": "code",
   "execution_count": null,
   "id": "f411cd13-3dc4-44b3-9986-f23dc1206a91",
   "metadata": {},
   "outputs": [],
   "source": []
  }
 ],
 "metadata": {
  "kernelspec": {
   "display_name": "Python 3 (ipykernel)",
   "language": "python",
   "name": "python3"
  },
  "language_info": {
   "codemirror_mode": {
    "name": "ipython",
    "version": 3
   },
   "file_extension": ".py",
   "mimetype": "text/x-python",
   "name": "python",
   "nbconvert_exporter": "python",
   "pygments_lexer": "ipython3",
   "version": "3.9.0"
  }
 },
 "nbformat": 4,
 "nbformat_minor": 5
}
