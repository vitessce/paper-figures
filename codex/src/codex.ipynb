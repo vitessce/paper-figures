{
 "cells": [
  {
   "cell_type": "code",
   "execution_count": null,
   "id": "16c9bb5f-6138-40a9-a3e3-d573b82c5f89",
   "metadata": {
    "tags": []
   },
   "outputs": [],
   "source": [
    "from anndata import read_zarr\n",
    "from os.path import join\n",
    "import os"
   ]
  },
  {
   "cell_type": "code",
   "execution_count": null,
   "id": "42584b3c-6c15-4186-be46-d6eb067513d7",
   "metadata": {
    "tags": []
   },
   "outputs": [],
   "source": [
    "import scanpy as sc\n",
    "from muon import prot as pt"
   ]
  },
  {
   "cell_type": "code",
   "execution_count": null,
   "id": "2f6e4c6b-e1cf-474d-ba6e-457048a88f91",
   "metadata": {
    "tags": []
   },
   "outputs": [],
   "source": [
    "!pwd"
   ]
  },
  {
   "cell_type": "code",
   "execution_count": null,
   "id": "33b1dc1c-edfb-4363-b432-0a241859eeda",
   "metadata": {
    "tags": []
   },
   "outputs": [],
   "source": [
    "PATH_TO_EXPORT_DIRECTORY = join(\"..\", \"..\", \"hubmap-publication-page\", \"data\", \"codex\")\n",
    "VIGNETTE_DIR = join(\"..\", \"..\", \"hubmap-publication-page\", \"vignettes\", \"vignette_04\")"
   ]
  },
  {
   "cell_type": "code",
   "execution_count": null,
   "id": "8d26fa08-ed4c-49f0-8676-6e3b0e341155",
   "metadata": {
    "tags": []
   },
   "outputs": [],
   "source": [
    "adata = read_zarr(join(\"..\", \"data\", \"raw\", \"reg001_expr-anndata.zarr\"))\n",
    "adata"
   ]
  },
  {
   "cell_type": "code",
   "execution_count": null,
   "id": "cd080f62-8f54-4b7e-8be8-ef0a45f58c82",
   "metadata": {
    "tags": []
   },
   "outputs": [],
   "source": [
    "# TODO: try computing new dimensionality reductions"
   ]
  },
  {
   "cell_type": "code",
   "execution_count": null,
   "id": "773afb35-3c24-4d14-a3d7-0b3f8c5292a7",
   "metadata": {
    "tags": []
   },
   "outputs": [],
   "source": [
    "pt.pp.clr(adata)"
   ]
  },
  {
   "cell_type": "code",
   "execution_count": null,
   "id": "2c4c6d63-9e0f-4b15-9ab3-f057d7c719e6",
   "metadata": {
    "tags": []
   },
   "outputs": [],
   "source": [
    "adata.X"
   ]
  },
  {
   "cell_type": "code",
   "execution_count": null,
   "id": "29f61678-0caf-496e-b75d-c5e751b4fabe",
   "metadata": {
    "tags": []
   },
   "outputs": [],
   "source": [
    "sc.pp.pca(adata)"
   ]
  },
  {
   "cell_type": "code",
   "execution_count": null,
   "id": "a52a01f9-0d9b-42ff-88c0-8955b1f93920",
   "metadata": {
    "tags": []
   },
   "outputs": [],
   "source": [
    "sc.pp.neighbors(adata, n_neighbors=10, n_pcs=30)"
   ]
  },
  {
   "cell_type": "code",
   "execution_count": null,
   "id": "a100bc04-1d0b-4c23-96e9-9205914df4ce",
   "metadata": {
    "tags": []
   },
   "outputs": [],
   "source": [
    "sc.tl.umap(adata)"
   ]
  },
  {
   "cell_type": "code",
   "execution_count": null,
   "id": "53e1a01f-356b-4a4a-badc-8c54348c2cb5",
   "metadata": {
    "tags": []
   },
   "outputs": [],
   "source": [
    "sc.pl.umap(adata, color=['Cell K-Means [Mean] Expression'])"
   ]
  },
  {
   "cell_type": "code",
   "execution_count": null,
   "id": "4319314d-4b52-41c9-bfb4-c228b41db9ca",
   "metadata": {
    "tags": []
   },
   "outputs": [],
   "source": [
    "from vitessce import (\n",
    "    VitessceConfig,\n",
    "    ViewType as vt,\n",
    "    CoordinationType as ct,\n",
    "    FileType as ft,\n",
    "    AnnDataWrapper,\n",
    "    MultiImageWrapper,\n",
    "    OmeTiffWrapper,\n",
    "    hconcat,\n",
    "    BASE_URL_PLACEHOLDER\n",
    ")\n",
    "import json\n",
    "from os.path import join\n",
    "import os"
   ]
  },
  {
   "cell_type": "code",
   "execution_count": null,
   "id": "4676498c-f49b-4d53-a201-f4b4c08f1c84",
   "metadata": {
    "tags": []
   },
   "outputs": [],
   "source": [
    "BASE_DIR = join(\"..\", \"data\", \"raw\")"
   ]
  },
  {
   "cell_type": "code",
   "execution_count": null,
   "id": "96b85fdc-1c9b-42d7-8177-e8ba25d15fdc",
   "metadata": {
    "tags": []
   },
   "outputs": [],
   "source": [
    "vc = VitessceConfig(schema_version=\"1.0.15\", name='CODEX', description='')"
   ]
  },
  {
   "cell_type": "code",
   "execution_count": null,
   "id": "8c2010de-e324-48fb-9c6d-933c076632b2",
   "metadata": {
    "tags": []
   },
   "outputs": [],
   "source": [
    "dataset = vc.add_dataset(name='CODEX').add_object(AnnDataWrapper(\n",
    "    adata_path=join(BASE_DIR, \"reg001_expr-anndata.zarr\"),\n",
    "    obs_embedding_paths=[\"obsm/tsne\"],\n",
    "    obs_embedding_names=[\"t-SNE\"],\n",
    "    obs_locations_path=\"obsm/xy\",\n",
    "    obs_set_paths=[\"obs/Cell K-Means [Mean] Expression\"],\n",
    "    obs_set_names=[\"Cell K-Means [Mean] Expression\"],\n",
    "    obs_feature_matrix_path=\"X\",\n",
    "    coordination_values={\n",
    "        \"obsType\": \"cell\",\n",
    "        \"featureType\": \"antigen\",\n",
    "        \"featureValueType\": \"expression\"\n",
    "    }\n",
    ")).add_object(MultiImageWrapper([\n",
    "    OmeTiffWrapper(\n",
    "        img_path=join(BASE_DIR, \"ome_tiff\", \"mask\", \"reg001_mask.ome.tif\"),\n",
    "        offsets_path=join(BASE_DIR, \"ome_tiff_offsets\", \"mask\", \"reg001_mask.offsets.json\"),\n",
    "        name=\"Segmentations\",\n",
    "        is_bitmask=True\n",
    "    ),\n",
    "    OmeTiffWrapper(\n",
    "        img_path=join(BASE_DIR, \"ome_tiff\", \"expr\", \"reg001_expr.ome.tif\"),\n",
    "        offsets_path=join(BASE_DIR, \"ome_tiff_offsets\", \"expr\", \"reg001_mask.offsets.json\"),\n",
    "        name=\"Image\"\n",
    "    )\n",
    "]))"
   ]
  },
  {
   "cell_type": "code",
   "execution_count": null,
   "id": "78450cae-5a0b-40c9-b38c-d67ec205c3c8",
   "metadata": {
    "tags": []
   },
   "outputs": [],
   "source": [
    "layer_controller = vc.add_view(vt.LAYER_CONTROLLER, dataset=dataset)\n",
    "spatial = vc.add_view(vt.SPATIAL, dataset=dataset)\n",
    "scatterplot = vc.add_view(vt.SCATTERPLOT, dataset=dataset, mapping=\"t-SNE\")\n",
    "marker_list = vc.add_view(vt.FEATURE_LIST, dataset=dataset)\n",
    "description = vc.add_view(vt.DESCRIPTION, dataset=dataset)\n",
    "heatmap = vc.add_view(vt.HEATMAP, dataset=dataset).set_props(transpose=True)\n",
    "cell_set_manager = vc.add_view(vt.OBS_SETS, dataset=dataset)\n"
   ]
  },
  {
   "cell_type": "code",
   "execution_count": null,
   "id": "bd6b3557-e413-4ec2-9add-021974474b98",
   "metadata": {
    "tags": []
   },
   "outputs": [],
   "source": [
    "vc.layout(\n",
    "    hconcat(layer_controller, spatial, scatterplot, marker_list)\n",
    "    / hconcat(description, heatmap, cell_set_manager)\n",
    ");"
   ]
  },
  {
   "cell_type": "code",
   "execution_count": null,
   "id": "5bf10952-3730-4375-b67f-e931154632ae",
   "metadata": {
    "tags": []
   },
   "outputs": [],
   "source": [
    "all_views = [\n",
    "    layer_controller, spatial, scatterplot, marker_list,\n",
    "    description, heatmap, cell_set_manager,\n",
    "]\n",
    "vc.link_views(\n",
    "    all_views,\n",
    "    [ct.FEATURE_TYPE],\n",
    "    [\"antigen\"]\n",
    ")"
   ]
  },
  {
   "cell_type": "code",
   "execution_count": null,
   "id": "b2f4a4e7-5771-4071-b939-edd60d1ec8ee",
   "metadata": {
    "tags": []
   },
   "outputs": [],
   "source": [
    "#vw = vc.widget()\n",
    "#vw"
   ]
  },
  {
   "cell_type": "code",
   "execution_count": null,
   "id": "f411cd13-3dc4-44b3-9986-f23dc1206a91",
   "metadata": {},
   "outputs": [],
   "source": [
    "vc.web_app()"
   ]
  },
  {
   "cell_type": "code",
   "execution_count": null,
   "id": "a62bb1b2-d7ad-4d92-a830-969fc171f7e5",
   "metadata": {
    "tags": []
   },
   "outputs": [],
   "source": [
    "os.makedirs(VIGNETTE_DIR, exist_ok=True)"
   ]
  },
  {
   "cell_type": "code",
   "execution_count": null,
   "id": "75d8d8c9-530d-46f2-8cb2-b516689a1011",
   "metadata": {},
   "outputs": [],
   "source": [
    "os.makedirs(PATH_TO_EXPORT_DIRECTORY, exist_ok=True)\n",
    "config_dict = vc.export(to=\"files\", base_url=f\"{BASE_URL_PLACEHOLDER}/codex\", out_dir=PATH_TO_EXPORT_DIRECTORY)\n",
    "\n",
    "# Use `open` to create a new empty file at ./exported_data/vitessce.json\n",
    "with open(join(VIGNETTE_DIR, \"codex.json\"), \"w\") as f:\n",
    "    json.dump(config_dict, f)"
   ]
  },
  {
   "cell_type": "code",
   "execution_count": null,
   "id": "84a27050-c357-41b1-8354-e4f967328f48",
   "metadata": {},
   "outputs": [],
   "source": [
    "vignette_md = \"\"\"---\n",
    "name: Use Case 4\n",
    "figures:\n",
    "    - name: \"Visualization\"\n",
    "      file: codex.json\n",
    "---\n",
    "\n",
    "\n",
    "## Multiplexed cyclic fluorescence images of oligo-barcoded antibodies in single cells from the human spleen\n",
    "\n",
    "CO-Detection by indEXing (CODEX) is a spatial assay which uses oligonucleotide probes conjugated to antibodies specific to a set of antigens of interest. Through multiple rounds of hybridization, up to 50 different antigens may be imaged. We present an example of using Vitessce to explore a human spleen tissue sample in which 29 antigens were targeted. The dataset contains the 29-channel microscopy images, cell segmentations, cell-by-antigen quantification, and unsupervised clustering results. To interact with this dataset, we configure Vitessce with a spatial plot, heatmap, and controllers to select image channels, antigens, and cell clusters of interest. With multiple representations of the same data, we can choose to begin exploration by focusing on one of several entity types.\n",
    "\n",
    "Because this dataset lacks cell type annotations, we are interested in the protein markers which define each cluster. We approach the visual analysis by selecting a cluster in the cell set controller, then searching for cluster-specific patterns in the spatial view. With clustering assignments encoded as cell segmentation mask colors, it appears that cells assigned to cluster 6 within the “Cell K-Means Mean-All-SubRegions Expression” localize to a small set of compact regions in the spatial view, suggestive of cellular neighborhoods in the spleen. When we identify cluster 6 in the heatmap view, it is clear that the marker with the highest relative expression in this cluster corresponds to the B cell marker CD20. We can confirm that CD20 is enriched in this spatial region by hiding the cell segmentation masks in the spatial plot, uncovering the underlying image data. Using the spatial layer controller, we can select the CD20 channel and verify that the fluorescence signal indeed appears in the expected regions. The heatmap and image views can help us to find other markers correlated with the CD20 spatial expression pattern.\n",
    "\n",
    "\"\"\"\n",
    "\n",
    "with open(join(VIGNETTE_DIR, \"description.md\"), \"w\") as f:\n",
    "    f.write(vignette_md)"
   ]
  }
 ],
 "metadata": {
  "kernelspec": {
   "display_name": "Python 3 (ipykernel)",
   "language": "python",
   "name": "python3"
  },
  "language_info": {
   "codemirror_mode": {
    "name": "ipython",
    "version": 3
   },
   "file_extension": ".py",
   "mimetype": "text/x-python",
   "name": "python",
   "nbconvert_exporter": "python",
   "pygments_lexer": "ipython3",
   "version": "3.9.0"
  }
 },
 "nbformat": 4,
 "nbformat_minor": 5
}
