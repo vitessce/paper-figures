{
 "cells": [
  {
   "cell_type": "code",
   "execution_count": 3,
   "id": "4c7a340b-e962-4e94-9d72-c60f48c2ad50",
   "metadata": {
    "tags": []
   },
   "outputs": [],
   "source": [
    "import scanpy as sc\n",
    "import numpy as np\n",
    "import pandas as pd\n",
    "from os.path import join\n",
    "import os\n",
    "from anndata import AnnData\n",
    "from mudata import MuData\n",
    "from muon import prot as pt"
   ]
  },
  {
   "cell_type": "code",
   "execution_count": 4,
   "id": "b9264c41-4887-4e95-ab56-64ce683138da",
   "metadata": {
    "tags": []
   },
   "outputs": [],
   "source": [
    "import celltypist\n",
    "from celltypist import models\n",
    "import scanpy as sc"
   ]
  },
  {
   "cell_type": "code",
   "execution_count": 5,
   "id": "f22d187d-5f7b-4c71-9eac-f5340d5f0209",
   "metadata": {
    "tags": []
   },
   "outputs": [
    {
     "name": "stdout",
     "output_type": "stream",
     "text": [
      "/Users/mkeller/research/dbmi/vitessce/paper-figures/cite-seq/src\n"
     ]
    }
   ],
   "source": [
    "!pwd"
   ]
  },
  {
   "cell_type": "code",
   "execution_count": 6,
   "id": "22f3928f-59f1-4d6c-a8b3-b90340b15956",
   "metadata": {
    "tags": []
   },
   "outputs": [],
   "source": [
    "BASE_DIR = join(\"..\", \"..\", \"hubmap-publication-page\", \"data\")\n",
    "VIGNETTE_DIR = join(\"..\", \"..\", \"hubmap-publication-page\", \"vignettes\", \"vignette_05\")"
   ]
  },
  {
   "cell_type": "code",
   "execution_count": 7,
   "id": "d8789a86-dfb3-46cc-8d17-f246d924841f",
   "metadata": {
    "tags": []
   },
   "outputs": [
    {
     "name": "stderr",
     "output_type": "stream",
     "text": [
      "📂 Storing models in /Users/mkeller/.celltypist/data/models\n",
      "💾 Total models to download: 2\n",
      "⏩ Skipping [1/2]: Immune_All_Low.pkl (file exists)\n",
      "⏩ Skipping [2/2]: Immune_All_High.pkl (file exists)\n"
     ]
    }
   ],
   "source": [
    "#Download a list of models, for example, `Immune_All_Low.pkl` and `Immune_All_High.pkl`.\n",
    "models.download_models(model = ['Immune_All_Low.pkl', 'Immune_All_High.pkl'])"
   ]
  },
  {
   "cell_type": "code",
   "execution_count": 8,
   "id": "95c0f631-3c52-4348-bd0c-418fb84cf5df",
   "metadata": {
    "tags": []
   },
   "outputs": [],
   "source": [
    "rna_df = pd.read_csv(join(\"..\", \"data\", \"raw\", \"GSE100866_CBMC_8K_13AB_10X-RNA_umi.csv.gz\"))"
   ]
  },
  {
   "cell_type": "code",
   "execution_count": 9,
   "id": "8e267055-cf4e-4c65-a778-9aadcb377a23",
   "metadata": {
    "tags": []
   },
   "outputs": [],
   "source": [
    "rna_df = rna_df.rename(columns={'Unnamed: 0': \"gene_id\"})"
   ]
  },
  {
   "cell_type": "code",
   "execution_count": 10,
   "id": "e06c8bf6-b20f-4d45-8b19-e55a0c931a9a",
   "metadata": {
    "tags": []
   },
   "outputs": [],
   "source": [
    "rna_df = rna_df.loc[rna_df[\"gene_id\"].str.startswith(\"HUMAN_\")]"
   ]
  },
  {
   "cell_type": "code",
   "execution_count": 11,
   "id": "8df6d1c2-c9ee-4632-b4df-de7be630d199",
   "metadata": {
    "tags": []
   },
   "outputs": [],
   "source": [
    "rna_df[\"gene_id\"] = rna_df[\"gene_id\"].apply(lambda gene_name: gene_name[len(\"HUMAN_\"):])\n",
    "rna_df = rna_df.set_index(\"gene_id\")"
   ]
  },
  {
   "cell_type": "code",
   "execution_count": 13,
   "id": "2409deab-817c-4711-b616-65fd8a19bb8a",
   "metadata": {
    "tags": []
   },
   "outputs": [],
   "source": [
    "adt_df = pd.read_csv(join(\"..\", \"data\", \"raw\", \"GSE100866_CBMC_8K_13AB_10X-ADT_umi.csv.gz\"), index_col=0)"
   ]
  },
  {
   "cell_type": "code",
   "execution_count": 14,
   "id": "f98808df-a9b7-488b-99a0-05cc3df6cb3b",
   "metadata": {
    "tags": []
   },
   "outputs": [
    {
     "data": {
      "text/plain": [
       "AnnData object with n_obs × n_vars = 8617 × 20400"
      ]
     },
     "execution_count": 14,
     "metadata": {},
     "output_type": "execute_result"
    }
   ],
   "source": [
    "rna_adata = AnnData(X=rna_df.T.values, obs=pd.DataFrame(index=rna_df.columns.values, data=[]), var=pd.DataFrame(index=rna_df.index.values, data=[]))\n",
    "rna_adata"
   ]
  },
  {
   "cell_type": "code",
   "execution_count": 15,
   "id": "4ca1fdd4-eee6-4396-ada5-6efd4202b1b5",
   "metadata": {
    "tags": []
   },
   "outputs": [
    {
     "data": {
      "text/plain": [
       "AnnData object with n_obs × n_vars = 8617 × 13"
      ]
     },
     "execution_count": 15,
     "metadata": {},
     "output_type": "execute_result"
    }
   ],
   "source": [
    "adt_adata = AnnData(X=adt_df.T.values, obs=pd.DataFrame(index=adt_df.columns.values, data=[]), var=pd.DataFrame(index=adt_df.index.values, data=[]))\n",
    "adt_adata"
   ]
  },
  {
   "cell_type": "code",
   "execution_count": 16,
   "id": "30d9e97d-27f9-47ee-94e9-3dd4b72184f9",
   "metadata": {
    "tags": []
   },
   "outputs": [
    {
     "data": {
      "text/html": [
       "<pre>MuData object with n_obs × n_vars = 8617 × 20413\n",
       "  2 modalities\n",
       "    rna:\t8617 x 20400\n",
       "    adt:\t8617 x 13</pre>"
      ],
      "text/plain": [
       "MuData object with n_obs × n_vars = 8617 × 20413\n",
       "  2 modalities\n",
       "    rna:\t8617 x 20400\n",
       "    adt:\t8617 x 13"
      ]
     },
     "execution_count": 16,
     "metadata": {},
     "output_type": "execute_result"
    }
   ],
   "source": [
    "mdata = MuData({ \"rna\": rna_adata, \"adt\": adt_adata })\n",
    "mdata"
   ]
  },
  {
   "cell_type": "code",
   "execution_count": 17,
   "id": "babd4ba4-eef2-4a76-8026-2f10e4d76485",
   "metadata": {
    "tags": []
   },
   "outputs": [],
   "source": [
    "rna = mdata.mod[\"rna\"]\n",
    "adt = mdata.mod[\"adt\"]"
   ]
  },
  {
   "cell_type": "code",
   "execution_count": 18,
   "id": "b81a6234-3af2-4c94-94ba-aad0a0f8e714",
   "metadata": {
    "tags": []
   },
   "outputs": [],
   "source": [
    "sc.pp.normalize_total(rna, target_sum=1e4)"
   ]
  },
  {
   "cell_type": "code",
   "execution_count": 19,
   "id": "b75b9886-3e73-4422-81e6-016d4c8a6439",
   "metadata": {
    "tags": []
   },
   "outputs": [],
   "source": [
    "sc.pp.log1p(rna)"
   ]
  },
  {
   "cell_type": "code",
   "execution_count": 20,
   "id": "1e693f77-837c-4d4a-b099-3c81b95d0a44",
   "metadata": {
    "tags": []
   },
   "outputs": [],
   "source": [
    "sc.pp.highly_variable_genes(rna)"
   ]
  },
  {
   "cell_type": "code",
   "execution_count": 21,
   "id": "52013b87-10cd-45c2-abff-dbc6e1828f4f",
   "metadata": {
    "tags": []
   },
   "outputs": [],
   "source": [
    "rna.raw = rna"
   ]
  },
  {
   "cell_type": "code",
   "execution_count": 22,
   "id": "3476f9fb-4e80-4ccc-9de7-3498161e77aa",
   "metadata": {
    "tags": []
   },
   "outputs": [],
   "source": [
    "rna = rna[:, rna.var.highly_variable]"
   ]
  },
  {
   "cell_type": "code",
   "execution_count": 23,
   "id": "3bfb2b83-729e-4c75-8b4d-ce090bf37520",
   "metadata": {
    "tags": []
   },
   "outputs": [],
   "source": [
    "sc.pp.scale(rna, max_value=10)"
   ]
  },
  {
   "cell_type": "code",
   "execution_count": 24,
   "id": "b5363d43-3d44-4188-bc37-8cdd068b0174",
   "metadata": {
    "tags": []
   },
   "outputs": [],
   "source": [
    "sc.tl.pca(rna, svd_solver='arpack')"
   ]
  },
  {
   "cell_type": "code",
   "execution_count": 25,
   "id": "e0c8acdb-3dca-4fa3-b8e1-ceea9b8b7f16",
   "metadata": {
    "tags": []
   },
   "outputs": [
    {
     "data": {
      "image/png": "[encoded data removed]",
      "text/plain": [
       "<Figure size 640x480 with 2 Axes>"
      ]
     },
     "metadata": {},
     "output_type": "display_data"
    }
   ],
   "source": [
    "sc.pl.pca(rna, color='CST3')"
   ]
  },
  {
   "cell_type": "code",
   "execution_count": 26,
   "id": "f083f728-516d-4e83-aede-164995b9d357",
   "metadata": {
    "tags": []
   },
   "outputs": [],
   "source": [
    "sc.pp.neighbors(rna, n_neighbors=10, n_pcs=30)"
   ]
  },
  {
   "cell_type": "code",
   "execution_count": 27,
   "id": "7bba1d46-7d72-4cc1-a9d0-ee4a925495de",
   "metadata": {
    "tags": []
   },
   "outputs": [],
   "source": [
    "sc.tl.umap(rna)"
   ]
  },
  {
   "cell_type": "code",
   "execution_count": 28,
   "id": "58f5e622-3426-44c9-8f1c-40a6279636ac",
   "metadata": {
    "tags": []
   },
   "outputs": [],
   "source": [
    "sc.tl.leiden(rna)"
   ]
  },
  {
   "cell_type": "code",
   "execution_count": 29,
   "id": "a9386489-e768-4dc7-a557-ade856da0958",
   "metadata": {
    "tags": []
   },
   "outputs": [],
   "source": [
    "mdata.mod[\"rna\"] = rna"
   ]
  },
  {
   "cell_type": "code",
   "execution_count": 33,
   "id": "1e7ad30d-dd4d-4c9b-bbc1-12c9dd6c6527",
   "metadata": {},
   "outputs": [],
   "source": [
    "adt.X = adt.X.astype('float64')"
   ]
  },
  {
   "cell_type": "code",
   "execution_count": 34,
   "id": "0bd12a64-c862-49dc-8fe0-2430e5229eb4",
   "metadata": {
    "tags": []
   },
   "outputs": [],
   "source": [
    "pt.pp.clr(adt)"
   ]
  },
  {
   "cell_type": "code",
   "execution_count": 35,
   "id": "5b76debc-b0bd-47b5-8995-7223221c15de",
   "metadata": {
    "tags": []
   },
   "outputs": [],
   "source": [
    "adt.obsm[\"X_umap\"] = rna.obsm[\"X_umap\"]\n",
    "adt.obs[\"leiden\"] = rna.obs[\"leiden\"]"
   ]
  },
  {
   "cell_type": "code",
   "execution_count": 36,
   "id": "f229824e-16c7-402c-9451-8098292872f6",
   "metadata": {
    "tags": []
   },
   "outputs": [
    {
     "data": {
      "text/html": [
       "<pre>MuData object with n_obs × n_vars = 8617 × 20413\n",
       "  2 modalities\n",
       "    rna:\t8617 x 2003\n",
       "      obs:\t&#x27;leiden&#x27;\n",
       "      var:\t&#x27;highly_variable&#x27;, &#x27;means&#x27;, &#x27;dispersions&#x27;, &#x27;dispersions_norm&#x27;, &#x27;mean&#x27;, &#x27;std&#x27;\n",
       "      uns:\t&#x27;log1p&#x27;, &#x27;hvg&#x27;, &#x27;pca&#x27;, &#x27;neighbors&#x27;, &#x27;umap&#x27;, &#x27;leiden&#x27;\n",
       "      obsm:\t&#x27;X_pca&#x27;, &#x27;X_umap&#x27;\n",
       "      varm:\t&#x27;PCs&#x27;\n",
       "      obsp:\t&#x27;distances&#x27;, &#x27;connectivities&#x27;\n",
       "    adt:\t8617 x 13\n",
       "      obs:\t&#x27;leiden&#x27;\n",
       "      obsm:\t&#x27;X_umap&#x27;</pre>"
      ],
      "text/plain": [
       "MuData object with n_obs × n_vars = 8617 × 20413\n",
       "  2 modalities\n",
       "    rna:\t8617 x 2003\n",
       "      obs:\t'leiden'\n",
       "      var:\t'highly_variable', 'means', 'dispersions', 'dispersions_norm', 'mean', 'std'\n",
       "      uns:\t'log1p', 'hvg', 'pca', 'neighbors', 'umap', 'leiden'\n",
       "      obsm:\t'X_pca', 'X_umap'\n",
       "      varm:\t'PCs'\n",
       "      obsp:\t'distances', 'connectivities'\n",
       "    adt:\t8617 x 13\n",
       "      obs:\t'leiden'\n",
       "      obsm:\t'X_umap'"
      ]
     },
     "execution_count": 36,
     "metadata": {},
     "output_type": "execute_result"
    }
   ],
   "source": [
    "mdata"
   ]
  },
  {
   "cell_type": "code",
   "execution_count": 37,
   "id": "c6b545ce-400e-4e9b-a8ea-888aaac4f169",
   "metadata": {
    "tags": []
   },
   "outputs": [],
   "source": [
    "mdata.write_zarr(join(BASE_DIR, \"GSE100866_CBMC_8K_13AB_10X.mdata.zarr\"))"
   ]
  },
  {
   "cell_type": "code",
   "execution_count": 38,
   "id": "797322b2-f669-456d-8f23-c9ccbb8a5414",
   "metadata": {
    "tags": []
   },
   "outputs": [],
   "source": [
    "from vitessce import (\n",
    "    VitessceConfig,\n",
    "    ViewType as vt,\n",
    "    CoordinationType as ct,\n",
    "    FileType as ft,\n",
    "    AnnDataWrapper,\n",
    "    BASE_URL_PLACEHOLDER\n",
    ")\n",
    "from vitessce.data_utils import VAR_CHUNK_SIZE\n",
    "import json\n",
    "from os.path import join"
   ]
  },
  {
   "cell_type": "code",
   "execution_count": 39,
   "id": "e499a187-4893-4d45-8ea4-dbecf9c134c3",
   "metadata": {
    "tags": []
   },
   "outputs": [],
   "source": [
    "from anndata import read_zarr"
   ]
  },
  {
   "cell_type": "code",
   "execution_count": 40,
   "id": "3e66789f-e4e5-43fc-b31c-e819b90ee164",
   "metadata": {
    "tags": []
   },
   "outputs": [],
   "source": [
    "rna_zarr = join(\"GSE100866_CBMC_8K_13AB_10X.mdata.zarr\", \"mod\", \"rna\")\n",
    "adt_zarr = join(\"GSE100866_CBMC_8K_13AB_10X.mdata.zarr\", \"mod\", \"adt\")"
   ]
  },
  {
   "cell_type": "code",
   "execution_count": 41,
   "id": "f92e9fd7-1049-426d-b2d0-b6e4438cf54b",
   "metadata": {
    "tags": []
   },
   "outputs": [
    {
     "data": {
      "text/plain": [
       "AnnData object with n_obs × n_vars = 8617 × 2003\n",
       "    obs: 'leiden'\n",
       "    var: 'highly_variable', 'means', 'dispersions', 'dispersions_norm', 'mean', 'std'\n",
       "    uns: 'hvg', 'leiden', 'log1p', 'neighbors', 'pca', 'umap'\n",
       "    obsm: 'X_pca', 'X_umap'\n",
       "    varm: 'PCs'\n",
       "    obsp: 'connectivities', 'distances'"
      ]
     },
     "execution_count": 41,
     "metadata": {},
     "output_type": "execute_result"
    }
   ],
   "source": [
    "rna_adata = read_zarr(join(BASE_DIR, rna_zarr))\n",
    "rna_adata"
   ]
  },
  {
   "cell_type": "code",
   "execution_count": 42,
   "id": "d7e279a0-f190-4430-8c84-553e5b9c3cda",
   "metadata": {
    "tags": []
   },
   "outputs": [
    {
     "data": {
      "text/plain": [
       "AnnData object with n_obs × n_vars = 8617 × 13\n",
       "    obs: 'leiden'\n",
       "    obsm: 'X_umap'"
      ]
     },
     "execution_count": 42,
     "metadata": {},
     "output_type": "execute_result"
    }
   ],
   "source": [
    "adt_adata = read_zarr(join(BASE_DIR, adt_zarr))\n",
    "adt_adata"
   ]
  },
  {
   "cell_type": "code",
   "execution_count": 43,
   "id": "bea87aed-09a6-4a0e-a643-d21543f8d602",
   "metadata": {
    "tags": []
   },
   "outputs": [
    {
     "name": "stderr",
     "output_type": "stream",
     "text": [
      "👀 Detected scaled expression in the input data, will try the .raw attribute\n",
      "🔬 Input data has 8617 cells and 20400 genes\n",
      "🔗 Matching reference genes in the model\n",
      "🧬 5062 features used for prediction\n",
      "⚖️ Scaling input data\n",
      "🖋️ Predicting labels\n",
      "✅ Prediction done!\n",
      "👀 Detected a neighborhood graph in the input object, will run over-clustering on the basis of it\n",
      "⛓️ Over-clustering input data with resolution set to 10\n",
      "🗳️ Majority voting the predictions\n",
      "✅ Majority voting done!\n",
      "👀 Detected scaled expression in the input data, will try the .raw attribute\n",
      "🔬 Input data has 8617 cells and 20400 genes\n",
      "🔗 Matching reference genes in the model\n",
      "🧬 5062 features used for prediction\n",
      "⚖️ Scaling input data\n",
      "🖋️ Predicting labels\n",
      "✅ Prediction done!\n",
      "👀 Detected a neighborhood graph in the input object, will run over-clustering on the basis of it\n",
      "⛓️ Over-clustering input data with resolution set to 10\n",
      "🗳️ Majority voting the predictions\n",
      "✅ Majority voting done!\n"
     ]
    }
   ],
   "source": [
    "adata = rna_adata\n",
    "low_predictions = celltypist.annotate(adata, model = 'Immune_All_Low.pkl', majority_voting = True)\n",
    "adata = low_predictions.to_adata(prefix=\"low_\")\n",
    "high_predictions = celltypist.annotate(adata, model = 'Immune_All_High.pkl', majority_voting = True)\n",
    "adata = high_predictions.to_adata(prefix=\"high_\")"
   ]
  },
  {
   "cell_type": "code",
   "execution_count": 44,
   "id": "7901df6f-ec79-49f7-b497-8f8ef8f298c7",
   "metadata": {
    "tags": []
   },
   "outputs": [],
   "source": [
    "adata.write_zarr(join(BASE_DIR, rna_zarr), chunks=(adata.shape[0], VAR_CHUNK_SIZE))"
   ]
  },
  {
   "cell_type": "code",
   "execution_count": 45,
   "id": "4d59a8f4-df52-404f-a4c6-7af3fc5e11d9",
   "metadata": {
    "tags": []
   },
   "outputs": [
    {
     "data": {
      "text/plain": [
       "AnnData object with n_obs × n_vars = 8617 × 2003\n",
       "    obs: 'leiden', 'low_predicted_labels', 'low_over_clustering', 'low_majority_voting', 'low_conf_score', 'high_predicted_labels', 'high_over_clustering', 'high_majority_voting', 'high_conf_score'\n",
       "    var: 'highly_variable', 'means', 'dispersions', 'dispersions_norm', 'mean', 'std'\n",
       "    uns: 'hvg', 'leiden', 'log1p', 'neighbors', 'pca', 'umap'\n",
       "    obsm: 'X_pca', 'X_umap'\n",
       "    varm: 'PCs'\n",
       "    obsp: 'connectivities', 'distances'"
      ]
     },
     "execution_count": 45,
     "metadata": {},
     "output_type": "execute_result"
    }
   ],
   "source": [
    "adata"
   ]
  },
  {
   "cell_type": "code",
   "execution_count": 46,
   "id": "da809290-f01f-47b4-bea0-ec320733da36",
   "metadata": {
    "tags": []
   },
   "outputs": [],
   "source": [
    "adt_adata.obs[\"low_majority_voting\"] = adata.obs[\"low_majority_voting\"]\n",
    "adt_adata.obs[\"high_majority_voting\"] = adata.obs[\"high_majority_voting\"]"
   ]
  },
  {
   "cell_type": "code",
   "execution_count": 47,
   "id": "90391d6c-020f-4377-9d7e-7447428fdad5",
   "metadata": {
    "tags": []
   },
   "outputs": [],
   "source": [
    "adt_adata.write_zarr(join(BASE_DIR, adt_zarr), chunks=(adt_adata.shape[0], VAR_CHUNK_SIZE))"
   ]
  },
  {
   "cell_type": "code",
   "execution_count": 101,
   "id": "a74759d4-4b10-4178-9ca3-8b7dd366e3cd",
   "metadata": {
    "tags": []
   },
   "outputs": [],
   "source": [
    "vc = VitessceConfig(schema_version=\"1.0.15\", name='CITE-seq example', description='RNA+ADT', base_dir=BASE_DIR)"
   ]
  },
  {
   "cell_type": "code",
   "execution_count": 102,
   "id": "c07cb582-6c3d-45d7-937b-e54bd8fc93d8",
   "metadata": {
    "tags": []
   },
   "outputs": [],
   "source": [
    "dataset = vc.add_dataset(name='CBMC 8K').add_object(AnnDataWrapper(\n",
    "    # We run add_object with adata_path=rna_zarr first to add the cell-by-gene matrix and associated metadata.\n",
    "    adata_path=rna_zarr,\n",
    "    obs_embedding_paths=[\"obsm/X_umap\", \"obsm/X_pca\"],\n",
    "    obs_embedding_names=[\"UMAP\", \"PCA\"],\n",
    "    obs_set_paths=[\"obs/leiden\", [\"obs/high_majority_voting\", \"obs/low_majority_voting\"]],\n",
    "    obs_set_names=[\"Leiden Clusters\", \"Predicted Cell Type\"],\n",
    "    obs_feature_matrix_path=\"X\",\n",
    "    # To be explicit that the features represent genes and gene expression, we specify that here.\n",
    "    coordination_values={\n",
    "        \"featureType\": \"gene\",\n",
    "        \"featureValueType\": \"expression\"\n",
    "    }\n",
    ")).add_object(AnnDataWrapper(\n",
    "    # We next run add_object with adata_path=adt_zarr to add the cell-by-ADT matrix and associated metadata.\n",
    "    adata_path=adt_zarr,\n",
    "    obs_embedding_paths=[\"obsm/X_umap\"],\n",
    "    obs_embedding_names=[\"UMAP\"],\n",
    "    obs_set_paths=[\"obs/leiden\", [\"obs/high_majority_voting\", \"obs/low_majority_voting\"]],\n",
    "    obs_set_names=[\"Leiden Clusters\", \"Predicted Cell Type\"],\n",
    "    obs_feature_matrix_path=\"X\",\n",
    "    # If the features do not represent genes and gene expression, we specify alternate values here.\n",
    "    coordination_values={\n",
    "        \"featureType\": \"tag\",\n",
    "        \"featureValueType\": \"count\"\n",
    "    }\n",
    "))"
   ]
  },
  {
   "cell_type": "code",
   "execution_count": 103,
   "id": "0b62f4fe-ad8b-458b-9cfe-a54a647138a1",
   "metadata": {
    "tags": []
   },
   "outputs": [],
   "source": [
    "umap_scatterplot_by_rna = vc.add_view(vt.SCATTERPLOT, dataset=dataset, mapping=\"UMAP\", x=6, y=0, w=3, h=6)\n",
    "umap_scatterplot_by_adt = vc.add_view(vt.SCATTERPLOT, dataset=dataset, mapping=\"UMAP\", x=6, y=6, w=3, h=6)\n",
    "\n",
    "gene_list = vc.add_view(vt.FEATURE_LIST, dataset=dataset, x=9, y=0, w=3, h=4)\n",
    "protein_list = vc.add_view(vt.FEATURE_LIST, dataset=dataset, x=9, y=8, w=3, h=4)\n",
    "\n",
    "obs_sets = vc.add_view(vt.OBS_SETS, dataset=dataset, x=9, y=4, w=3, h=4)\n",
    "\n",
    "rna_heatmap = vc.add_view(vt.HEATMAP, dataset=dataset, x=0, y=0, w=6, h=6).set_props(transpose=True)\n",
    "adt_heatmap = vc.add_view(vt.HEATMAP, dataset=dataset, x=0, y=6, w=6, h=6).set_props(transpose=True)"
   ]
  },
  {
   "cell_type": "code",
   "execution_count": 104,
   "id": "f544df2d-ea33-4b03-805a-c5e708379fb2",
   "metadata": {
    "tags": []
   },
   "outputs": [
    {
     "data": {
      "text/plain": [
       "<vitessce.config.VitessceConfig at 0x355848460>"
      ]
     },
     "execution_count": 104,
     "metadata": {},
     "output_type": "execute_result"
    }
   ],
   "source": [
    "# We need to specify which of the two features (i.e., genes or tags) the different plots correspond to.\n",
    "# We also need to make sure the selection of genes and tags are scoped to only the corresponding plots,\n",
    "# and we want to make sure the color mappings are independent for each modality.\n",
    "all_views = [\n",
    "    umap_scatterplot_by_rna, gene_list, rna_heatmap,\n",
    "    umap_scatterplot_by_adt, protein_list, adt_heatmap,\n",
    "    obs_sets,\n",
    "]\n",
    "coordination_types = [ct.FEATURE_TYPE, ct.FEATURE_VALUE_TYPE, ct.FEATURE_SELECTION, ct.OBS_COLOR_ENCODING, ct.FEATURE_VALUE_COLORMAP_RANGE]\n",
    "vc.link_views([umap_scatterplot_by_rna, gene_list, rna_heatmap], coordination_types, [\"gene\", \"expression\", [\"GZMB\"], 'geneSelection', [0.0, 0.3]])\n",
    "vc.link_views([umap_scatterplot_by_adt, protein_list, adt_heatmap], coordination_types, [\"tag\", \"count\", [\"CD56\"], 'geneSelection', [0.0, 0.5]])\n",
    "\n",
    "# We can link the two scatterplots on their zoom level and (X,Y) center point so that zooming/panning is coordinated.\n",
    "vc.link_views([umap_scatterplot_by_rna, umap_scatterplot_by_adt], [ct.EMBEDDING_ZOOM, ct.EMBEDDING_TARGET_X, ct.EMBEDDING_TARGET_Y], [3, 8, -3])\n",
    "\n",
    "vc.link_views([umap_scatterplot_by_rna, umap_scatterplot_by_adt], [ct.EMBEDDING_OBS_SET_LABELS_VISIBLE], [True])\n",
    "vc.link_views(all_views, [ct.OBS_SET_SELECTION], [[\n",
    "    [\"Predicted Cell Type\", \"ILC\", \"CD16- NK cells\"],\n",
    "    [\"Predicted Cell Type\", \"ILC\", \"CD16+ NK cells\"],\n",
    "    [\"Predicted Cell Type\", \"ILC\", \"Classical monocytes\"],\n",
    "    [\"Predicted Cell Type\", \"ILC\", \"NK cells\"],\n",
    "]])"
   ]
  },
  {
   "cell_type": "code",
   "execution_count": 105,
   "id": "d88f759e-bce2-4998-abac-095415dab507",
   "metadata": {
    "tags": []
   },
   "outputs": [
    {
     "data": {
      "text/plain": [
       "'\\nvc.layout(\\n    (rna_heatmap | (umap_scatterplot_by_rna | gene_list))\\n    / (adt_heatmap | (umap_scatterplot_by_adt | protein_list))\\n);\\n'"
      ]
     },
     "execution_count": 105,
     "metadata": {},
     "output_type": "execute_result"
    }
   ],
   "source": [
    "# We define a layout for the plots using two rows.\n",
    "# In the first row, we add the three gene-related visualizations,\n",
    "# and in the second row, we add the three ADT-related visualizations.\n",
    "\"\"\"\n",
    "vc.layout(\n",
    "    (rna_heatmap | (umap_scatterplot_by_rna | gene_list))\n",
    "    / (adt_heatmap | (umap_scatterplot_by_adt | protein_list))\n",
    ");\n",
    "\"\"\""
   ]
  },
  {
   "cell_type": "code",
   "execution_count": 106,
   "id": "ddf9f819-45b8-4818-9738-92c971455614",
   "metadata": {
    "tags": []
   },
   "outputs": [],
   "source": [
    "#vw = vc.widget()\n",
    "#vw"
   ]
  },
  {
   "cell_type": "code",
   "execution_count": 107,
   "id": "fa7eb036",
   "metadata": {},
   "outputs": [
    {
     "data": {
      "text/plain": [
       "'http://vitessce.io/#?theme=light&url=data:,%7B%22version%22%3A+%221.0.15%22%2C+%22name%22%3A+%22CITE-seq+example%22%2C+%22description%22%3A+%22RNA%2BADT%22%2C+%22datasets%22%3A+%5B%7B%22uid%22%3A+%22A%22%2C+%22name%22%3A+%22CBMC+8K%22%2C+%22files%22%3A+%5B%7B%22fileType%22%3A+%22anndata.zarr%22%2C+%22url%22%3A+%22http%3A%2F%2Flocalhost%3A8017%2FGSE100866_CBMC_8K_13AB_10X.mdata.zarr%2Fmod%2Frna%22%2C+%22options%22%3A+%7B%22obsEmbedding%22%3A+%5B%7B%22path%22%3A+%22obsm%2FX_umap%22%2C+%22dims%22%3A+%5B0%2C+1%5D%2C+%22embeddingType%22%3A+%22UMAP%22%7D%2C+%7B%22path%22%3A+%22obsm%2FX_pca%22%2C+%22dims%22%3A+%5B0%2C+1%5D%2C+%22embeddingType%22%3A+%22PCA%22%7D%5D%2C+%22obsSets%22%3A+%5B%7B%22name%22%3A+%22Leiden+Clusters%22%2C+%22path%22%3A+%22obs%2Fleiden%22%7D%2C+%7B%22name%22%3A+%22Predicted+Cell+Type%22%2C+%22path%22%3A+%5B%22obs%2Fhigh_majority_voting%22%2C+%22obs%2Flow_majority_voting%22%5D%7D%5D%2C+%22obsFeatureMatrix%22%3A+%7B%22path%22%3A+%22X%22%7D%7D%2C+%22coordinationValues%22%3A+%7B%22featureType%22%3A+%22gene%22%2C+%22featureValueType%22%3A+%22expression%22%7D%7D%2C+%7B%22fileType%22%3A+%22anndata.zarr%22%2C+%22url%22%3A+%22http%3A%2F%2Flocalhost%3A8017%2FGSE100866_CBMC_8K_13AB_10X.mdata.zarr%2Fmod%2Fadt%22%2C+%22options%22%3A+%7B%22obsEmbedding%22%3A+%5B%7B%22path%22%3A+%22obsm%2FX_umap%22%2C+%22dims%22%3A+%5B0%2C+1%5D%2C+%22embeddingType%22%3A+%22UMAP%22%7D%5D%2C+%22obsSets%22%3A+%5B%7B%22name%22%3A+%22Leiden+Clusters%22%2C+%22path%22%3A+%22obs%2Fleiden%22%7D%2C+%7B%22name%22%3A+%22Predicted+Cell+Type%22%2C+%22path%22%3A+%5B%22obs%2Fhigh_majority_voting%22%2C+%22obs%2Flow_majority_voting%22%5D%7D%5D%2C+%22obsFeatureMatrix%22%3A+%7B%22path%22%3A+%22X%22%7D%7D%2C+%22coordinationValues%22%3A+%7B%22featureType%22%3A+%22tag%22%2C+%22featureValueType%22%3A+%22count%22%7D%7D%5D%7D%5D%2C+%22coordinationSpace%22%3A+%7B%22dataset%22%3A+%7B%22A%22%3A+%22A%22%7D%2C+%22embeddingType%22%3A+%7B%22A%22%3A+%22UMAP%22%2C+%22B%22%3A+%22UMAP%22%7D%2C+%22featureType%22%3A+%7B%22A%22%3A+%22gene%22%2C+%22B%22%3A+%22tag%22%7D%2C+%22featureValueType%22%3A+%7B%22A%22%3A+%22expression%22%2C+%22B%22%3A+%22count%22%7D%2C+%22featureSelection%22%3A+%7B%22A%22%3A+%5B%22GZMB%22%5D%2C+%22B%22%3A+%5B%22CD56%22%5D%7D%2C+%22obsColorEncoding%22%3A+%7B%22A%22%3A+%22geneSelection%22%2C+%22B%22%3A+%22geneSelection%22%7D%2C+%22featureValueColormapRange%22%3A+%7B%22A%22%3A+%5B0.0%2C+0.3%5D%2C+%22B%22%3A+%5B0.0%2C+0.5%5D%7D%2C+%22embeddingZoom%22%3A+%7B%22A%22%3A+3%7D%2C+%22embeddingTargetX%22%3A+%7B%22A%22%3A+8%7D%2C+%22embeddingTargetY%22%3A+%7B%22A%22%3A+-3%7D%2C+%22embeddingObsSetLabelsVisible%22%3A+%7B%22A%22%3A+true%7D%2C+%22obsSetSelection%22%3A+%7B%22A%22%3A+%5B%5B%22Predicted+Cell+Type%22%2C+%22ILC%22%2C+%22CD16-+NK+cells%22%5D%2C+%5B%22Predicted+Cell+Type%22%2C+%22ILC%22%2C+%22CD16%2B+NK+cells%22%5D%2C+%5B%22Predicted+Cell+Type%22%2C+%22ILC%22%2C+%22Classical+monocytes%22%5D%2C+%5B%22Predicted+Cell+Type%22%2C+%22ILC%22%2C+%22NK+cells%22%5D%5D%7D%7D%2C+%22layout%22%3A+%5B%7B%22component%22%3A+%22scatterplot%22%2C+%22coordinationScopes%22%3A+%7B%22dataset%22%3A+%22A%22%2C+%22embeddingType%22%3A+%22A%22%2C+%22featureType%22%3A+%22A%22%2C+%22featureValueType%22%3A+%22A%22%2C+%22featureSelection%22%3A+%22A%22%2C+%22obsColorEncoding%22%3A+%22A%22%2C+%22featureValueColormapRange%22%3A+%22A%22%2C+%22embeddingZoom%22%3A+%22A%22%2C+%22embeddingTargetX%22%3A+%22A%22%2C+%22embeddingTargetY%22%3A+%22A%22%2C+%22embeddingObsSetLabelsVisible%22%3A+%22A%22%2C+%22obsSetSelection%22%3A+%22A%22%7D%2C+%22x%22%3A+6%2C+%22y%22%3A+0%2C+%22w%22%3A+3%2C+%22h%22%3A+6%7D%2C+%7B%22component%22%3A+%22scatterplot%22%2C+%22coordinationScopes%22%3A+%7B%22dataset%22%3A+%22A%22%2C+%22embeddingType%22%3A+%22B%22%2C+%22featureType%22%3A+%22B%22%2C+%22featureValueType%22%3A+%22B%22%2C+%22featureSelection%22%3A+%22B%22%2C+%22obsColorEncoding%22%3A+%22B%22%2C+%22featureValueColormapRange%22%3A+%22B%22%2C+%22embeddingZoom%22%3A+%22A%22%2C+%22embeddingTargetX%22%3A+%22A%22%2C+%22embeddingTargetY%22%3A+%22A%22%2C+%22embeddingObsSetLabelsVisible%22%3A+%22A%22%2C+%22obsSetSelection%22%3A+%22A%22%7D%2C+%22x%22%3A+6%2C+%22y%22%3A+6%2C+%22w%22%3A+3%2C+%22h%22%3A+6%7D%2C+%7B%22component%22%3A+%22featureList%22%2C+%22coordinationScopes%22%3A+%7B%22dataset%22%3A+%22A%22%2C+%22featureType%22%3A+%22A%22%2C+%22featureValueType%22%3A+%22A%22%2C+%22featureSelection%22%3A+%22A%22%2C+%22obsColorEncoding%22%3A+%22A%22%2C+%22featureValueColormapRange%22%3A+%22A%22%2C+%22obsSetSelection%22%3A+%22A%22%7D%2C+%22x%22%3A+9%2C+%22y%22%3A+0%2C+%22w%22%3A+3%2C+%22h%22%3A+4%7D%2C+%7B%22component%22%3A+%22featureList%22%2C+%22coordinationScopes%22%3A+%7B%22dataset%22%3A+%22A%22%2C+%22featureType%22%3A+%22B%22%2C+%22featureValueType%22%3A+%22B%22%2C+%22featureSelection%22%3A+%22B%22%2C+%22obsColorEncoding%22%3A+%22B%22%2C+%22featureValueColormapRange%22%3A+%22B%22%2C+%22obsSetSelection%22%3A+%22A%22%7D%2C+%22x%22%3A+9%2C+%22y%22%3A+8%2C+%22w%22%3A+3%2C+%22h%22%3A+4%7D%2C+%7B%22component%22%3A+%22obsSets%22%2C+%22coordinationScopes%22%3A+%7B%22dataset%22%3A+%22A%22%2C+%22obsSetSelection%22%3A+%22A%22%7D%2C+%22x%22%3A+9%2C+%22y%22%3A+4%2C+%22w%22%3A+3%2C+%22h%22%3A+4%7D%2C+%7B%22component%22%3A+%22heatmap%22%2C+%22coordinationScopes%22%3A+%7B%22dataset%22%3A+%22A%22%2C+%22featureType%22%3A+%22A%22%2C+%22featureValueType%22%3A+%22A%22%2C+%22featureSelection%22%3A+%22A%22%2C+%22obsColorEncoding%22%3A+%22A%22%2C+%22featureValueColormapRange%22%3A+%22A%22%2C+%22obsSetSelection%22%3A+%22A%22%7D%2C+%22x%22%3A+0%2C+%22y%22%3A+0%2C+%22w%22%3A+6%2C+%22h%22%3A+6%2C+%22props%22%3A+%7B%22transpose%22%3A+true%7D%7D%2C+%7B%22component%22%3A+%22heatmap%22%2C+%22coordinationScopes%22%3A+%7B%22dataset%22%3A+%22A%22%2C+%22featureType%22%3A+%22B%22%2C+%22featureValueType%22%3A+%22B%22%2C+%22featureSelection%22%3A+%22B%22%2C+%22obsColorEncoding%22%3A+%22B%22%2C+%22featureValueColormapRange%22%3A+%22B%22%2C+%22obsSetSelection%22%3A+%22A%22%7D%2C+%22x%22%3A+0%2C+%22y%22%3A+6%2C+%22w%22%3A+6%2C+%22h%22%3A+6%2C+%22props%22%3A+%7B%22transpose%22%3A+true%7D%7D%5D%2C+%22initStrategy%22%3A+%22auto%22%7D'"
      ]
     },
     "execution_count": 107,
     "metadata": {},
     "output_type": "execute_result"
    }
   ],
   "source": [
    "vc.web_app()"
   ]
  },
  {
   "cell_type": "code",
   "execution_count": null,
   "id": "ac68ba94-bcf1-4f69-93f9-eb2dec32b40e",
   "metadata": {
    "tags": []
   },
   "outputs": [],
   "source": [
    "os.makedirs(VIGNETTE_DIR, exist_ok=True)"
   ]
  },
  {
   "cell_type": "code",
   "execution_count": null,
   "id": "56a3f2e2",
   "metadata": {},
   "outputs": [],
   "source": [
    "config_dict = vc.to_dict(base_url=BASE_URL_PLACEHOLDER)\n",
    "\n",
    "# Use `open` to create a new empty file at ./exported_data/vitessce.json\n",
    "with open(join(VIGNETTE_DIR, \"cite-seq.json\"), \"w\") as f:\n",
    "    json.dump(config_dict, f)\n"
   ]
  },
  {
   "cell_type": "code",
   "execution_count": null,
   "id": "ca2ab04a-78fe-4bca-8bde-fd38ca1772da",
   "metadata": {},
   "outputs": [],
   "source": [
    "vignette_md = \"\"\"---\n",
    "name: Use Case 5\n",
    "figures:\n",
    "    - name: \"Visualization\"\n",
    "      file: cite-seq.json\n",
    "---\n",
    "\n",
    "## Transcriptomics and surface protein abundance in human cord blood mononuclear cells\n",
    "\n",
    "Stoeckius et al. report the development of the CITE-seq method for measuring gene expression and surface protein abundance in the same cells (Stoeckius et al., Nature Methods 2017). The authors validate their technique on a sample of cord blood mononuclear cells (CBMCs) by measuring the abundance of well-characterized immune cell type markers. Using linked scatterplots and heatmaps to visualize protein abundance and gene expression levels simultaneously, we can reproduce the authors’ multimodal characterization of the Natural Killer (NK) cell type based on CD56 levels and the expression of genes GZMB, GZMK, and PRF1.\n",
    "\n",
    "\"\"\"\n",
    "\n",
    "with open(join(VIGNETTE_DIR, \"description.md\"), \"w\") as f:\n",
    "    f.write(vignette_md)\n"
   ]
  },
  {
   "cell_type": "code",
   "execution_count": null,
   "id": "096cfe13-fe14-4a90-be96-033d25554827",
   "metadata": {},
   "outputs": [],
   "source": []
  }
 ],
 "metadata": {
  "kernelspec": {
   "display_name": "Python 3 (ipykernel)",
   "language": "python",
   "name": "python3"
  },
  "language_info": {
   "codemirror_mode": {
    "name": "ipython",
    "version": 3
   },
   "file_extension": ".py",
   "mimetype": "text/x-python",
   "name": "python",
   "nbconvert_exporter": "python",
   "pygments_lexer": "ipython3",
   "version": "3.10.0"
  }
 },
 "nbformat": 4,
 "nbformat_minor": 5
}
