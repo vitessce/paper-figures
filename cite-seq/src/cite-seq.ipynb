{
 "cells": [
  {
   "cell_type": "code",
   "execution_count": null,
   "id": "4c7a340b-e962-4e94-9d72-c60f48c2ad50",
   "metadata": {
    "tags": []
   },
   "outputs": [],
   "source": [
    "import scanpy as sc\n",
    "import numpy as np\n",
    "import pandas as pd\n",
    "from os.path import join\n",
    "from anndata import AnnData\n",
    "from mudata import MuData\n",
    "from muon import prot as pt"
   ]
  },
  {
   "cell_type": "code",
   "execution_count": null,
   "id": "f22d187d-5f7b-4c71-9eac-f5340d5f0209",
   "metadata": {
    "tags": []
   },
   "outputs": [],
   "source": [
    "!pwd"
   ]
  },
  {
   "cell_type": "code",
   "execution_count": null,
   "id": "95c0f631-3c52-4348-bd0c-418fb84cf5df",
   "metadata": {
    "tags": []
   },
   "outputs": [],
   "source": [
    "rna_df = pd.read_csv(join(\"..\", \"data\", \"raw\", \"GSE100866_CBMC_8K_13AB_10X-RNA_umi.csv.gz\"))"
   ]
  },
  {
   "cell_type": "code",
   "execution_count": null,
   "id": "8e267055-cf4e-4c65-a778-9aadcb377a23",
   "metadata": {
    "tags": []
   },
   "outputs": [],
   "source": [
    "rna_df = rna_df.rename(columns={'Unnamed: 0': \"gene_id\"})"
   ]
  },
  {
   "cell_type": "code",
   "execution_count": null,
   "id": "e06c8bf6-b20f-4d45-8b19-e55a0c931a9a",
   "metadata": {
    "tags": []
   },
   "outputs": [],
   "source": [
    "rna_df = rna_df.loc[rna_df[\"gene_id\"].str.startswith(\"HUMAN_\")]"
   ]
  },
  {
   "cell_type": "code",
   "execution_count": null,
   "id": "8df6d1c2-c9ee-4632-b4df-de7be630d199",
   "metadata": {
    "tags": []
   },
   "outputs": [],
   "source": [
    "rna_df[\"gene_id\"] = rna_df[\"gene_id\"].apply(lambda gene_name: gene_name[len(\"HUMAN_\"):])\n",
    "rna_df = rna_df.set_index(\"gene_id\")"
   ]
  },
  {
   "cell_type": "code",
   "execution_count": null,
   "id": "2409deab-817c-4711-b616-65fd8a19bb8a",
   "metadata": {
    "tags": []
   },
   "outputs": [],
   "source": [
    "adt_df = pd.read_csv(join(\"..\", \"data\", \"raw\", \"GSE100866_CBMC_8K_13AB_10X-ADT_umi.csv.gz\"), index_col=0)"
   ]
  },
  {
   "cell_type": "code",
   "execution_count": null,
   "id": "f98808df-a9b7-488b-99a0-05cc3df6cb3b",
   "metadata": {
    "tags": []
   },
   "outputs": [],
   "source": [
    "rna_adata = AnnData(X=rna_df.T.values, obs=pd.DataFrame(index=rna_df.columns.values, data=[]), var=pd.DataFrame(index=rna_df.index.values, data=[]))\n",
    "rna_adata"
   ]
  },
  {
   "cell_type": "code",
   "execution_count": null,
   "id": "4ca1fdd4-eee6-4396-ada5-6efd4202b1b5",
   "metadata": {
    "tags": []
   },
   "outputs": [],
   "source": [
    "adt_adata = AnnData(X=adt_df.T.values, obs=pd.DataFrame(index=adt_df.columns.values, data=[]), var=pd.DataFrame(index=adt_df.index.values, data=[]))\n",
    "adt_adata"
   ]
  },
  {
   "cell_type": "code",
   "execution_count": null,
   "id": "30d9e97d-27f9-47ee-94e9-3dd4b72184f9",
   "metadata": {
    "tags": []
   },
   "outputs": [],
   "source": [
    "mdata = MuData({ \"rna\": rna_adata, \"adt\": adt_adata })\n",
    "mdata"
   ]
  },
  {
   "cell_type": "code",
   "execution_count": null,
   "id": "babd4ba4-eef2-4a76-8026-2f10e4d76485",
   "metadata": {
    "tags": []
   },
   "outputs": [],
   "source": [
    "rna = mdata.mod[\"rna\"]\n",
    "adt = mdata.mod[\"adt\"]"
   ]
  },
  {
   "cell_type": "code",
   "execution_count": null,
   "id": "b81a6234-3af2-4c94-94ba-aad0a0f8e714",
   "metadata": {
    "tags": []
   },
   "outputs": [],
   "source": [
    "sc.pp.normalize_total(rna, target_sum=1e4)"
   ]
  },
  {
   "cell_type": "code",
   "execution_count": null,
   "id": "b75b9886-3e73-4422-81e6-016d4c8a6439",
   "metadata": {
    "tags": []
   },
   "outputs": [],
   "source": [
    "sc.pp.log1p(rna)"
   ]
  },
  {
   "cell_type": "code",
   "execution_count": null,
   "id": "1e693f77-837c-4d4a-b099-3c81b95d0a44",
   "metadata": {
    "tags": []
   },
   "outputs": [],
   "source": [
    "sc.pp.highly_variable_genes(rna)"
   ]
  },
  {
   "cell_type": "code",
   "execution_count": null,
   "id": "52013b87-10cd-45c2-abff-dbc6e1828f4f",
   "metadata": {
    "tags": []
   },
   "outputs": [],
   "source": [
    "rna.raw = rna"
   ]
  },
  {
   "cell_type": "code",
   "execution_count": null,
   "id": "3476f9fb-4e80-4ccc-9de7-3498161e77aa",
   "metadata": {
    "tags": []
   },
   "outputs": [],
   "source": [
    "rna = rna[:, rna.var.highly_variable]"
   ]
  },
  {
   "cell_type": "code",
   "execution_count": null,
   "id": "3bfb2b83-729e-4c75-8b4d-ce090bf37520",
   "metadata": {
    "tags": []
   },
   "outputs": [],
   "source": [
    "sc.pp.scale(rna, max_value=10)"
   ]
  },
  {
   "cell_type": "code",
   "execution_count": null,
   "id": "b5363d43-3d44-4188-bc37-8cdd068b0174",
   "metadata": {
    "tags": []
   },
   "outputs": [],
   "source": [
    "sc.tl.pca(rna, svd_solver='arpack')"
   ]
  },
  {
   "cell_type": "code",
   "execution_count": null,
   "id": "e0c8acdb-3dca-4fa3-b8e1-ceea9b8b7f16",
   "metadata": {
    "tags": []
   },
   "outputs": [],
   "source": [
    "sc.pl.pca(rna, color='CST3')"
   ]
  },
  {
   "cell_type": "code",
   "execution_count": null,
   "id": "f083f728-516d-4e83-aede-164995b9d357",
   "metadata": {
    "tags": []
   },
   "outputs": [],
   "source": [
    "sc.pp.neighbors(rna, n_neighbors=10, n_pcs=30)"
   ]
  },
  {
   "cell_type": "code",
   "execution_count": null,
   "id": "7bba1d46-7d72-4cc1-a9d0-ee4a925495de",
   "metadata": {
    "tags": []
   },
   "outputs": [],
   "source": [
    "sc.tl.umap(rna)"
   ]
  },
  {
   "cell_type": "code",
   "execution_count": null,
   "id": "58f5e622-3426-44c9-8f1c-40a6279636ac",
   "metadata": {
    "tags": []
   },
   "outputs": [],
   "source": [
    "sc.tl.leiden(rna)"
   ]
  },
  {
   "cell_type": "code",
   "execution_count": null,
   "id": "a9386489-e768-4dc7-a557-ade856da0958",
   "metadata": {
    "tags": []
   },
   "outputs": [],
   "source": [
    "mdata.mod[\"rna\"] = rna"
   ]
  },
  {
   "cell_type": "code",
   "execution_count": null,
   "id": "0bd12a64-c862-49dc-8fe0-2430e5229eb4",
   "metadata": {
    "tags": []
   },
   "outputs": [],
   "source": [
    "pt.pp.clr(adt)"
   ]
  },
  {
   "cell_type": "code",
   "execution_count": null,
   "id": "5b76debc-b0bd-47b5-8995-7223221c15de",
   "metadata": {
    "tags": []
   },
   "outputs": [],
   "source": [
    "adt.obsm[\"X_umap\"] = rna.obsm[\"X_umap\"]\n",
    "adt.obs[\"leiden\"] = rna.obs[\"leiden\"]"
   ]
  },
  {
   "cell_type": "code",
   "execution_count": null,
   "id": "f229824e-16c7-402c-9451-8098292872f6",
   "metadata": {
    "tags": []
   },
   "outputs": [],
   "source": [
    "mdata"
   ]
  },
  {
   "cell_type": "code",
   "execution_count": null,
   "id": "c6b545ce-400e-4e9b-a8ea-888aaac4f169",
   "metadata": {
    "tags": []
   },
   "outputs": [],
   "source": [
    "mdata.write_zarr(join(\"..\", \"data\", \"processed\", \"GSE100866_CBMC_8K_13AB_10X.mdata.zarr\"))"
   ]
  },
  {
   "cell_type": "code",
   "execution_count": null,
   "id": "797322b2-f669-456d-8f23-c9ccbb8a5414",
   "metadata": {
    "tags": []
   },
   "outputs": [],
   "source": [
    "from vitessce import (\n",
    "    VitessceConfig,\n",
    "    ViewType as vt,\n",
    "    CoordinationType as ct,\n",
    "    FileType as ft,\n",
    "    AnnDataWrapper,\n",
    ")"
   ]
  },
  {
   "cell_type": "code",
   "execution_count": null,
   "id": "a74759d4-4b10-4178-9ca3-8b7dd366e3cd",
   "metadata": {
    "tags": []
   },
   "outputs": [],
   "source": [
    "vc = VitessceConfig(schema_version=\"1.0.15\", name='CITE-seq example', description='RNA+ADT')"
   ]
  },
  {
   "cell_type": "code",
   "execution_count": null,
   "id": "3e66789f-e4e5-43fc-b31c-e819b90ee164",
   "metadata": {
    "tags": []
   },
   "outputs": [],
   "source": [
    "rna_zarr = join(\"..\", \"data\", \"processed\", \"GSE100866_CBMC_8K_13AB_10X.mdata.zarr\", \"mod\", \"rna\")\n",
    "adt_zarr = join(\"..\", \"data\", \"processed\", \"GSE100866_CBMC_8K_13AB_10X.mdata.zarr\", \"mod\", \"adt\")"
   ]
  },
  {
   "cell_type": "code",
   "execution_count": null,
   "id": "c07cb582-6c3d-45d7-937b-e54bd8fc93d8",
   "metadata": {
    "tags": []
   },
   "outputs": [],
   "source": [
    "dataset = vc.add_dataset(name='CBMC 8K').add_object(AnnDataWrapper(\n",
    "    # We run add_object with adata_path=rna_zarr first to add the cell-by-gene matrix and associated metadata.\n",
    "    adata_path=rna_zarr,\n",
    "    obs_embedding_paths=[\"obsm/X_umap\", \"obsm/X_pca\"],\n",
    "    obs_embedding_names=[\"UMAP\", \"PCA\"],\n",
    "    obs_set_paths=[\"obs/leiden\"],\n",
    "    obs_set_names=[\"Leiden Clusters\"],\n",
    "    obs_feature_matrix_path=\"X\",\n",
    "    # To be explicit that the features represent genes and gene expression, we specify that here.\n",
    "    coordination_values={\n",
    "        \"featureType\": \"gene\",\n",
    "        \"featureValueType\": \"expression\"\n",
    "    }\n",
    ")).add_object(AnnDataWrapper(\n",
    "    # We next run add_object with adata_path=adt_zarr to add the cell-by-ADT matrix and associated metadata.\n",
    "    adata_path=adt_zarr,\n",
    "    obs_embedding_paths=[\"obsm/X_umap\"],\n",
    "    obs_embedding_names=[\"UMAP\"],\n",
    "    obs_set_paths=[\"obs/leiden\"],\n",
    "    obs_set_names=[\"Leiden Clusters\"],\n",
    "    obs_feature_matrix_path=\"X\",\n",
    "    # If the features do not represent genes and gene expression, we specify alternate values here.\n",
    "    coordination_values={\n",
    "        \"featureType\": \"tag\",\n",
    "        \"featureValueType\": \"count\"\n",
    "    }\n",
    "))"
   ]
  },
  {
   "cell_type": "code",
   "execution_count": null,
   "id": "0b62f4fe-ad8b-458b-9cfe-a54a647138a1",
   "metadata": {
    "tags": []
   },
   "outputs": [],
   "source": [
    "umap_scatterplot_by_rna = vc.add_view(vt.SCATTERPLOT, dataset=dataset, mapping=\"UMAP\")\n",
    "umap_scatterplot_by_adt = vc.add_view(vt.SCATTERPLOT, dataset=dataset, mapping=\"UMAP\")\n",
    "\n",
    "gene_list = vc.add_view(vt.FEATURE_LIST, dataset=dataset)\n",
    "protein_list = vc.add_view(vt.FEATURE_LIST, dataset=dataset)\n",
    "\n",
    "rna_heatmap = vc.add_view(vt.HEATMAP, dataset=dataset).set_props(transpose=True)\n",
    "adt_heatmap = vc.add_view(vt.HEATMAP, dataset=dataset).set_props(transpose=True)"
   ]
  },
  {
   "cell_type": "code",
   "execution_count": null,
   "id": "f544df2d-ea33-4b03-805a-c5e708379fb2",
   "metadata": {
    "tags": []
   },
   "outputs": [],
   "source": [
    "# We need to specify which of the two features (i.e., genes or tags) the different plots correspond to.\n",
    "# We also need to make sure the selection of genes and tags are scoped to only the corresponding plots,\n",
    "# and we want to make sure the color mappings are independent for each modality.\n",
    "coordination_types = [ct.FEATURE_TYPE, ct.FEATURE_VALUE_TYPE, ct.FEATURE_SELECTION, ct.OBS_COLOR_ENCODING, ct.FEATURE_VALUE_COLORMAP_RANGE]\n",
    "vc.link_views([umap_scatterplot_by_rna, gene_list, rna_heatmap], coordination_types, [\"gene\", \"expression\", None, 'cellSetSelection', [0.0, 0.3]])\n",
    "vc.link_views([umap_scatterplot_by_adt, protein_list, adt_heatmap], coordination_types, [\"tag\", \"count\", None, 'cellSetSelection', [0.0, 1.0]])\n",
    "\n",
    "# We can link the two scatterplots on their zoom level and (X,Y) center point so that zooming/panning is coordinated.\n",
    "vc.link_views([umap_scatterplot_by_rna, umap_scatterplot_by_adt], [ct.EMBEDDING_ZOOM, ct.EMBEDDING_TARGET_X, ct.EMBEDDING_TARGET_Y], [3, 0, 0])"
   ]
  },
  {
   "cell_type": "code",
   "execution_count": null,
   "id": "d88f759e-bce2-4998-abac-095415dab507",
   "metadata": {
    "tags": []
   },
   "outputs": [],
   "source": [
    "# We define a layout for the plots using two rows.\n",
    "# In the first row, we add the three gene-related visualizations,\n",
    "# and in the second row, we add the three ADT-related visualizations.\n",
    "vc.layout(\n",
    "    (rna_heatmap | (umap_scatterplot_by_rna | gene_list))\n",
    "    / (adt_heatmap | (umap_scatterplot_by_adt | protein_list))\n",
    ");"
   ]
  },
  {
   "cell_type": "code",
   "execution_count": null,
   "id": "ddf9f819-45b8-4818-9738-92c971455614",
   "metadata": {
    "tags": []
   },
   "outputs": [],
   "source": [
    "vw = vc.widget()\n",
    "vw"
   ]
  },
  {
   "cell_type": "code",
   "execution_count": null,
   "id": "fa7eb036",
   "metadata": {},
   "outputs": [],
   "source": [
    "vc.web_app()"
   ]
  },
  {
   "cell_type": "code",
   "execution_count": null,
   "id": "56a3f2e2",
   "metadata": {},
   "outputs": [],
   "source": []
  }
 ],
 "metadata": {
  "kernelspec": {
   "display_name": "Python 3 (ipykernel)",
   "language": "python",
   "name": "python3"
  },
  "language_info": {
   "codemirror_mode": {
    "name": "ipython",
    "version": 3
   },
   "file_extension": ".py",
   "mimetype": "text/x-python",
   "name": "python",
   "nbconvert_exporter": "python",
   "pygments_lexer": "ipython3",
   "version": "3.8.0"
  }
 },
 "nbformat": 4,
 "nbformat_minor": 5
}
