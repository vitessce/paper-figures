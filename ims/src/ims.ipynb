{
 "cells": [
  {
   "cell_type": "markdown",
   "metadata": {
    "nbsphinx": "hidden"
   },
   "source": [
    "# Vitessce configs for paper figures"
   ]
  },
  {
   "cell_type": "code",
   "execution_count": null,
   "metadata": {
    "tags": []
   },
   "outputs": [],
   "source": [
    "from vitessce import (\n",
    "    VitessceConfig,\n",
    "    ViewType as vt,\n",
    "    CoordinationType as ct,\n",
    "    DataType as dt,\n",
    "    FileType as ft,\n",
    "    MultiImageWrapper,\n",
    "    OmeTiffWrapper,\n",
    "    BASE_URL_PLACEHOLDER\n",
    ")\n",
    "import json\n",
    "from urllib.parse import quote_plus\n",
    "from os.path import join\n",
    "import os"
   ]
  },
  {
   "cell_type": "code",
   "execution_count": null,
   "metadata": {
    "tags": []
   },
   "outputs": [],
   "source": [
    "!pwd"
   ]
  },
  {
   "cell_type": "code",
   "execution_count": null,
   "metadata": {},
   "outputs": [],
   "source": [
    "PATH_TO_EXPORT_DIRECTORY = join(\"..\", \"..\", \"hubmap-publication-page\", \"data\", \"ims\")\n",
    "VIGNETTE_DIR = join(\"..\", \"..\", \"hubmap-publication-page\", \"vignettes\", \"vignette_03\")"
   ]
  },
  {
   "cell_type": "code",
   "execution_count": null,
   "metadata": {
    "tags": []
   },
   "outputs": [],
   "source": [
    "BASE_DIR = join(\"..\", \"data\")"
   ]
  },
  {
   "cell_type": "code",
   "execution_count": null,
   "metadata": {
    "tags": []
   },
   "outputs": [],
   "source": [
    "vc = VitessceConfig(schema_version=\"1.0.15\", name=\"Spraggins et al.\", description=\"Comparison of aggregation methods for an imaging mass spectrometry dataset\")\n",
    "ds_simple = vc.add_dataset(name=\"SIMPLE\").add_object(\n",
    "    OmeTiffWrapper(img_path=join(BASE_DIR, \"VAN0006-LK-2-85-IMS_PosMode_multilayer.pyramid.SIMPLE.ome.tiff\"), name='SIMPLE')\n",
    ")\n",
    "ds_gaussian = vc.add_dataset(name=\"GAUSSIAN\").add_object(\n",
    "    OmeTiffWrapper(img_path=join(BASE_DIR, \"VAN0006-LK-2-85-IMS_PosMode_multilayer.pyramid.GAUSSIAN.ome.tiff\"), name='GAUSSIAN')\n",
    ")\n",
    "ds_area = vc.add_dataset(name=\"AREA\").add_object(\n",
    "    OmeTiffWrapper(img_path=join(BASE_DIR, \"VAN0006-LK-2-85-IMS_PosMode_multilayer.pyramid.AREA.ome.tiff\"), name='AREA')\n",
    ")\n",
    "ds_linear = vc.add_dataset(name=\"LINEAR\").add_object(\n",
    "    OmeTiffWrapper(img_path=join(BASE_DIR, \"VAN0006-LK-2-85-IMS_PosMode_multilayer.pyramid.LINEAR.ome.tiff\"), name='LINEAR')\n",
    ")\n",
    "sp_simple = vc.add_view(vt.SPATIAL, dataset=ds_simple)\n",
    "sl_simple = vc.add_view(vt.LAYER_CONTROLLER, dataset=ds_simple)\n",
    "\n",
    "sp_gaussian = vc.add_view(vt.SPATIAL, dataset=ds_gaussian)\n",
    "sl_gaussian = vc.add_view(vt.LAYER_CONTROLLER, dataset=ds_gaussian)\n",
    "\n",
    "sp_area = vc.add_view(vt.SPATIAL, dataset=ds_area)\n",
    "sl_area = vc.add_view(vt.LAYER_CONTROLLER, dataset=ds_area)\n",
    "\n",
    "sp_linear = vc.add_view(vt.SPATIAL, dataset=ds_linear)\n",
    "sl_linear = vc.add_view(vt.LAYER_CONTROLLER, dataset=ds_linear)\n",
    "\n",
    "vc.link_views([sp_simple, sp_gaussian, sp_area, sp_linear], [ct.SPATIAL_ZOOM, ct.SPATIAL_TARGET_X, ct.SPATIAL_TARGET_Y])\n",
    "\n",
    "vc.layout(((sp_simple / sl_simple) | (sp_gaussian / sl_gaussian)) | ((sp_area / sl_area) | (sp_linear / sl_linear)));"
   ]
  },
  {
   "cell_type": "code",
   "execution_count": null,
   "metadata": {
    "tags": []
   },
   "outputs": [],
   "source": [
    "#vw = vc.widget(height=800)\n",
    "#vw"
   ]
  },
  {
   "cell_type": "code",
   "execution_count": null,
   "metadata": {
    "tags": []
   },
   "outputs": [],
   "source": [
    "vc.web_app()"
   ]
  },
  {
   "cell_type": "code",
   "execution_count": null,
   "metadata": {},
   "outputs": [],
   "source": [
    "os.makedirs(VIGNETTE_DIR, exist_ok=True)"
   ]
  },
  {
   "cell_type": "code",
   "execution_count": null,
   "metadata": {
    "tags": []
   },
   "outputs": [],
   "source": [
    "os.makedirs(PATH_TO_EXPORT_DIRECTORY, exist_ok=True)\n",
    "config_dict = vc.export(to=\"files\", base_url=f\"{BASE_URL_PLACEHOLDER}/ims\", out_dir=PATH_TO_EXPORT_DIRECTORY)\n",
    "\n",
    "# Use `open` to create a new empty file at ./exported_data/vitessce.json\n",
    "with open(join(VIGNETTE_DIR, \"ims.json\"), \"w\") as f:\n",
    "    json.dump(config_dict, f)\n"
   ]
  },
  {
   "cell_type": "code",
   "execution_count": null,
   "metadata": {},
   "outputs": [],
   "source": [
    "vignette_md = \"\"\"---\n",
    "name: Use Case 3\n",
    "figures:\n",
    "    - name: \"Visualization\"\n",
    "      file: ims.json\n",
    "---\n",
    "\n",
    "## Comparison of interpolation methods for an imaging mass spectrometry dataset from the human kidney\n",
    "\n",
    "Vitessce can be used for visual comparison of the outputs of multiple data processing methods within datasets containing multiple technical conditions, supporting the workflows of algorithm developers and computational biologists. For example, computational biologists tasked with analyzing imaging mass spectrometry (IMS) data may be interested in the consequences of using different interpolation methods for generation of pyramidal image files. Pyramidal image files contain downsampled lower resolution versions of the same image which are generated by pre-aggregating pixels, facilitating multi-scale visualization in a web browser. The choice of a downsampling pre-aggregation interpolation function may affect the visual properties of lower resolution images. The open microscopy image processing toolkit bioformats2raw implements several common interpolation methods: SIMPLE, GAUSSIAN, AREA, LINEAR, CUBIC, and LANCZOS. We use the multi-scale image rendering capabilities of Vitessce to compare the application of these methods to an IMS dataset. The zoom levels and centers of each spatial plot are coordinated to facilitate comparison of the same image region at multiple scales. Vitessce helps to discover that the SIMPLE interpolation method introduces regularly-spaced horizontal streaks into the lowest resolution version of the image. Zooming in prompts Vitessce to load a higher resolution image in which the streaks are absent, indicating that they are artifacts of the downsampling procedure.  This insight may steer us away from using the SIMPLE method when processing IMS data.\n",
    "\n",
    "\"\"\"\n",
    "\n",
    "with open(join(VIGNETTE_DIR, \"description.md\"), \"w\") as f:\n",
    "    f.write(vignette_md)"
   ]
  }
 ],
 "metadata": {
  "kernelspec": {
   "display_name": "Python 3 (ipykernel)",
   "language": "python",
   "name": "python3"
  },
  "language_info": {
   "codemirror_mode": {
    "name": "ipython",
    "version": 3
   },
   "file_extension": ".py",
   "mimetype": "text/x-python",
   "name": "python",
   "nbconvert_exporter": "python",
   "pygments_lexer": "ipython3",
   "version": "3.9.0"
  }
 },
 "nbformat": 4,
 "nbformat_minor": 4
}
