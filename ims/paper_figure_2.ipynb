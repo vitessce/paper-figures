{
 "cells": [
  {
   "cell_type": "markdown",
   "metadata": {
    "nbsphinx": "hidden"
   },
   "source": [
    "# Vitessce configs for paper figures"
   ]
  },
  {
   "cell_type": "code",
   "execution_count": 2,
   "metadata": {},
   "outputs": [],
   "source": [
    "from vitessce import (\n",
    "    VitessceConfig,\n",
    "    Component as cm,\n",
    "    CoordinationType as ct,\n",
    "    DataType as dt,\n",
    "    FileType as ft,\n",
    "    MultiImageWrapper,\n",
    "    OmeTiffWrapper\n",
    ")\n",
    "\n",
    "import json\n",
    "from urllib.parse import quote_plus"
   ]
  },
  {
   "cell_type": "code",
   "execution_count": 3,
   "metadata": {},
   "outputs": [],
   "source": [
    "data_base_url = \"https://vitessce-demo-data.storage.googleapis.com/test-data\""
   ]
  },
  {
   "cell_type": "code",
   "execution_count": 9,
   "metadata": {},
   "outputs": [],
   "source": [
    "vc = VitessceConfig(name=\"Spraggins et al.\", description=\"Comparison of aggregation methods for an imaging mass spectrometry dataset\")\n",
    "ds_simple = vc.add_dataset(name=\"SIMPLE\").add_object(\n",
    "    MultiImageWrapper(\n",
    "        image_wrappers=[\n",
    "            OmeTiffWrapper(img_url=f\"{data_base_url}/VAN0006-LK-2-85-IMS_PosMode_multilayer.pyramid.SIMPLE.ome.tiff\", name='SIMPLE'),\n",
    "        ]\n",
    " )\n",
    ")\n",
    "ds_gaussian = vc.add_dataset(name=\"GAUSSIAN\").add_object(\n",
    "    MultiImageWrapper(\n",
    "        image_wrappers=[\n",
    "            OmeTiffWrapper(img_url=f\"{data_base_url}/VAN0006-LK-2-85-IMS_PosMode_multilayer.pyramid.GAUSSIAN.ome.tiff\", name='GAUSSIAN'),\n",
    "        ]\n",
    " )\n",
    ")\n",
    "ds_area = vc.add_dataset(name=\"AREA\").add_object(\n",
    "    MultiImageWrapper(\n",
    "        image_wrappers=[\n",
    "            OmeTiffWrapper(img_url=f\"{data_base_url}/VAN0006-LK-2-85-IMS_PosMode_multilayer.pyramid.AREA.ome.tiff\", name='AREA'),\n",
    "        ]\n",
    " )\n",
    ")\n",
    "ds_linear = vc.add_dataset(name=\"LINEAR\").add_object(\n",
    "    MultiImageWrapper(\n",
    "        image_wrappers=[\n",
    "            OmeTiffWrapper(img_url=f\"{data_base_url}/VAN0006-LK-2-85-IMS_PosMode_multilayer.pyramid.LINEAR.ome.tiff\", name='LINEAR'),\n",
    "        ]\n",
    " )\n",
    ")\n",
    "sp_simple = vc.add_view(ds_simple, cm.SPATIAL)\n",
    "sl_simple = vc.add_view(ds_simple, cm.LAYER_CONTROLLER)\n",
    "\n",
    "sp_gaussian = vc.add_view(ds_gaussian, cm.SPATIAL)\n",
    "sl_gaussian = vc.add_view(ds_gaussian, cm.LAYER_CONTROLLER)\n",
    "\n",
    "sp_area = vc.add_view(ds_area, cm.SPATIAL)\n",
    "sl_area = vc.add_view(ds_area, cm.LAYER_CONTROLLER)\n",
    "\n",
    "sp_linear = vc.add_view(ds_linear, cm.SPATIAL)\n",
    "sl_linear = vc.add_view(ds_linear, cm.LAYER_CONTROLLER)\n",
    "\n",
    "vc.link_views([sp_simple, sp_gaussian, sp_area, sp_linear], [ct.SPATIAL_ZOOM, ct.SPATIAL_TARGET_X, ct.SPATIAL_TARGET_Y])\n",
    "\n",
    "vc.layout(((sp_simple / sl_simple) | (sp_gaussian / sl_gaussian)) | ((sp_area / sl_area) | (sp_linear / sl_linear)));"
   ]
  },
  {
   "cell_type": "code",
   "execution_count": 10,
   "metadata": {},
   "outputs": [],
   "source": [
    "vw = vc.widget(height=800)\n",
    "vw"
   ]
  },
  {
   "cell_type": "code",
   "execution_count": 11,
   "metadata": {},
   "outputs": [],
   "source": [
    "config_dict = vc.to_dict()\n",
    "json.dumps(config_dict)"
   ]
  },
  {
   "cell_type": "code",
   "execution_count": 27,
   "metadata": {},
   "outputs": [],
   "source": [
    "vitessce_url = \"http://vitessce.io/?theme=light&url=data:,\" + quote_plus(json.dumps(config_dict))\n",
    "import webbrowser\n",
    "webbrowser.open(vitessce_url)"
   ]
  }
 ],
 "metadata": {
  "kernelspec": {
   "display_name": "Python 3 (ipykernel)",
   "language": "python",
   "name": "python3"
  },
  "language_info": {
   "codemirror_mode": {
    "name": "ipython",
    "version": 3
   },
   "file_extension": ".py",
   "mimetype": "text/x-python",
   "name": "python",
   "nbconvert_exporter": "python",
   "pygments_lexer": "ipython3",
   "version": "3.8.0"
  }
 },
 "nbformat": 4,
 "nbformat_minor": 4
}
