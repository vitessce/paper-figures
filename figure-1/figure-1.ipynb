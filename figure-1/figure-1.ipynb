{
 "cells": [
  {
   "cell_type": "markdown",
   "metadata": {
    "nbsphinx": "hidden"
   },
   "source": [
    "# Vitessce configs for paper figures"
   ]
  },
  {
   "cell_type": "code",
   "execution_count": 1,
   "metadata": {},
   "outputs": [],
   "source": [
    "from vitessce import (\n",
    "    VitessceConfig,\n",
    "    Component as cm,\n",
    "    CoordinationType as ct,\n",
    "    DataType as dt,\n",
    "    FileType as ft,\n",
    ")\n",
    "\n",
    "import json\n",
    "from urllib.parse import quote_plus"
   ]
  },
  {
   "cell_type": "code",
   "execution_count": 2,
   "metadata": {},
   "outputs": [],
   "source": [
    "data_base_url = \"https://s3.amazonaws.com/vitessce-data/0.0.31/master_release/linnarsson\""
   ]
  },
  {
   "cell_type": "code",
   "execution_count": 3,
   "metadata": {},
   "outputs": [],
   "source": [
    "vc = VitessceConfig(schema_version=\"1.0.15\", name=\"Codeluppi et al., Nature Methods 2018\", description=\"Spatial organization of the somatosensory cortex revealed by osmFISH\")\n",
    "dataset = vc.add_dataset(name=\"Codeluppi\").add_file(\n",
    "    file_type=\"cells.json\",\n",
    "    url=f\"{data_base_url}/linnarsson.cells.json\",\n",
    "    options={\n",
    "        \"embeddingTypes\": [\n",
    "            \"PCA\",\n",
    "            \"t-SNE\",\n",
    "        ]\n",
    "    }\n",
    ").add_file(\n",
    "    file_type=\"cell-sets.json\",\n",
    "    url=f\"{data_base_url}/linnarsson.cell-sets.json\"\n",
    ").add_file(\n",
    "    file_type=\"raster.json\",\n",
    "    url=f\"{data_base_url}/linnarsson.raster.json\"\n",
    ").add_file(\n",
    "    file_type=\"molecules.json\",\n",
    "    url=f\"{data_base_url}/linnarsson.molecules.json\"\n",
    ").add_file(\n",
    "    file_type=\"clusters.json\",\n",
    "    url=f\"{data_base_url}/linnarsson.clusters.json\"\n",
    ")\n",
    "#description = vc.add_view(dataset, cm.DESCRIPTION)\n",
    "spatial_plot = vc.add_view(cm.SPATIAL, dataset=dataset)\n",
    "spatial_layers = vc.add_view(cm.LAYER_CONTROLLER, dataset=dataset)\n",
    "scatterplot = vc.add_view(cm.SCATTERPLOT, dataset=dataset, mapping=\"t-SNE\")\n",
    "heatmap = vc.add_view(cm.HEATMAP, dataset=dataset).set_props(transpose=True)\n",
    "\n",
    "vc.link_views([spatial_plot], [ct.SPATIAL_ZOOM, ct.SPATIAL_TARGET_X, ct.SPATIAL_TARGET_Y], [-3.115043651104139, 24975.145386959408, 12391.186692449486])\n",
    "vc.link_views([scatterplot], [\"embeddingObsRadiusMode\", \"embeddingObsRadius\"], [\"manual\", 2.0])\n",
    "\n",
    "vc.layout((spatial_layers | spatial_plot) / (heatmap | scatterplot));"
   ]
  },
  {
   "cell_type": "code",
   "execution_count": 4,
   "metadata": {},
   "outputs": [
    {
     "data": {
      "application/vnd.jupyter.widget-view+json": {
       "model_id": "ee9958cdc7dc47d2aaaec0b5b5182b6f",
       "version_major": 2,
       "version_minor": 0
      },
      "text/plain": [
       "VitessceWidget(config={'version': '1.0.15', 'name': 'Codeluppi et al., Nature Methods 2018', 'description': 'S…"
      ]
     },
     "execution_count": 4,
     "metadata": {},
     "output_type": "execute_result"
    }
   ],
   "source": [
    "vw = vc.widget(height=800)\n",
    "vw"
   ]
  },
  {
   "cell_type": "code",
   "execution_count": 5,
   "metadata": {},
   "outputs": [],
   "source": [
    "config_dict = vc.to_dict()"
   ]
  },
  {
   "cell_type": "code",
   "execution_count": 6,
   "metadata": {},
   "outputs": [
    {
     "data": {
      "text/plain": [
       "True"
      ]
     },
     "execution_count": 6,
     "metadata": {},
     "output_type": "execute_result"
    }
   ],
   "source": [
    "vitessce_url = \"http://vitessce.io/?theme=light&url=data:,\" + quote_plus(json.dumps(config_dict))\n",
    "import webbrowser\n",
    "webbrowser.open(vitessce_url)"
   ]
  },
  {
   "cell_type": "code",
   "execution_count": null,
   "metadata": {},
   "outputs": [],
   "source": []
  }
 ],
 "metadata": {
  "kernelspec": {
   "display_name": "Python 3 (ipykernel)",
   "language": "python",
   "name": "python3"
  },
  "language_info": {
   "codemirror_mode": {
    "name": "ipython",
    "version": 3
   },
   "file_extension": ".py",
   "mimetype": "text/x-python",
   "name": "python",
   "nbconvert_exporter": "python",
   "pygments_lexer": "ipython3",
   "version": "3.8.0"
  }
 },
 "nbformat": 4,
 "nbformat_minor": 4
}
