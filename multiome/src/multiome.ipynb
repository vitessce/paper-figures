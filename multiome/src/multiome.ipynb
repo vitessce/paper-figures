{
 "cells": [
  {
   "cell_type": "markdown",
   "id": "8954a8f7-6de7-4fd1-847c-d476992bedd1",
   "metadata": {},
   "source": [
    "Based on the tutorial from https://muon-tutorials.readthedocs.io/en/latest/single-cell-rna-atac/brain3k/1-Processing-and-Integration.html"
   ]
  },
  {
   "cell_type": "code",
   "execution_count": 1,
   "id": "2a0df413-ad03-4f8f-9f28-d4709b8e194d",
   "metadata": {
    "tags": []
   },
   "outputs": [],
   "source": [
    "import mudatasets as mds"
   ]
  },
  {
   "cell_type": "code",
   "execution_count": 2,
   "id": "747c57e5-012d-4c0b-bf09-74b7d8158ffc",
   "metadata": {},
   "outputs": [],
   "source": [
    "import scipy.io\n",
    "import pandas as pd\n",
    "import numpy as np\n",
    "from anndata import AnnData\n",
    "from mudata import MuData\n",
    "import scanpy as sc\n",
    "import muon as mu\n",
    "from muon import atac as ac\n",
    "from os.path import join\n",
    "from vitessce.data_utils import (\n",
    "    VAR_CHUNK_SIZE,\n",
    "    optimize_adata,\n",
    ")"
   ]
  },
  {
   "cell_type": "markdown",
   "id": "ea307168-245b-4805-a5a3-5b5771c651ab",
   "metadata": {},
   "source": [
    "## Load the data"
   ]
  },
  {
   "cell_type": "code",
   "execution_count": null,
   "id": "85aadafe-3bad-4d30-b4be-2aa6c867b5ff",
   "metadata": {
    "tags": []
   },
   "outputs": [],
   "source": [
    "mdata = mds.load(\"brain3k_multiome\", full=True)\n",
    "mdata.var_names_make_unique()\n",
    "mdata"
   ]
  },
  {
   "cell_type": "markdown",
   "id": "c7a3c194-6569-46c0-b04d-9e73b5bf45f1",
   "metadata": {},
   "source": [
    "## 1. RNA"
   ]
  },
  {
   "cell_type": "markdown",
   "id": "6df47611-4a1f-46a7-99dd-f6f1160d3c65",
   "metadata": {},
   "source": [
    "## QC"
   ]
  },
  {
   "cell_type": "code",
   "execution_count": null,
   "id": "741f1ecf-f9f6-4cbc-b514-4460f2518b91",
   "metadata": {
    "tags": []
   },
   "outputs": [],
   "source": [
    "# `rna` will point to `mdata['rna']`\n",
    "# unless we copy it\n",
    "rna = mdata['rna']"
   ]
  },
  {
   "cell_type": "code",
   "execution_count": null,
   "id": "a59c73b5-2919-440c-ab5f-9a7f31763e2a",
   "metadata": {
    "tags": []
   },
   "outputs": [],
   "source": [
    "rna.var['mt'] = rna.var_names.str.startswith('MT-')  # annotate the group of mitochondrial genes as 'mt'\n",
    "sc.pp.calculate_qc_metrics(rna, qc_vars=['mt'], percent_top=None, log1p=False, inplace=True)"
   ]
  },
  {
   "cell_type": "code",
   "execution_count": null,
   "id": "1dc654ce-ea3b-464d-828c-14675c191d59",
   "metadata": {
    "tags": []
   },
   "outputs": [],
   "source": [
    "sc.pl.violin(rna, ['n_genes_by_counts', 'total_counts', 'pct_counts_mt'], jitter=0.4, multi_panel=True)"
   ]
  },
  {
   "cell_type": "code",
   "execution_count": null,
   "id": "56f35a2a-28c7-40f4-a5a2-ee25c3f4bbb4",
   "metadata": {
    "tags": []
   },
   "outputs": [],
   "source": [
    "mu.pp.filter_obs(rna, 'n_genes_by_counts', lambda x: (x >= 200) & (x < 8000))\n",
    "mu.pp.filter_obs(rna, 'total_counts', lambda x: x < 40000)\n",
    "mu.pp.filter_obs(rna, 'pct_counts_mt', lambda x: x < 2)"
   ]
  },
  {
   "cell_type": "code",
   "execution_count": null,
   "id": "1a95b31d-4300-483c-9705-701966902918",
   "metadata": {
    "tags": []
   },
   "outputs": [],
   "source": [
    "sc.pl.violin(rna, ['n_genes_by_counts', 'total_counts', 'pct_counts_mt'], jitter=0.4, multi_panel=True)"
   ]
  },
  {
   "cell_type": "markdown",
   "id": "90248b7a-7184-49cd-8ef6-95a69998654e",
   "metadata": {},
   "source": [
    "## Scaling and normalization"
   ]
  },
  {
   "cell_type": "code",
   "execution_count": null,
   "id": "3c564b82-19f1-4998-82c9-4cabd4af94fb",
   "metadata": {
    "tags": []
   },
   "outputs": [],
   "source": [
    "rna.layers[\"counts\"] = rna.X.copy()\n",
    "sc.pp.normalize_total(rna, target_sum=1e4)\n",
    "sc.pp.log1p(rna)\n",
    "# rna.raw = rna\n",
    "rna.layers[\"lognorm\"] = rna.X.copy()"
   ]
  },
  {
   "cell_type": "markdown",
   "id": "10f57217-08be-4658-abcc-ed3a588ff1f3",
   "metadata": {
    "tags": []
   },
   "source": [
    "## Identify highly-variable genes"
   ]
  },
  {
   "cell_type": "code",
   "execution_count": null,
   "id": "fdba49c1-6b4c-4e31-a23b-5b955ecbd4f9",
   "metadata": {
    "tags": []
   },
   "outputs": [],
   "source": [
    "sc.pp.highly_variable_genes(rna, min_mean=0.02, max_mean=4, min_disp=0.5)"
   ]
  },
  {
   "cell_type": "code",
   "execution_count": null,
   "id": "8586a224-8636-4077-aa8d-e0ae214b6b4f",
   "metadata": {
    "tags": []
   },
   "outputs": [],
   "source": [
    "sc.pl.highly_variable_genes(rna)"
   ]
  },
  {
   "cell_type": "code",
   "execution_count": null,
   "id": "6240b517-1808-4e8f-8e10-86e115aee19c",
   "metadata": {
    "tags": []
   },
   "outputs": [],
   "source": [
    "sc.pp.scale(rna, max_value=10)"
   ]
  },
  {
   "cell_type": "code",
   "execution_count": null,
   "id": "75356087-b10b-4b9a-8758-e46c7f58b606",
   "metadata": {
    "tags": []
   },
   "outputs": [],
   "source": [
    "sc.tl.pca(rna, svd_solver='arpack')\n",
    "sc.pl.pca(rna, color=['NRCAM', 'SLC1A2', 'SRGN', 'VCAN'])"
   ]
  },
  {
   "cell_type": "code",
   "execution_count": null,
   "id": "29734e35-d9af-4889-8576-fa1f40def3bb",
   "metadata": {
    "tags": []
   },
   "outputs": [],
   "source": [
    "sc.pl.pca_variance_ratio(rna, log=True)"
   ]
  },
  {
   "cell_type": "code",
   "execution_count": null,
   "id": "1ad50976-d056-46a9-b0a3-d2ac0e12cb63",
   "metadata": {
    "tags": []
   },
   "outputs": [],
   "source": [
    "sc.pp.neighbors(rna, n_neighbors=10, n_pcs=20)\n",
    "sc.tl.leiden(rna, resolution=.5)"
   ]
  },
  {
   "cell_type": "code",
   "execution_count": null,
   "id": "61200310-922b-4872-aee4-5336346580bc",
   "metadata": {
    "tags": []
   },
   "outputs": [],
   "source": [
    "sc.tl.umap(rna, spread=1., min_dist=.5, random_state=11)\n",
    "sc.pl.umap(rna, color=\"leiden\", legend_loc=\"on data\")"
   ]
  },
  {
   "cell_type": "markdown",
   "id": "62dbdc4c-fb0e-4a4c-b085-dfec216e920d",
   "metadata": {},
   "source": [
    "## Cell type annotation"
   ]
  },
  {
   "cell_type": "code",
   "execution_count": null,
   "id": "c6a5f2fc-3369-4262-a4ad-ce22023f68c0",
   "metadata": {
    "tags": []
   },
   "outputs": [],
   "source": [
    "sc.tl.rank_genes_groups(rna, 'leiden', method='t-test')"
   ]
  },
  {
   "cell_type": "code",
   "execution_count": null,
   "id": "e5d111e7-67c7-4865-b1bd-e6f230996b04",
   "metadata": {
    "tags": []
   },
   "outputs": [],
   "source": [
    "result = rna.uns['rank_genes_groups']\n",
    "groups = result['names'].dtype.names\n",
    "pd.set_option('display.max_columns', 50)\n",
    "pd.DataFrame(\n",
    "    {group + '_' + key[:1]: result[key][group]\n",
    "    for group in groups for key in ['names', 'pvals']}).head(10)"
   ]
  },
  {
   "cell_type": "code",
   "execution_count": null,
   "id": "6fb16ed9-d4dd-4f56-891b-fb3581f17cae",
   "metadata": {
    "tags": []
   },
   "outputs": [],
   "source": [
    "sc.pl.rank_genes_groups(rna, n_genes=20, sharey=False)"
   ]
  },
  {
   "cell_type": "code",
   "execution_count": null,
   "id": "7b055af5-a3a0-463b-984c-c470fcca15d1",
   "metadata": {
    "tags": []
   },
   "outputs": [],
   "source": [
    "sc.pl.umap(rna, color=[\"PLP1\", \"CNP\", \"CTNNA3\"])"
   ]
  },
  {
   "cell_type": "code",
   "execution_count": null,
   "id": "7fb87dc4-d1a7-484c-9c62-871cad93b058",
   "metadata": {
    "tags": []
   },
   "outputs": [],
   "source": [
    "sc.pl.umap(rna, color=[\"SLC1A2\", \"SRGN\", \"VCAN\"], title=[\"SLC1A2 (astrocytes)\", \"SRGN (microglia)\", \"VCAN (OPCs)\"])"
   ]
  },
  {
   "cell_type": "code",
   "execution_count": null,
   "id": "6ddd9c10-c8d0-44ee-a508-58ba772d4140",
   "metadata": {
    "tags": []
   },
   "outputs": [],
   "source": [
    "new_cluster_names = {\n",
    "    \"0\": \"oligodendrocyte\",\n",
    "    \"1\": \"oligodendrocyte\",\n",
    "    \"3\": \"oligodendrocyte\",\n",
    "    \"5\": \"oligodendrocyte\",\n",
    "    \"14\": \"oligodendrocyte\",\n",
    "    \"4\": \"OPC\",\n",
    "    \"8\": \"microglia\",\n",
    "    \"2\": \"astrocyte\",\n",
    "    \"10\": \"astrocyte\",\n",
    "    \"11\": \"astrocyte\",\n",
    "    \"12\": \"astrocyte\",\n",
    "    \"6\": \"excitatory_LAMP5\",\n",
    "    \"13\": \"excitatory_RORB\",\n",
    "    \"7\": \"inhibitory_LHX6\",\n",
    "    \"9\": \"inhibitory_ADARB2\",\n",
    "    \"15\": \"inhibitory_ADARB2\",\n",
    "}"
   ]
  },
  {
   "cell_type": "code",
   "execution_count": null,
   "id": "418da148-e065-474b-8709-95718695cd83",
   "metadata": {
    "tags": []
   },
   "outputs": [],
   "source": [
    "rna.obs['celltype'] = [new_cluster_names[cl] for cl in rna.obs.leiden.astype(\"str\").values]\n",
    "rna.obs.celltype = rna.obs.celltype.astype(\"category\")"
   ]
  },
  {
   "cell_type": "code",
   "execution_count": null,
   "id": "8742b4b4-211c-403f-9bf7-16d651fbb3b6",
   "metadata": {
    "tags": []
   },
   "outputs": [],
   "source": [
    "sc.pl.umap(rna, color=\"celltype\")"
   ]
  },
  {
   "cell_type": "markdown",
   "id": "3f98845a-0a67-42c4-96c5-de463a7d4588",
   "metadata": {},
   "source": [
    "## 2. ATAC"
   ]
  },
  {
   "cell_type": "code",
   "execution_count": null,
   "id": "3b52c262-d585-4166-9748-1aba27806069",
   "metadata": {
    "tags": []
   },
   "outputs": [],
   "source": [
    "atac = mdata.mod['atac']"
   ]
  },
  {
   "cell_type": "code",
   "execution_count": null,
   "id": "37db06f5-a79c-4fd1-a31d-dea14c71dfd4",
   "metadata": {
    "tags": []
   },
   "outputs": [],
   "source": [
    "sc.pp.calculate_qc_metrics(atac, percent_top=None, log1p=False, inplace=True)"
   ]
  },
  {
   "cell_type": "code",
   "execution_count": null,
   "id": "4be761a1-b051-40ca-8e2f-78ce2ac76500",
   "metadata": {
    "tags": []
   },
   "outputs": [],
   "source": [
    "mu.pl.histogram(atac, ['n_genes_by_counts', 'total_counts'], linewidth=0)"
   ]
  },
  {
   "cell_type": "code",
   "execution_count": null,
   "id": "925f6537-76cf-46b0-a168-53a4b7c383e1",
   "metadata": {
    "tags": []
   },
   "outputs": [],
   "source": [
    "mu.pp.filter_var(atac, 'n_cells_by_counts', lambda x: x >= 10)"
   ]
  },
  {
   "cell_type": "code",
   "execution_count": null,
   "id": "d6ddaa4e-ba5b-4cd8-b240-4cdcced0935f",
   "metadata": {
    "tags": []
   },
   "outputs": [],
   "source": [
    "mu.pp.filter_obs(atac, 'total_counts', lambda x: (x >= 1000) & (x <= 80000))\n",
    "mu.pp.filter_obs(atac, 'n_genes_by_counts', lambda x: (x >= 100) & (x <= 30000))"
   ]
  },
  {
   "cell_type": "code",
   "execution_count": null,
   "id": "c6ddc8f3-7455-4da5-8bf8-a92c17fb8fe7",
   "metadata": {
    "tags": []
   },
   "outputs": [],
   "source": [
    "mu.pl.histogram(atac, ['n_genes_by_counts', 'total_counts'], linewidth=0)"
   ]
  },
  {
   "cell_type": "code",
   "execution_count": null,
   "id": "75a7eb37-1621-4cc1-b945-eb54e03ac01b",
   "metadata": {
    "tags": []
   },
   "outputs": [],
   "source": [
    "ac.pl.fragment_histogram(atac, region='chr1:1-2000000')"
   ]
  },
  {
   "cell_type": "code",
   "execution_count": null,
   "id": "3ccd361d-5332-45eb-87ff-071b549e8865",
   "metadata": {
    "tags": []
   },
   "outputs": [],
   "source": [
    "ac.tl.nucleosome_signal(atac, n=1e6)"
   ]
  },
  {
   "cell_type": "code",
   "execution_count": null,
   "id": "fc4f13e0-7c81-4c0e-b940-1ddcb9ced181",
   "metadata": {
    "tags": []
   },
   "outputs": [],
   "source": [
    "mu.pl.histogram(atac, \"nucleosome_signal\", linewidth=0)"
   ]
  },
  {
   "cell_type": "code",
   "execution_count": null,
   "id": "d6b2365e-3b18-452f-95a3-6ff441180e43",
   "metadata": {
    "tags": []
   },
   "outputs": [],
   "source": [
    "# Check TSS enrichment\n",
    "ac.tl.get_gene_annotation_from_rna(mdata['rna']).head(3)  # accepts MuData with 'rna' modality or mdata['rna'] AnnData directly"
   ]
  },
  {
   "cell_type": "code",
   "execution_count": null,
   "id": "34ee47c0-3926-4d70-9142-911a5b2bec16",
   "metadata": {
    "tags": []
   },
   "outputs": [],
   "source": [
    "tss = ac.tl.tss_enrichment(mdata, n_tss=1000)  # by default, features=ac.tl.get_gene_annotation_from_rna(mdata)"
   ]
  },
  {
   "cell_type": "code",
   "execution_count": null,
   "id": "94eb1e5c-1e80-4dfe-9919-5d995b967381",
   "metadata": {
    "tags": []
   },
   "outputs": [],
   "source": [
    "ac.pl.tss_enrichment(tss)"
   ]
  },
  {
   "cell_type": "code",
   "execution_count": null,
   "id": "d8f6568d-689e-43f4-997b-61c910b4bfa2",
   "metadata": {
    "tags": []
   },
   "outputs": [],
   "source": [
    "atac.layers[\"counts\"] = atac.X.copy()\n",
    "sc.pp.normalize_total(atac, target_sum=1e4)\n",
    "sc.pp.log1p(atac)\n",
    "atac.layers[\"lognorm\"] = atac.X.copy()"
   ]
  },
  {
   "cell_type": "code",
   "execution_count": null,
   "id": "fd368ce0-9574-4b0c-bf17-9964f0152e91",
   "metadata": {
    "tags": []
   },
   "outputs": [],
   "source": [
    "sc.pp.highly_variable_genes(atac, min_mean=0.05, max_mean=1.5, min_disp=.5)\n",
    "sc.pl.highly_variable_genes(atac)"
   ]
  },
  {
   "cell_type": "code",
   "execution_count": null,
   "id": "a95c155c-accd-4026-86f0-8e2c3429f365",
   "metadata": {
    "tags": []
   },
   "outputs": [],
   "source": [
    "np.sum(atac.var.highly_variable)"
   ]
  },
  {
   "cell_type": "code",
   "execution_count": null,
   "id": "73c809e4-3439-434d-ab0b-5aa615f5118f",
   "metadata": {
    "tags": []
   },
   "outputs": [],
   "source": [
    "sc.pp.scale(atac, max_value=10)\n",
    "sc.tl.pca(atac, svd_solver='arpack')\n",
    "ac.pl.pca(atac, color=['NRCAM', 'SLC1A2', 'SRGN', 'VCAN'], layer='lognorm', func='mean')"
   ]
  },
  {
   "cell_type": "code",
   "execution_count": null,
   "id": "9c5e1774-f71e-45c6-9a97-cf36170504c6",
   "metadata": {
    "tags": []
   },
   "outputs": [],
   "source": [
    "sc.pl.pca_variance_ratio(atac, log=True)"
   ]
  },
  {
   "cell_type": "code",
   "execution_count": null,
   "id": "f8d5a410-b7b2-4682-babe-78a5a45d1222",
   "metadata": {
    "tags": []
   },
   "outputs": [],
   "source": [
    "sc.pp.neighbors(atac, n_neighbors=10, n_pcs=20)\n",
    "sc.tl.leiden(atac, resolution=.5)"
   ]
  },
  {
   "cell_type": "code",
   "execution_count": null,
   "id": "50479b1a-9ad9-4017-b725-6116c91cac4c",
   "metadata": {
    "tags": []
   },
   "outputs": [],
   "source": [
    "sc.tl.umap(atac, spread=1., min_dist=.5, random_state=11)\n",
    "sc.pl.umap(atac, color=\"leiden\", legend_loc=\"on data\")"
   ]
  },
  {
   "cell_type": "markdown",
   "id": "1eb04bff-906b-465e-935a-1507b5702ee8",
   "metadata": {},
   "source": [
    "## Marker genes and cell types"
   ]
  },
  {
   "cell_type": "code",
   "execution_count": null,
   "id": "bc21d262-0083-445c-bfcb-62d95a9fe7d1",
   "metadata": {
    "tags": []
   },
   "outputs": [],
   "source": [
    "ac.tl.rank_peaks_groups(atac, 'leiden', method='t-test')"
   ]
  },
  {
   "cell_type": "code",
   "execution_count": null,
   "id": "46ee6cba-da07-4a6f-9748-b560f1989979",
   "metadata": {
    "tags": []
   },
   "outputs": [],
   "source": [
    "result = atac.uns['rank_genes_groups']\n",
    "groups = result['names'].dtype.names\n",
    "\n",
    "try:\n",
    "    pd.set_option(\"max_columns\", 50)\n",
    "except:\n",
    "    # https://pandas.pydata.org/pandas-docs/stable/user_guide/options.html\n",
    "    pd.set_option(\"display.max_columns\", 50)\n",
    "\n",
    "pd.DataFrame(\n",
    "    {group + '_' + key[:1]: result[key][group]\n",
    "    for group in groups for key in ['names', 'genes', 'pvals']}).head(10)"
   ]
  },
  {
   "cell_type": "code",
   "execution_count": null,
   "id": "58b5cc63-5498-488e-aa7d-a4509804dfbd",
   "metadata": {
    "tags": []
   },
   "outputs": [],
   "source": [
    "mu.pp.filter_obs(atac, \"leiden\", lambda x: ~x.isin([\"9\"]))"
   ]
  },
  {
   "cell_type": "code",
   "execution_count": null,
   "id": "0ff12b4d-e4f1-4887-9d05-7824e0933463",
   "metadata": {
    "tags": []
   },
   "outputs": [],
   "source": [
    "new_cluster_names = {\n",
    "    \"0\": \"oligodendrocyte\",\n",
    "    \"1\": \"oligodendrocyte\",\n",
    "    \"3\": \"OPC\",\n",
    "    \"7\": \"microglia\",\n",
    "    \"2\": \"astrocyte\",\n",
    "    \"8\": \"astrocyte\",\n",
    "    \"4\": \"excitatory\",\n",
    "    \"5\": \"inhibitory1\",\n",
    "    \"6\": \"inhibitory2\",\n",
    "    \"10\": \"unk\"\n",
    "}"
   ]
  },
  {
   "cell_type": "code",
   "execution_count": null,
   "id": "5e0eb8ae-34a4-4d52-8779-c474068dc84d",
   "metadata": {
    "tags": []
   },
   "outputs": [],
   "source": [
    "atac.obs['celltype'] = [new_cluster_names[cl] for cl in atac.obs.leiden.astype(\"str\").values]\n",
    "atac.obs.celltype = atac.obs.celltype.astype(\"category\")"
   ]
  },
  {
   "cell_type": "code",
   "execution_count": null,
   "id": "662df264-4afb-4765-b79a-25ae1da593fc",
   "metadata": {
    "tags": []
   },
   "outputs": [],
   "source": [
    "sc.pl.umap(atac, color=\"celltype\")"
   ]
  },
  {
   "cell_type": "markdown",
   "id": "50e804ba-191c-41f0-a026-51dad7171c65",
   "metadata": {},
   "source": [
    "## 3. Multi-omics integration\n",
    "Discard cells that are not in both modalities."
   ]
  },
  {
   "cell_type": "code",
   "execution_count": null,
   "id": "3e64be0e-7d8f-48f6-a4f0-94dd51662119",
   "metadata": {
    "tags": []
   },
   "outputs": [],
   "source": [
    "mdata.update()"
   ]
  },
  {
   "cell_type": "code",
   "execution_count": null,
   "id": "5bc3f5cd-9ce3-4a04-b66e-6b87b7bcce73",
   "metadata": {
    "tags": []
   },
   "outputs": [],
   "source": [
    "mu.pp.intersect_obs(mdata)"
   ]
  },
  {
   "cell_type": "code",
   "execution_count": null,
   "id": "1d272a7c-4e5a-4a30-8e63-8066cb0490f3",
   "metadata": {
    "tags": []
   },
   "outputs": [],
   "source": [
    "mu.tl.mofa(mdata, n_factors=20, outfile=\"brain3k_mofa_model.hdf5\", gpu_mode=True)"
   ]
  },
  {
   "cell_type": "code",
   "execution_count": null,
   "id": "bc3d7b66-8ebf-46c9-bbc1-d856c4a23338",
   "metadata": {
    "tags": []
   },
   "outputs": [],
   "source": [
    "sc.pp.neighbors(mdata, use_rep=\"X_mofa\")\n",
    "sc.tl.umap(mdata, random_state=1)"
   ]
  },
  {
   "cell_type": "code",
   "execution_count": null,
   "id": "fd7525b1-7705-40a2-a3ad-f618a6c26ea0",
   "metadata": {
    "tags": []
   },
   "outputs": [],
   "source": [
    "mdata.obsm[\"X_mofa_umap\"] = mdata.obsm[\"X_umap\"]"
   ]
  },
  {
   "cell_type": "code",
   "execution_count": null,
   "id": "7b3c8f78-aeca-43a4-836a-ea5d22bad31b",
   "metadata": {
    "tags": []
   },
   "outputs": [],
   "source": [
    "mu.pl.embedding(mdata, basis=\"X_mofa_umap\", color=[\"rna:celltype\", \"atac:celltype\"])"
   ]
  },
  {
   "cell_type": "code",
   "execution_count": null,
   "id": "7876a5f0-ec05-4f9b-8fc1-20d5b2b59c2d",
   "metadata": {
    "tags": []
   },
   "outputs": [],
   "source": [
    "# Reference: https://github.com/scverse/muon/issues/65\n",
    "mdata.mod[\"atac\"].uns = {}\n",
    "mdata.mod[\"rna\"].uns = {}\n",
    "mdata.uns = {}"
   ]
  },
  {
   "cell_type": "code",
   "execution_count": null,
   "id": "65109166-f8ce-4fb7-8d62-49826c401ba0",
   "metadata": {
    "tags": []
   },
   "outputs": [],
   "source": [
    "rna.var.gene_ids = rna.var.gene_ids.astype(\"str\")\n",
    "atac.var.gene_ids = atac.var.gene_ids.astype(\"str\")"
   ]
  },
  {
   "cell_type": "code",
   "execution_count": null,
   "id": "7d454b42-634c-4a5e-8c55-81582bbf899b",
   "metadata": {
    "tags": []
   },
   "outputs": [],
   "source": [
    "atac.obsm[\"X_hvg\"] = atac[:, atac.var[\"highly_variable\"]].copy().X\n",
    "rna.obsm[\"X_hvg\"] = rna[:, rna.var[\"highly_variable\"]].copy().X"
   ]
  },
  {
   "cell_type": "code",
   "execution_count": null,
   "id": "3cac5913-487f-4077-b383-36abf881b808",
   "metadata": {
    "tags": []
   },
   "outputs": [],
   "source": [
    "mdata.mod[\"atac\"] = optimize_adata(\n",
    "    atac,\n",
    "    obs_cols=[\"leiden\", \"celltype\"],\n",
    "    obsm_keys=[\"X_pca\", \"X_umap\", \"X_hvg\"],\n",
    "    var_cols=[\"gene_ids\", \"feature_types\", \"genome\", \"interval\", \"highly_variable\"],\n",
    "    layer_keys=[\"counts\", \"lognorm\"]\n",
    ")\n",
    "mdata.mod[\"rna\"] = optimize_adata(\n",
    "    rna,\n",
    "    obs_cols=[\"leiden\", \"celltype\"],\n",
    "    obsm_keys=[\"X_pca\", \"X_umap\", \"X_hvg\"],\n",
    "    var_cols=[\"gene_ids\", \"feature_types\", \"genome\", \"interval\", \"highly_variable\"],\n",
    "    layer_keys=[\"counts\", \"lognorm\"]\n",
    ")"
   ]
  },
  {
   "cell_type": "code",
   "execution_count": null,
   "id": "d90569cb-3d3f-4b94-95b6-70bd1f0e44ff",
   "metadata": {
    "tags": []
   },
   "outputs": [],
   "source": [
    "# Fix issue during writing to zarr - this column contains bool and NaN\n",
    "mdata.var[\"rna:mt\"] = mdata.var[\"rna:mt\"].astype(str)"
   ]
  },
  {
   "cell_type": "code",
   "execution_count": null,
   "id": "ac778b9e-d223-4260-a679-9734abc8a228",
   "metadata": {
    "tags": []
   },
   "outputs": [],
   "source": [
    "# TODO: sort var axis by genome (ATAC) and hierarchical clustering (RNA)"
   ]
  },
  {
   "cell_type": "code",
   "execution_count": null,
   "id": "23a18194-22f7-4436-afb4-329497b89abb",
   "metadata": {
    "tags": []
   },
   "outputs": [],
   "source": [
    "mdata"
   ]
  },
  {
   "cell_type": "code",
   "execution_count": null,
   "id": "1a12a69a-8d61-42fb-b042-ce7c32d2b311",
   "metadata": {
    "tags": []
   },
   "outputs": [],
   "source": [
    "mdata.write_zarr(join(\"data\", \"brain3k_processed.mdata.zarr\"))"
   ]
  },
  {
   "cell_type": "markdown",
   "id": "730b615d-d225-4b0e-835e-de1a0ff37f19",
   "metadata": {},
   "source": [
    "## Configure visualization"
   ]
  },
  {
   "cell_type": "code",
   "execution_count": null,
   "id": "d8340b1b-9a66-4420-bb84-d6d250823362",
   "metadata": {
    "tags": []
   },
   "outputs": [],
   "source": [
    "from mudata import read_zarr"
   ]
  },
  {
   "cell_type": "code",
   "execution_count": null,
   "id": "36adfcc1-e7be-411f-8db6-7e772420412b",
   "metadata": {
    "tags": []
   },
   "outputs": [],
   "source": [
    "!pwd"
   ]
  },
  {
   "cell_type": "code",
   "execution_count": null,
   "id": "94275b3b-1f60-4751-8e5d-193337834c74",
   "metadata": {
    "tags": []
   },
   "outputs": [],
   "source": [
    "mdata = read_zarr(join(\"..\", \"data\", \"brain3k_processed.mdata.zarr\"))\n",
    "mdata"
   ]
  },
  {
   "cell_type": "code",
   "execution_count": null,
   "id": "8a69b87a-9f23-4fec-9750-a38b0fc8ceb8",
   "metadata": {
    "tags": []
   },
   "outputs": [],
   "source": [
    "mdata.mod[\"atac\"].var"
   ]
  },
  {
   "cell_type": "code",
   "execution_count": null,
   "id": "8c11fdb2-8eee-4bac-b404-c9f0e5b884cb",
   "metadata": {
    "tags": []
   },
   "outputs": [],
   "source": [
    "in_mtx = mdata.mod[\"atac\"].layers[\"lognorm\"]\n",
    "in_clusters_df = mdata.mod[\"atac\"].obs\n",
    "in_barcodes_df = mdata.mod[\"atac\"].obs\n",
    "in_bins_df = mdata.mod[\"atac\"].var"
   ]
  },
  {
   "cell_type": "code",
   "execution_count": null,
   "id": "cb8959d9-989b-409d-8788-0f28a84ea514",
   "metadata": {
    "tags": []
   },
   "outputs": [],
   "source": [
    "in_bins_df"
   ]
  },
  {
   "cell_type": "code",
   "execution_count": null,
   "id": "6409ab5f-66ef-4d25-add5-bdb8687ec789",
   "metadata": {
    "tags": []
   },
   "outputs": [],
   "source": [
    "from vitessce.entities import GenomicProfiles\n",
    "import zarr\n",
    "import math"
   ]
  },
  {
   "cell_type": "code",
   "execution_count": null,
   "id": "cdb53b88-47bb-420b-b49f-e096fa775781",
   "metadata": {
    "tags": []
   },
   "outputs": [],
   "source": [
    "# The bin datafram consists of one column like chrName:binStart-binEnd\n",
    "def convert_bin_name_to_chr_name(bin_name):\n",
    "    try:\n",
    "        return bin_name[:bin_name.index(':')]\n",
    "    except ValueError:\n",
    "        return np.nan\n",
    "\n",
    "def convert_bin_name_to_chr_start(bin_name):\n",
    "    try:\n",
    "        return int(bin_name[bin_name.index(':') + 1:bin_name.index('-')])\n",
    "    except ValueError:\n",
    "        return np.nan\n",
    "\n",
    "def convert_bin_name_to_chr_end(bin_name):\n",
    "    try:\n",
    "        return int(bin_name[bin_name.index('-') + 1:])\n",
    "    except ValueError:\n",
    "        return np.nan\n",
    "\n",
    "\n",
    "in_bins_df[\"chr_name\"] = in_bins_df[\"interval\"].apply(\n",
    "    convert_bin_name_to_chr_name)\n",
    "in_bins_df[\"chr_start\"] = in_bins_df[\"interval\"].apply(\n",
    "    convert_bin_name_to_chr_start)\n",
    "in_bins_df[\"chr_end\"] = in_bins_df[\"interval\"].apply(\n",
    "    convert_bin_name_to_chr_end)\n",
    "\n",
    "# Drop any rows that had incorrect bin strings (missing a chromosome name, bin start, or bin end value).\n",
    "in_bins_df = in_bins_df.dropna(\n",
    "    subset=[\"chr_name\", \"chr_start\", \"chr_end\"]).copy()"
   ]
  },
  {
   "cell_type": "code",
   "execution_count": null,
   "id": "ff22b663-f049-405e-b696-d7211faa53ab",
   "metadata": {
    "tags": []
   },
   "outputs": [],
   "source": [
    "# Ensure that the columns have the expected types.\n",
    "in_bins_df[\"chr_name\"] = in_bins_df[\"chr_name\"].astype(str)\n",
    "in_bins_df[\"chr_start\"] = in_bins_df[\"chr_start\"].astype(int)\n",
    "in_bins_df[\"chr_end\"] = in_bins_df[\"chr_end\"].astype(int)\n",
    "\n",
    "in_bins_df = in_bins_df.reset_index(drop=True)\n",
    "in_bins_df = in_bins_df.drop(columns=[\"gene_ids\", \"feature_types\", \"genome\", \"highly_variable\"])"
   ]
  },
  {
   "cell_type": "code",
   "execution_count": null,
   "id": "145616f2-c292-415b-885d-4963b6eb60c2",
   "metadata": {
    "tags": []
   },
   "outputs": [],
   "source": [
    "in_bins_df"
   ]
  },
  {
   "cell_type": "code",
   "execution_count": null,
   "id": "3e4cf772-fed4-4b18-871a-c11fb13c60e1",
   "metadata": {
    "tags": []
   },
   "outputs": [],
   "source": [
    "interval_sizes = in_bins_df.apply(lambda row: row[\"chr_end\"] - row[\"chr_start\"], axis='columns')\n",
    "interval_sizes.max()"
   ]
  },
  {
   "cell_type": "code",
   "execution_count": null,
   "id": "bfe864d9-0f98-4555-86df-0dfbe5cc99b1",
   "metadata": {},
   "outputs": [],
   "source": [
    "# Round bins\n",
    "in_bins_df[\"chr_start_round\"] = in_bins_df[\"chr_start\"].apply(lambda x: math.floor(x / starting_resolution) * starting_resolution + 1)\n",
    "in_bins_df[\"chr_end_round\"] = in_bins_df[\"chr_start_round\"].apply(lambda x: x + starting_resolution - 1)\n",
    "# TODO: should the values need to be scaled based on the ratio of the original size of the interval to the rounded size?"
   ]
  },
  {
   "cell_type": "code",
   "execution_count": null,
   "id": "f46b765f-d370-43c9-a7b9-acbec24b696f",
   "metadata": {
    "tags": []
   },
   "outputs": [],
   "source": [
    "# Replace the original start/end values\n",
    "in_bins_df[\"chr_start\"] = in_bins_df[\"chr_start_round\"]\n",
    "in_bins_df[\"chr_end\"] = in_bins_df[\"chr_end_round\"]\n",
    "in_bins_df = in_bins_df.drop(columns=[\"chr_start_round\", \"chr_end_round\"])\n",
    "in_bins_df[\"interval\"] = in_bins_df.apply(lambda r: f\"{r['chr_name']}:{r['chr_start']}-{r['chr_end']}\", axis='columns')"
   ]
  },
  {
   "cell_type": "code",
   "execution_count": null,
   "id": "8019ac79-ebfd-4468-ba7d-77f5f7fde893",
   "metadata": {
    "tags": []
   },
   "outputs": [],
   "source": [
    "cluster_ids = in_clusters_df[\"celltype\"].unique().tolist()\n",
    "cluster_ids"
   ]
  },
  {
   "cell_type": "code",
   "execution_count": null,
   "id": "0fe796f5-c9e1-464c-a6ac-98211fd922a7",
   "metadata": {
    "tags": []
   },
   "outputs": [],
   "source": [
    "cluster_paths = [[\"Cell Type\", cluster_id] for cluster_id in cluster_ids]\n",
    "starting_resolution=5000"
   ]
  },
  {
   "cell_type": "code",
   "execution_count": null,
   "id": "45e0a4c4-3ae6-4f8d-9d75-235f4943d36b",
   "metadata": {
    "tags": []
   },
   "outputs": [],
   "source": [
    "# Create the Zarr store for the outputs.\n",
    "out_f = zarr.open(join(\"..\", \"data\", \"brain3k.multivec.zarr\"), mode='w')"
   ]
  },
  {
   "cell_type": "code",
   "execution_count": null,
   "id": "4a0dac1e-e04e-4d5a-85ba-290d87fc6a26",
   "metadata": {
    "tags": []
   },
   "outputs": [],
   "source": [
    "genomic_profiles = GenomicProfiles(\n",
    "    out_f, profile_paths=cluster_paths, assembly='hg38', starting_resolution=starting_resolution\n",
    ")\n",
    "chrom_name_to_length = genomic_profiles.chrom_name_to_length"
   ]
  },
  {
   "cell_type": "code",
   "execution_count": null,
   "id": "03c926a9-d512-4900-99a1-a331594904e4",
   "metadata": {},
   "outputs": [],
   "source": [
    "# Create each chromosome dataset.\n",
    "for chr_name, chr_len in chrom_name_to_length.items():\n",
    "    # The bins dataframe frustratingly does not contain every bin.\n",
    "    # We need to figure out which bins are missing.\n",
    "\n",
    "    # We want to check for missing bins in each chromosome separately,\n",
    "    # otherwise too much memory is used during the join step.\n",
    "    chr_bins_in_df = in_bins_df.loc[in_bins_df[\"chr_name\"] == chr_name]\n",
    "    if chr_bins_in_df.shape[0] == 0:\n",
    "        # No processing or output is necessary if there is no data for this chromosome.\n",
    "        # Continue on through all resolutions of this chromosome to the next chromosome.\n",
    "        continue\n",
    "    # Determine the indices of the matrix at which the bins for this chromosome start and end.\n",
    "    chr_bin_i_start = int(chr_bins_in_df.head(1).iloc[0].name)\n",
    "    chr_bin_i_end = int(chr_bins_in_df.tail(1).iloc[0].name) + 1\n",
    "\n",
    "    # Extract the part of the matrix corresponding to the current chromosome.\n",
    "    chr_mtx = in_mtx[:, chr_bin_i_start:chr_bin_i_end]\n",
    "\n",
    "    # Create a list of the \"ground truth\" bins (all bins from position 0 to the end of the chromosome).\n",
    "    # We will join the input bins onto this dataframe to determine which bins are missing.\n",
    "    chr_bins_gt_df = pd.DataFrame()\n",
    "    chr_bins_gt_df[\"chr_start\"] = np.arange(0, math.ceil(\n",
    "        chr_len / starting_resolution)) * starting_resolution\n",
    "    chr_bins_gt_df[\"chr_end\"] = chr_bins_gt_df[\"chr_start\"] + \\\n",
    "        starting_resolution\n",
    "    chr_bins_gt_df[\"chr_start\"] = chr_bins_gt_df[\"chr_start\"] + 1\n",
    "    chr_bins_gt_df[\"chr_start\"] = chr_bins_gt_df[\"chr_start\"].astype(\n",
    "        int)\n",
    "    chr_bins_gt_df[\"chr_end\"] = chr_bins_gt_df[\"chr_end\"].astype(int)\n",
    "    chr_bins_gt_df[\"chr_name\"] = chr_name\n",
    "    chr_bins_gt_df[0] = chr_bins_gt_df.apply(lambda r: f\"{r['chr_name']}:{r['chr_start']}-{r['chr_end']}\", axis='columns')\n",
    "    \n",
    "    # We will add a new column \"i\", which should match the _old_ index, so that we will be able join with the data matrix on the original indices.\n",
    "    # For the new rows, we will add values for the \"i\" column that are greater than any of the original indices,\n",
    "    # to prevent any joining with the incoming data matrix onto these bins for which the data is missing.\n",
    "    chr_bins_in_df = chr_bins_in_df.reset_index(drop=True)\n",
    "    chr_bins_in_df[\"i\"] = chr_bins_in_df.index.values\n",
    "    chr_bins_gt_df[\"i\"] = chr_bins_gt_df.index.values + \\\n",
    "        (in_mtx.shape[1] + 1)\n",
    "\n",
    "    # Set the full bin string column as the index of both data frames.\n",
    "    chr_bins_gt_df = chr_bins_gt_df.set_index(0)\n",
    "    chr_bins_in_df = chr_bins_in_df.set_index(\"interval\")\n",
    "\n",
    "    # Join the input bin subset dataframe right onto the full bin ground truth dataframe.\n",
    "    chr_bins_in_join_df = chr_bins_in_df.join(\n",
    "        chr_bins_gt_df, how='right', lsuffix=\"\", rsuffix=\"_gt\")\n",
    "    # The bins which were not present in the input will have NaN values in the \"i\" column.\n",
    "    # For these rows, we replace the NaN values with the much higher \"i_gt\" values which will not match to any index of the data matrix.\n",
    "    chr_bins_in_join_df[\"i\"] = chr_bins_in_join_df.apply(\n",
    "        lambda r: r['i'] if pd.notna(r['i']) else r['i_gt'], axis='columns').astype(int)\n",
    "\n",
    "    # Clean up the joined data frame by removing unnecessary columns.\n",
    "    chr_bins_in_join_df = chr_bins_in_join_df.drop(\n",
    "        columns=['chr_name', 'chr_start', 'chr_end', 'i_gt'])\n",
    "    chr_bins_in_join_df = chr_bins_in_join_df.rename(\n",
    "        columns={'chr_name_gt': 'chr_name', 'chr_start_gt': 'chr_start', 'chr_end_gt': 'chr_end'})\n",
    "\n",
    "    # Create a dataframe from the data matrix, so that we can join to the joined bins dataframe.\n",
    "    chr_mtx_df = pd.DataFrame(data=chr_mtx.T)\n",
    "\n",
    "    chr_bins_i_df = chr_bins_in_join_df.drop(\n",
    "        columns=['chr_name', 'chr_start', 'chr_end'])\n",
    "\n",
    "    # Join the data matrix dataframe and the bins dataframe.\n",
    "    # Bins that are missing from the data matrix will have \"i\" values higher than any of the data matrix dataframe row indices,\n",
    "    # and therefore the data values for these bins in the resulting joined dataframe will all be NaN.\n",
    "    chr_mtx_join_df = chr_bins_i_df.join(\n",
    "        chr_mtx_df, how='left', on='i')\n",
    "    # We fill in these NaN values with 0.\n",
    "    chr_mtx_join_df = chr_mtx_join_df.fillna(value=0.0)\n",
    "\n",
    "    # Drop the \"i\" column, since it is not necessary now that we have done the join.\n",
    "    chr_mtx_join_df = chr_mtx_join_df.drop(columns=['i'])\n",
    "    # Obtain the new full data matrix, which contains values for all bins of the chromosome.\n",
    "    chr_mtx = chr_mtx_join_df.values.T\n",
    "    \n",
    "    # Fill in the Zarr store with data for each cluster.\n",
    "    for cluster_index, cluster_id in enumerate(cluster_ids):\n",
    "        # Get the list of cells in the current cluster.\n",
    "        cluster_df = in_clusters_df.loc[in_clusters_df[\"celltype\"]\n",
    "                                        == cluster_id]\n",
    "        cluster_cell_ids = cluster_df.index.values.tolist()\n",
    "        cluster_cells_tf = (\n",
    "            in_barcodes_df.index.to_series().isin(cluster_cell_ids)).values\n",
    "\n",
    "        # Get the rows of the data matrix corresponding to the cells in this cluster.\n",
    "        cluster_cell_by_bin_mtx = chr_mtx[cluster_cells_tf, :]\n",
    "        # Take the sum of this cluster along the cells axis.\n",
    "        cluster_profile = cluster_cell_by_bin_mtx.sum(axis=0)\n",
    "        \n",
    "        # For some reason the matrix can contain intervals past the end of the\n",
    "        # chromosome according to the length from negspy,\n",
    "        # so we only keep those bins that fit.\n",
    "        profile_len = math.ceil(chr_len / starting_resolution)\n",
    "\n",
    "        genomic_profiles.add_profile(\n",
    "            cluster_profile[0:profile_len], chr_name, cluster_index)"
   ]
  },
  {
   "cell_type": "code",
   "execution_count": 3,
   "id": "1b4d767f-d02c-4a42-bca3-7409c49ec97f",
   "metadata": {
    "tags": []
   },
   "outputs": [],
   "source": [
    "from vitessce.wrappers import AbstractWrapper\n",
    "from vitessce.repr import make_repr\n",
    "from uuid import uuid4"
   ]
  },
  {
   "cell_type": "code",
   "execution_count": 4,
   "id": "0d0abd3c-d3cd-4188-bccc-184f384077f0",
   "metadata": {
    "tags": []
   },
   "outputs": [],
   "source": [
    "class MultivecZarrWrapper(AbstractWrapper):\n",
    "\n",
    "    def __init__(self, zarr_path=None, zarr_url=None, **kwargs):\n",
    "        super().__init__(**kwargs)\n",
    "        self._repr = make_repr(locals())\n",
    "        if zarr_url is not None and zarr_path is not None:\n",
    "            raise ValueError(\n",
    "                \"Did not expect zarr_path to be provided with zarr_url\")\n",
    "        if zarr_url is None and zarr_path is None:\n",
    "            raise ValueError(\n",
    "                \"Expected either zarr_url or zarr_path to be provided\")\n",
    "        self._zarr_path = zarr_path\n",
    "        self._zarr_url = zarr_url\n",
    "        if self._zarr_path is not None:\n",
    "            self.is_remote = False\n",
    "        else:\n",
    "            self.is_remote = True\n",
    "        self.local_dir_uid = str(uuid4())\n",
    "\n",
    "    def convert_and_save(self, dataset_uid, obj_i):\n",
    "        # Only create out-directory if needed\n",
    "        if not self.is_remote:\n",
    "            super().convert_and_save(dataset_uid, obj_i)\n",
    "\n",
    "        file_def_creator = self.make_genomic_profiles_file_def_creator(\n",
    "            dataset_uid, obj_i)\n",
    "        routes = self.make_genomic_profiles_routes(dataset_uid, obj_i)\n",
    "\n",
    "        self.file_def_creators.append(file_def_creator)\n",
    "        self.routes += routes\n",
    "\n",
    "    def make_genomic_profiles_routes(self, dataset_uid, obj_i):\n",
    "        if self.is_remote:\n",
    "            return []\n",
    "        else:\n",
    "            return self.get_local_dir_route(dataset_uid, obj_i, self._zarr_path, self.local_dir_uid)\n",
    "\n",
    "    def get_zarr_url(self, base_url=\"\", dataset_uid=\"\", obj_i=\"\"):\n",
    "        if self.is_remote:\n",
    "            return self._zarr_url\n",
    "        return self.get_local_dir_url(base_url, dataset_uid, obj_i, self.local_dir_uid)\n",
    "\n",
    "    def make_genomic_profiles_file_def_creator(self, dataset_uid, obj_i):\n",
    "        def genomic_profiles_file_def_creator(base_url):\n",
    "            return {\n",
    "                \"fileType\": \"genomic-profiles.zarr\",\n",
    "                \"url\": self.get_zarr_url(base_url, dataset_uid, obj_i)\n",
    "            }\n",
    "        return genomic_profiles_file_def_creator\n",
    "\n"
   ]
  },
  {
   "cell_type": "code",
   "execution_count": 5,
   "id": "5c3cb703-552d-4f4f-b5d4-21135f2b0a72",
   "metadata": {},
   "outputs": [],
   "source": [
    "from vitessce import (\n",
    "    VitessceConfig,\n",
    "    ViewType as vt,\n",
    "    CoordinationType as ct,\n",
    "    FileType as ft,\n",
    "    AnnDataWrapper,\n",
    "    OmeTiffWrapper,\n",
    ")"
   ]
  },
  {
   "cell_type": "code",
   "execution_count": 6,
   "id": "afd12cfb-ca00-4167-b4e7-bcd2d3110a22",
   "metadata": {},
   "outputs": [],
   "source": [
    "vc = VitessceConfig(schema_version=\"1.0.15\", name='Multiome data', description='RNA+ATAC')"
   ]
  },
  {
   "cell_type": "code",
   "execution_count": 7,
   "id": "e88f999f-8706-4b7e-b54e-ad7dd6db41d2",
   "metadata": {
    "tags": []
   },
   "outputs": [],
   "source": [
    "multivec_zarr = join(\"data\", \"brain3k.multivec.zarr\")\n",
    "rna_zarr = join(\"..\", \"data\", \"brain3k_processed.mdata.zarr\", \"mod\", \"rna\")\n",
    "atac_zarr = join(\"..\", \"data\", \"brain3k_processed.mdata.zarr\", \"mod\", \"atac\")\n",
    "joint_zarr = join(\"..\", \"data\", \"brain3k_processed.mdata.zarr\")"
   ]
  },
  {
   "cell_type": "code",
   "execution_count": 8,
   "id": "6c47d5bd-956b-4b37-8d9d-2c58ded9dda3",
   "metadata": {},
   "outputs": [],
   "source": [
    "dataset = vc.add_dataset(name='RNA+ATAC').add_object(AnnDataWrapper(\n",
    "    # We run add_object with adata_path=rna_zarr first to add the cell-by-gene matrix and associated metadata.\n",
    "    adata_path=rna_zarr,\n",
    "    obs_embedding_paths=[\"obsm/X_umap\"],\n",
    "    obs_embedding_names=[\"UMAP\"],\n",
    "    obs_set_paths=[\"obs/celltype\"],\n",
    "    obs_set_names=[\"Cell Type\"],\n",
    "    obs_feature_matrix_path=\"obsm/X_hvg\",\n",
    "    feature_filter_path=\"var/highly_variable\",\n",
    "    # To be explicit that the features represent genes and gene expression, we specify that here.\n",
    "    coordination_values={\n",
    "        \"featureType\": \"gene\",\n",
    "        \"featureValueType\": \"expression\"\n",
    "    }\n",
    ")).add_object(AnnDataWrapper(\n",
    "    # We next run add_object with adata_path=adt_zarr to add the cell-by-ADT matrix and associated metadata.\n",
    "    adata_path=atac_zarr,\n",
    "    obs_embedding_paths=[\"obsm/X_umap\"],\n",
    "    obs_embedding_names=[\"UMAP\"],\n",
    "    obs_set_paths=[\"obs/celltype\"],\n",
    "    obs_set_names=[\"Cell Type\"],\n",
    "    obs_feature_matrix_path=\"obsm/X_hvg\",\n",
    "    feature_filter_path=\"var/highly_variable\",\n",
    "    # If the features do not represent genes and gene expression, we specify alternate values here.\n",
    "    coordination_values={\n",
    "        \"featureType\": \"peak\",\n",
    "        \"featureValueType\": \"count\"\n",
    "    }\n",
    ")).add_object(MultivecZarrWrapper(\n",
    "    # We next run add_object with adata_path=adt_zarr to add the cell-by-ADT matrix and associated metadata.\n",
    "    zarr_path=multivec_zarr,\n",
    "))"
   ]
  },
  {
   "cell_type": "code",
   "execution_count": 9,
   "id": "24e65ebd-003d-4a25-8caa-1e0904e04ced",
   "metadata": {
    "tags": []
   },
   "outputs": [],
   "source": [
    "genomic_profiles = vc.add_view(vt.GENOMIC_PROFILES, dataset=dataset)\n",
    "scatter = vc.add_view(vt.SCATTERPLOT, dataset=dataset, mapping = \"UMAP\")\n",
    "cell_sets = vc.add_view(vt.OBS_SETS, dataset=dataset)\n",
    "\n",
    "vc.layout(genomic_profiles / (scatter | cell_sets));\n"
   ]
  },
  {
   "cell_type": "code",
   "execution_count": 10,
   "id": "c165a212-7535-4bbc-83ad-37386f8a3e83",
   "metadata": {
    "tags": []
   },
   "outputs": [
    {
     "data": {
      "application/vnd.jupyter.widget-view+json": {
       "model_id": "d8e35f4d2e1c4f1588d4b654f0ba5e00",
       "version_major": 2,
       "version_minor": 0
      },
      "text/plain": [
       "VitessceWidget(config={'version': '1.0.15', 'name': 'Multiome data', 'description': 'RNA+ATAC', 'datasets': [{…"
      ]
     },
     "execution_count": 10,
     "metadata": {},
     "output_type": "execute_result"
    }
   ],
   "source": [
    "vw = vc.widget(height=800)\n",
    "vw"
   ]
  },
  {
   "cell_type": "code",
   "execution_count": null,
   "id": "26683d33-7c2c-43ff-a518-a87a8b31d300",
   "metadata": {
    "tags": []
   },
   "outputs": [],
   "source": [
    "umap_scatterplot_by_rna = vc.add_view(vt.SCATTERPLOT, dataset=dataset, mapping=\"UMAP\")\n",
    "umap_scatterplot_by_atac = vc.add_view(vt.SCATTERPLOT, dataset=dataset, mapping=\"UMAP\")\n",
    "\n",
    "gene_list = vc.add_view(vt.FEATURE_LIST, dataset=dataset)\n",
    "peak_list = vc.add_view(vt.FEATURE_LIST, dataset=dataset)\n",
    "\n",
    "rna_heatmap = vc.add_view(vt.HEATMAP, dataset=dataset).set_props(transpose=False)\n",
    "atac_heatmap = vc.add_view(vt.HEATMAP, dataset=dataset).set_props(transpose=False)"
   ]
  },
  {
   "cell_type": "code",
   "execution_count": null,
   "id": "42fdde8f-ba02-45b9-9e80-266ce82f69b1",
   "metadata": {},
   "outputs": [],
   "source": [
    "# We need to specify which of the two features (i.e., genes or tags) the different plots correspond to.\n",
    "# We also need to make sure the selection of genes and tags are scoped to only the corresponding plots,\n",
    "# and we want to make sure the color mappings are independent for each modality.\n",
    "coordination_types = [ct.FEATURE_TYPE, ct.FEATURE_VALUE_TYPE, ct.FEATURE_SELECTION, ct.OBS_COLOR_ENCODING, ct.FEATURE_VALUE_COLORMAP_RANGE]\n",
    "vc.link_views([umap_scatterplot_by_rna, gene_list, rna_heatmap], coordination_types, [\"gene\", \"expression\", None, 'cellSetSelection', [0.0, 0.3]])\n",
    "vc.link_views([umap_scatterplot_by_atac, peak_list, atac_heatmap], coordination_types, [\"peak\", \"count\", None, 'cellSetSelection', [0.0, 1.0]])\n",
    "\n",
    "# We can link the two scatterplots on their zoom level and (X,Y) center point so that zooming/panning is coordinated.\n",
    "vc.link_views([umap_scatterplot_by_rna, umap_scatterplot_by_atac], [ct.EMBEDDING_ZOOM, ct.EMBEDDING_TARGET_X, ct.EMBEDDING_TARGET_Y], [3, 0, 0])"
   ]
  },
  {
   "cell_type": "code",
   "execution_count": null,
   "id": "f1a721a3-28de-403f-a954-dfe4ee56ae2f",
   "metadata": {},
   "outputs": [],
   "source": [
    "# We define a layout for the plots using two rows.\n",
    "# In the first row, we add the three gene-related visualizations,\n",
    "# and in the second row, we add the three ADT-related visualizations.\n",
    "vc.layout(\n",
    "    (rna_heatmap | (umap_scatterplot_by_rna | gene_list))\n",
    "    / (atac_heatmap | (umap_scatterplot_by_atac | peak_list))\n",
    ");"
   ]
  },
  {
   "cell_type": "code",
   "execution_count": null,
   "id": "c1f0bc50-40be-4a99-8c50-903136700c38",
   "metadata": {},
   "outputs": [],
   "source": [
    "vw = vc.widget()\n",
    "vw"
   ]
  },
  {
   "cell_type": "code",
   "execution_count": null,
   "id": "d3f82754-4ee1-40a2-9298-727c765850d2",
   "metadata": {},
   "outputs": [],
   "source": []
  },
  {
   "cell_type": "code",
   "execution_count": null,
   "id": "aeab7120-c663-405a-9e73-c924f6f0aa14",
   "metadata": {},
   "outputs": [],
   "source": []
  }
 ],
 "metadata": {
  "kernelspec": {
   "display_name": "Python 3 (ipykernel)",
   "language": "python",
   "name": "python3"
  },
  "language_info": {
   "codemirror_mode": {
    "name": "ipython",
    "version": 3
   },
   "file_extension": ".py",
   "mimetype": "text/x-python",
   "name": "python",
   "nbconvert_exporter": "python",
   "pygments_lexer": "ipython3",
   "version": "3.9.0"
  }
 },
 "nbformat": 4,
 "nbformat_minor": 5
}
